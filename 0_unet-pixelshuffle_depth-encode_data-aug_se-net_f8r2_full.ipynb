{
 "cells": [
  {
   "cell_type": "markdown",
   "metadata": {},
   "source": [
    "## Basic Modules\n",
    "\n",
    "Large UNet model, built from pre-activation residual blocks with squeeze-excitation, up-sampling uses blurred pixel-shuffle.\n",
    "Data augmentation provides four 90* rotations in xy plane, and a flip in the y axis, producing 7 extra copies of each volume. This is used during training and testing.\n",
    "\n",
    "IOU ~= 0.812"
   ]
  },
  {
   "cell_type": "code",
   "execution_count": 1,
   "metadata": {},
   "outputs": [],
   "source": [
    "%matplotlib inline\n",
    "%reload_ext autoreload\n",
    "%autoreload 2"
   ]
  },
  {
   "cell_type": "code",
   "execution_count": 2,
   "metadata": {},
   "outputs": [],
   "source": [
    "import pandas as pd\n",
    "import numpy as np\n",
    "import os\n",
    "import h5py\n",
    "import pickle\n",
    "from typing import *\n",
    "from functools import partial\n",
    "from pathlib import Path\n",
    "import sparse\n",
    "import matplotlib.pyplot as plt\n",
    "import seaborn as sns\n",
    "from sklearn.pipeline import Pipeline\n",
    "from fastprogress import progress_bar, master_bar\n",
    "\n",
    "from lumin.data_processing.file_proc import *\n",
    "from lumin.nn.data.fold_yielder import *\n",
    "from lumin.nn.data.fold_yielder import FoldYielder\n",
    "from lumin.optimisation.hyper_param import lr_find\n",
    "from lumin.nn.callbacks.cyclic_callbacks import *\n",
    "from lumin.nn.metrics.eval_metric import EvalMetric\n",
    "from lumin.nn.models.model_builder import ModelBuilder\n",
    "from lumin.nn.models.model import Model\n",
    "from lumin.nn.models.blocks.body import *\n",
    "from lumin.nn.models.helpers import CatEmbedder\n",
    "from lumin.nn.models.blocks.head import *\n",
    "from lumin.nn.models.blocks.head import AbsHead, AbsMatrixHead\n",
    "from lumin.nn.models.blocks.tail import *\n",
    "from lumin.nn.models.initialisations import lookup_normal_init\n",
    "from lumin.nn.models.layers.activations import lookup_act\n",
    "from lumin.nn.models.layers.batchnorms import RunningBatchNorm3d\n",
    "from lumin.nn.training.train import train_models\n",
    "from lumin.nn.models.blocks.conv_blocks import SEBlock3d\n",
    "from lumin.nn.ensemble.ensemble import Ensemble\n",
    "\n",
    "import torch\n",
    "from torch import nn, Tensor\n",
    "import torch.nn.functional as F"
   ]
  },
  {
   "cell_type": "code",
   "execution_count": 3,
   "metadata": {},
   "outputs": [],
   "source": [
    "GPUID = 0"
   ]
  },
  {
   "cell_type": "code",
   "execution_count": 4,
   "metadata": {},
   "outputs": [],
   "source": [
    "torch.cuda.set_device(GPUID)"
   ]
  },
  {
   "cell_type": "code",
   "execution_count": 5,
   "metadata": {},
   "outputs": [],
   "source": [
    "PATH = Path(f'../data_{GPUID}/')"
   ]
  },
  {
   "cell_type": "markdown",
   "metadata": {
    "heading_collapsed": true
   },
   "source": [
    "## Loading"
   ]
  },
  {
   "cell_type": "code",
   "execution_count": 6,
   "metadata": {
    "hidden": true
   },
   "outputs": [],
   "source": [
    "RAWPATH = Path(f'../data/')"
   ]
  },
  {
   "cell_type": "code",
   "execution_count": 7,
   "metadata": {
    "hidden": true
   },
   "outputs": [],
   "source": [
    "h5 = h5py.File(RAWPATH/'train.h5', 'r')"
   ]
  },
  {
   "cell_type": "code",
   "execution_count": 8,
   "metadata": {
    "hidden": true
   },
   "outputs": [
    {
     "data": {
      "text/plain": [
       "(106129, 10, 10, 10)"
      ]
     },
     "execution_count": 8,
     "metadata": {},
     "output_type": "execute_result"
    }
   ],
   "source": [
    "h5['targs'].shape"
   ]
  },
  {
   "cell_type": "code",
   "execution_count": 9,
   "metadata": {
    "hidden": true
   },
   "outputs": [],
   "source": [
    "n_train = int(0.8*h5['targs'].shape[0])"
   ]
  },
  {
   "cell_type": "code",
   "execution_count": 10,
   "metadata": {
    "hidden": true
   },
   "outputs": [],
   "source": [
    "train_x = h5['x0'][:n_train]\n",
    "train_y = h5['targs'][:n_train]\n",
    "valid_x = h5['x0'][n_train:]\n",
    "valid_y = h5['targs'][n_train:]"
   ]
  },
  {
   "cell_type": "code",
   "execution_count": 11,
   "metadata": {
    "hidden": true
   },
   "outputs": [
    {
     "data": {
      "text/plain": [
       "((84903, 10, 10, 10), (21226, 10, 10, 10))"
      ]
     },
     "execution_count": 11,
     "metadata": {},
     "output_type": "execute_result"
    }
   ],
   "source": [
    "train_x.shape, valid_y.shape"
   ]
  },
  {
   "cell_type": "code",
   "execution_count": 12,
   "metadata": {
    "hidden": true
   },
   "outputs": [],
   "source": [
    "h5.close()"
   ]
  },
  {
   "cell_type": "code",
   "execution_count": 13,
   "metadata": {
    "hidden": true
   },
   "outputs": [],
   "source": [
    "with h5py.File(RAWPATH/'test.h5', 'r') as h5:\n",
    "    test_x = h5['x0'][()]"
   ]
  },
  {
   "cell_type": "markdown",
   "metadata": {
    "heading_collapsed": true
   },
   "source": [
    "## Preproc"
   ]
  },
  {
   "cell_type": "code",
   "execution_count": 14,
   "metadata": {
    "hidden": true
   },
   "outputs": [],
   "source": [
    "mean = train_x.mean()\n",
    "std = train_x.std()"
   ]
  },
  {
   "cell_type": "code",
   "execution_count": 15,
   "metadata": {
    "hidden": true
   },
   "outputs": [
    {
     "data": {
      "text/plain": [
       "(0.06233585, 0.27431273)"
      ]
     },
     "execution_count": 15,
     "metadata": {},
     "output_type": "execute_result"
    }
   ],
   "source": [
    "mean, std"
   ]
  },
  {
   "cell_type": "code",
   "execution_count": 16,
   "metadata": {
    "hidden": true
   },
   "outputs": [],
   "source": [
    "train_x -= mean\n",
    "valid_x -= mean\n",
    "test_x -= mean"
   ]
  },
  {
   "cell_type": "code",
   "execution_count": 17,
   "metadata": {
    "hidden": true
   },
   "outputs": [],
   "source": [
    "train_x /= std\n",
    "valid_x /= std\n",
    "test_x /= std"
   ]
  },
  {
   "cell_type": "code",
   "execution_count": 19,
   "metadata": {
    "hidden": true
   },
   "outputs": [
    {
     "data": {
      "text/plain": [
       "(2.2023823e-07, 1.0000015)"
      ]
     },
     "execution_count": 19,
     "metadata": {},
     "output_type": "execute_result"
    }
   ],
   "source": [
    "train_x.mean(), train_x.std()"
   ]
  },
  {
   "cell_type": "code",
   "execution_count": 20,
   "metadata": {
    "hidden": true
   },
   "outputs": [
    {
     "data": {
      "text/plain": [
       "(-1.4581255e-05, 0.99940884)"
      ]
     },
     "execution_count": 20,
     "metadata": {},
     "output_type": "execute_result"
    }
   ],
   "source": [
    "valid_x.mean(), valid_x.std()"
   ]
  },
  {
   "cell_type": "code",
   "execution_count": 21,
   "metadata": {
    "hidden": true
   },
   "outputs": [
    {
     "data": {
      "text/plain": [
       "(0.00015656027, 1.0043961)"
      ]
     },
     "execution_count": 21,
     "metadata": {},
     "output_type": "execute_result"
    }
   ],
   "source": [
    "test_x.mean(), test_x.std()"
   ]
  },
  {
   "cell_type": "markdown",
   "metadata": {
    "heading_collapsed": true
   },
   "source": [
    "## Saving"
   ]
  },
  {
   "cell_type": "code",
   "execution_count": 22,
   "metadata": {
    "hidden": true
   },
   "outputs": [
    {
     "data": {
      "text/plain": [
       "(84903, 10, 10, 10)"
      ]
     },
     "execution_count": 22,
     "metadata": {},
     "output_type": "execute_result"
    }
   ],
   "source": [
    "train_y.shape"
   ]
  },
  {
   "cell_type": "code",
   "execution_count": 23,
   "metadata": {
    "hidden": true
   },
   "outputs": [
    {
     "data": {
      "text/plain": [
       "(84903, 1000)"
      ]
     },
     "execution_count": 23,
     "metadata": {},
     "output_type": "execute_result"
    }
   ],
   "source": [
    "train_y.reshape(len(train_y), 1000).shape"
   ]
  },
  {
   "cell_type": "code",
   "execution_count": 25,
   "metadata": {
    "hidden": true
   },
   "outputs": [],
   "source": [
    "def to_ff(out_name:str, x0:np.ndarray, targs:np.ndarray, as_sparse:bool, n_folds:int=10, shuffle:bool=True) -> None:\n",
    "    df2foldfile(df=None, n_folds=n_folds, shuffle=shuffle,\n",
    "                targ_feats='gen_target', savename=out_name, targ_type='int', tensor_target=targs.reshape(len(targs), -1),\n",
    "                cont_feats=[], cat_feats=[], tensor_data=x0[:,None], tensor_name='x0', compression='lzf', tensor_target_as_sparse=as_sparse)"
   ]
  },
  {
   "cell_type": "code",
   "execution_count": 27,
   "metadata": {
    "hidden": true
   },
   "outputs": [
    {
     "name": "stdout",
     "output_type": "stream",
     "text": [
      "Saving fold 0 with 8491 events\n",
      "Saving fold 1 with 8491 events\n",
      "Saving fold 2 with 8491 events\n",
      "Saving fold 3 with 8490 events\n",
      "Saving fold 4 with 8490 events\n",
      "Saving fold 5 with 8490 events\n",
      "Saving fold 6 with 8490 events\n",
      "Saving fold 7 with 8490 events\n",
      "Saving fold 8 with 8490 events\n",
      "Saving fold 9 with 8490 events\n"
     ]
    }
   ],
   "source": [
    "to_ff(PATH/'train_lumin_full', train_x, train_y, as_sparse=True)"
   ]
  },
  {
   "cell_type": "code",
   "execution_count": 28,
   "metadata": {
    "hidden": true
   },
   "outputs": [
    {
     "name": "stdout",
     "output_type": "stream",
     "text": [
      "Saving fold 0 with 2123 events\n",
      "Saving fold 1 with 2123 events\n",
      "Saving fold 2 with 2123 events\n",
      "Saving fold 3 with 2123 events\n",
      "Saving fold 4 with 2123 events\n",
      "Saving fold 5 with 2123 events\n",
      "Saving fold 6 with 2122 events\n",
      "Saving fold 7 with 2122 events\n",
      "Saving fold 8 with 2122 events\n",
      "Saving fold 9 with 2122 events\n"
     ]
    }
   ],
   "source": [
    "to_ff(PATH/'valid_lumi_full', valid_x, valid_y, as_sparse=True)"
   ]
  },
  {
   "cell_type": "code",
   "execution_count": 30,
   "metadata": {
    "hidden": true
   },
   "outputs": [
    {
     "name": "stdout",
     "output_type": "stream",
     "text": [
      "Saving fold 0 with 3004 events\n",
      "Saving fold 1 with 3004 events\n",
      "Saving fold 2 with 3004 events\n",
      "Saving fold 3 with 3004 events\n",
      "Saving fold 4 with 3004 events\n",
      "Saving fold 5 with 3004 events\n",
      "Saving fold 6 with 3003 events\n",
      "Saving fold 7 with 3003 events\n",
      "Saving fold 8 with 3003 events\n",
      "Saving fold 9 with 3003 events\n"
     ]
    }
   ],
   "source": [
    "to_ff(PATH/'test_lumin', test_x, test_x, as_sparse=True, shuffle=False)"
   ]
  },
  {
   "cell_type": "markdown",
   "metadata": {},
   "source": [
    "## Load data"
   ]
  },
  {
   "cell_type": "markdown",
   "metadata": {},
   "source": [
    "Class below handles data loading, and can either provide random or fixed augmentation when loading batches"
   ]
  },
  {
   "cell_type": "code",
   "execution_count": 6,
   "metadata": {},
   "outputs": [],
   "source": [
    "class AugFoldYielder(FoldYielder):\n",
    "    def __init__(self, foldfile:Union[str,Path,h5py.File], cont_feats:Optional[List[str]]=None, cat_feats:Optional[List[str]]=None,\n",
    "                 ignore_feats:Optional[List[str]]=None,\n",
    "                 train_time_aug:bool=True, test_time_aug:bool=True,\n",
    "                 input_pipe:Optional[Pipeline]=None, output_pipe:Optional[Pipeline]=None,\n",
    "                 yield_matrix:bool=True, matrix_pipe:Optional[Union[str,Pipeline]]=None):\n",
    "        super().__init__(foldfile=foldfile, cont_feats=cont_feats, cat_feats=cat_feats,\n",
    "                         ignore_feats=ignore_feats, input_pipe=input_pipe, output_pipe=output_pipe,\n",
    "                         yield_matrix=yield_matrix, matrix_pipe=matrix_pipe)\n",
    "\n",
    "        self.train_time_aug,self.test_time_aug = train_time_aug,test_time_aug\n",
    "        self.augmented,self.aug_mult = True,8\n",
    "        \n",
    "    def _rotate(self, x0:np.ndarray, targ:np.ndarray, rot:int) -> Tuple[np.ndarray, np.ndarray]:\n",
    "        x0 = np.rot90(x0, rot, (-1,-2))\n",
    "        targ = np.rot90(targ, rot, (-1,-2))\n",
    "        return x0, targ\n",
    "    \n",
    "    def _flip_x(self, x0:np.ndarray, targ:np.ndarray) -> Tuple[np.ndarray, np.ndarray]: \n",
    "        x0 = np.flip(x0, -2)\n",
    "        targ = np.flip(targ, -2)\n",
    "        return x0, targ\n",
    "            \n",
    "    def get_fold(self, idx:int) -> Dict[str,np.ndarray]:\n",
    "        fold = super().get_fold(idx)\n",
    "        \n",
    "        x0 = fold['inputs'][1]\n",
    "        targ = fold['targets'].reshape(x0.shape)\n",
    "        \n",
    "        x0, targ = self._rotate(x0, targ, np.random.randint(4))\n",
    "        if np.random.rand(1) >= 0.5: x0, targ = self._flip_x(x0, targ)\n",
    "            \n",
    "        fold['inputs'] = (fold['inputs'][0],x0.copy())\n",
    "        fold['targets'] = targ.reshape(len(x0), -1).copy()\n",
    "        return fold\n",
    "    \n",
    "    def get_test_fold(self, idx:int, aug_idx:int) -> Dict[str, np.ndarray]:\n",
    "        if aug_idx >= self.aug_mult: raise ValueError(f\"Invalid augmentation idx passed {aug_idx}\")\n",
    "        fold = super().get_fold(idx)\n",
    "        \n",
    "        x0 = fold['inputs'][1]\n",
    "        targ = fold['targets'].reshape(x0.shape)\n",
    "        \n",
    "        x0, targ = self._rotate(x0, targ, aug_idx%4)\n",
    "        if aug_idx >= 4: x0, targ = self._flip_x(x0, targ)\n",
    "            \n",
    "        fold['inputs'] = (fold['inputs'][0],x0.copy())\n",
    "        fold['targets'] = targ.reshape(len(x0), -1).copy()\n",
    "        return fold"
   ]
  },
  {
   "cell_type": "code",
   "execution_count": 7,
   "metadata": {},
   "outputs": [],
   "source": [
    "train_fy = AugFoldYielder(PATH/'train_lumin_full.hdf5')"
   ]
  },
  {
   "cell_type": "code",
   "execution_count": 8,
   "metadata": {},
   "outputs": [
    {
     "data": {
      "text/plain": [
       "<HDF5 dataset \"targets\": shape (3, 575474), type \"<i8\">"
      ]
     },
     "execution_count": 8,
     "metadata": {},
     "output_type": "execute_result"
    }
   ],
   "source": [
    "train_fy.foldfile['fold_0']['targets']"
   ]
  },
  {
   "cell_type": "markdown",
   "metadata": {},
   "source": [
    "## Model Building\n",
    "\n",
    "No 3D pixel shuffle in PyTorch, therefore make own"
   ]
  },
  {
   "cell_type": "code",
   "execution_count": 9,
   "metadata": {},
   "outputs": [],
   "source": [
    "class PixelShuffle1d(nn.Module):\n",
    "    def __init__(self, upscale_factor: int):\n",
    "        ''' Based on https://github.com/gap370/pixelshuffle3d/blob/master/pixelshuffle3d.py'''\n",
    "        super().__init__()\n",
    "        self.upscale_factor = upscale_factor\n",
    "        \n",
    "    def forward(self,  x:Tensor) -> Tensor:\n",
    "        b,cin,xin = x.size()\n",
    "        cout,xout = cin//self.upscale_factor,xin*self.upscale_factor\n",
    "        x = x.reshape(b, cout, self.upscale_factor, xin)\n",
    "        x = x.permute(0,1,3,2)\n",
    "        return x.reshape(b,cout,xout)"
   ]
  },
  {
   "cell_type": "code",
   "execution_count": 10,
   "metadata": {},
   "outputs": [],
   "source": [
    "class PixelShuffle2d(nn.Module):\n",
    "    def __init__(self, upscale_factor: int):\n",
    "        ''' Based on https://github.com/gap370/pixelshuffle3d/blob/master/pixelshuffle3d.py'''\n",
    "        super().__init__()\n",
    "        self.upscale_factor = upscale_factor\n",
    "        \n",
    "    def forward(self,  x:Tensor) -> Tensor:\n",
    "        b,cin,xin,yin = x.size()\n",
    "        cout,xout,yout = cin//(self.upscale_factor**2),xin*self.upscale_factor,yin*self.upscale_factor\n",
    "        x = x.reshape(b, cout, self.upscale_factor, self.upscale_factor, xin, yin)\n",
    "        x = x.permute(0,1,4,2,5,3)\n",
    "        return x.reshape(b,cout,xout,yout)"
   ]
  },
  {
   "cell_type": "code",
   "execution_count": 11,
   "metadata": {},
   "outputs": [],
   "source": [
    "class PixelShuffle3d(nn.Module):\n",
    "    def __init__(self, upscale_factor: int):\n",
    "        ''' Based on https://github.com/gap370/pixelshuffle3d/blob/master/pixelshuffle3d.py'''\n",
    "        super().__init__()\n",
    "        self.upscale_factor = upscale_factor\n",
    "        \n",
    "    def forward(self,  x:Tensor) -> Tensor:\n",
    "        b,cin,zin,xin,yin = x.size()\n",
    "        cout,zout,xout,yout = cin//(self.upscale_factor**3),zin*self.upscale_factor,xin*self.upscale_factor,yin*self.upscale_factor\n",
    "        x = x.reshape(b, cout, self.upscale_factor, self.upscale_factor, self.upscale_factor, zin, xin, yin)\n",
    "        x = x.permute(0,1,5,2,6,3,7,4)\n",
    "        return x.reshape(b,cout,zout,xout,yout)"
   ]
  },
  {
   "cell_type": "code",
   "execution_count": 12,
   "metadata": {},
   "outputs": [],
   "source": [
    "x = torch.rand(1,8,4,4)\n",
    "assert (nn.PixelShuffle(2)(x) == PixelShuffle2d(2)(x)).all()"
   ]
  },
  {
   "cell_type": "markdown",
   "metadata": {},
   "source": [
    "Custom UNet based on pre-activation residual blocks, with optional squeeze-excitation and depth encoding"
   ]
  },
  {
   "cell_type": "code",
   "execution_count": 13,
   "metadata": {},
   "outputs": [],
   "source": [
    "class UNet(AbsMatrixHead):\n",
    "    def __init__(self, shape:Tuple[int], act:str='swish', bn:bool=False, do:Optional[float]=None,\n",
    "                 n_filters:int=16, ks_init:int=3, n_res_per_size:int=2, se_net_r:Optional[float]=None,\n",
    "                 encode_depth:bool=False, bn_class:Callable[[int],nn.Module]=nn.BatchNorm3d,\n",
    "                 lookup_init:Callable[[str,Optional[int],Optional[int]],Callable[[Tensor],None]]=lookup_normal_init,\n",
    "                 lookup_act:Callable[[str],Any]=lookup_act, freeze:bool=False, **kwargs):\n",
    "        r'''\n",
    "        Inherits from abstract LUMIN head block for matrix data\n",
    "        \n",
    "        Arguments:\n",
    "            shape: c,z,x,y shape of tensor to expect (no batch dim)\n",
    "            act: activation function to use\n",
    "            bn: whether to use batchnorm\n",
    "            do: dropout probabibilty (not implemented)\n",
    "            n_filters: basis for number of channels in each level\n",
    "            ks_init: kernal size for initial conv layer\n",
    "            n_res_per_size: number of residual blocks per downsampling/upsampling stage\n",
    "            se_net_r: reduction coef for squeeze excitation blocks n_middle = n_in // r, None = no SE\n",
    "            encode_depth: adds z-layer inidcator feature before first and last blocks\n",
    "        '''\n",
    "        \n",
    "        super().__init__(cont_feats=[], vecs=[], feats_per_vec=[], lookup_init=lookup_init, lookup_act=lookup_act, freeze=freeze)\n",
    "        self.shape = shape\n",
    "        self.act,self.bn,self.do,self.bn_class,self.se_net_r = act,bn,do,bn_class,se_net_r\n",
    "        if self.do is not None: raise NotImplementedError('Implement Dropout')\n",
    "        self.n_filters,self.ks_init,self.n_res_per_size,self.encode_depth = n_filters,ks_init,n_res_per_size,encode_depth\n",
    "            \n",
    "        self._make_layers()        \n",
    "        self.out_sz = self.check_out_sz()\n",
    "        if self.freeze: self.freeze_layers()\n",
    "        self._map_outputs()\n",
    "        \n",
    "    def _make_layers(self) -> None:\n",
    "        # 1,10 -> n_filters, 10\n",
    "        self.input_block = nn.Sequential(self._get_conv_layer(2 if self.encode_depth else 1, self.n_filters, kernel_size=self.ks_init, preact=False),\n",
    "                                         *[self.ResBlock(self.n_filters, self.n_filters, parent=self)\n",
    "                                           for _ in range(self.n_res_per_size)])\n",
    "        # n_filters, 10 -> 2*n_filters, 5\n",
    "        self.down_block_1 = nn.Sequential(self.ResBlock(self.n_filters, self.n_filters*2, stride=2, parent=self),\n",
    "                                          *[self.ResBlock(self.n_filters*2, self.n_filters*2, parent=self)\n",
    "                                            for _ in range(self.n_res_per_size-1)])\n",
    "        # 2*n_filters, 5 -> 4*n_filters, 3\n",
    "        self.down_block_2 = nn.Sequential(self.ResBlock(self.n_filters*2, self.n_filters*4, stride=2, parent=self),\n",
    "                                          *[self.ResBlock(self.n_filters*4, self.n_filters*4, parent=self)\n",
    "                                            for _ in range(self.n_res_per_size-1)])\n",
    "        # 4*n_filters, 3 -> 8*n_filters, 2\n",
    "        self.down_block_3 = nn.Sequential(self.ResBlock(self.n_filters*4, self.n_filters*8, stride=2, parent=self),\n",
    "                                          *[self.ResBlock(self.n_filters*8, self.n_filters*8, parent=self)\n",
    "                                            for _ in range(self.n_res_per_size-1)])\n",
    "        # 8*n_filters, 2 -> 4*n_filters, 3\n",
    "        self.up_block_3 = nn.Sequential(self.PixelShuffleUpConv(self.n_filters*8, pad=False, parent=self),\n",
    "                                        self.ResBlock(self.n_filters*8, self.n_filters*4, parent=self),\n",
    "                                        *[self.ResBlock(self.n_filters*4, self.n_filters*4, parent=self)\n",
    "                                          for _ in range(self.n_res_per_size-1)])\n",
    "        # 4*n_filters, 3 -> 2*n_filters, 5\n",
    "        self.up_block_2 = nn.Sequential(self.PixelShuffleUpConv(self.n_filters*4, pad=False, parent=self),\n",
    "                                        self.ResBlock(self.n_filters*4, self.n_filters*2, parent=self),\n",
    "                                        *[self.ResBlock(self.n_filters*2, self.n_filters*2, parent=self)\n",
    "                                          for _ in range(self.n_res_per_size-1)])\n",
    "        # 4*n_filters, 3 -> n_filters, 10\n",
    "        self.up_block_1 = nn.Sequential(self.PixelShuffleUpConv(self.n_filters*2, pad=True, parent=self),\n",
    "                                        self.ResBlock(self.n_filters*2, self.n_filters, parent=self),\n",
    "                                        *[self.ResBlock(self.n_filters, self.n_filters, parent=self)\n",
    "                                          for _ in range(self.n_res_per_size-1)])\n",
    "        self.output_block = nn.Sequential(self._get_conv_layer(self.n_filters+1 if self.encode_depth else self.n_filters, 1, preact=True, bias=True),\n",
    "                                          nn.Sigmoid())\n",
    "        self.lookup_init('sigmoid')(self.output_block[0][-1].weight)\n",
    "        \n",
    "    class ResBlock(nn.Module):\n",
    "        def __init__(self, nin:int, nout:int, parent:'UNet', stride:int=1):\n",
    "            super().__init__()\n",
    "            self._get_conv,self._get_conv_layer = parent._get_conv,parent._get_conv_layer\n",
    "            self.act,self.bn,self.bn_class = parent.act,parent.bn,parent.bn_class,\n",
    "            self.lookup_act,self.lookup_init = parent.lookup_act,parent.lookup_init\n",
    "            \n",
    "            self.conv_path = self._get_conv_path(nin, nout, stride, parent.se_net_r)\n",
    "            self.shortcut = self._get_shortcut(nin, nout, stride) if stride != 1 or nin != nout else lambda x: x\n",
    "            \n",
    "        def _get_conv_path(self, nin:int, nout:int, stride:int, se_net_r:Optional[float]) -> nn.Sequential:  \n",
    "            layers = [self._get_conv_layer(nin=nin, nout=nout, kernel_size=3, stride=stride, preact=True),\n",
    "                      self._get_conv_layer(nin=nout, nout=nout, kernel_size=3, stride=1, preact=True)]\n",
    "            if se_net_r is not None:\n",
    "                layers.append(SEBlock3d(nout, se_net_r, act=self.act, lookup_init=self.lookup_init, lookup_act=self.lookup_act))\n",
    "            return nn.Sequential(*layers)\n",
    "            \n",
    "        def _get_shortcut(self, nin:int, nout:int, stride:int) -> nn.Sequential:\n",
    "            layers = [self.lookup_act(self.act)]\n",
    "            if self.bn: layers.append(self.bn_class(nin))\n",
    "            if stride != 1: layers.append(nn.AvgPool3d(3, stride=stride, padding=1, count_include_pad=False))\n",
    "            if nin != nout: layers.append(self._get_conv(nin=nin, nout=nout, act=self.act, kernel_size=1, stride=1, bias=False))\n",
    "            return nn.Sequential(*layers)\n",
    "        \n",
    "        def forward(self, x:Tensor) -> Tensor:\n",
    "            return self.conv_path(x)+self.shortcut(x)\n",
    "        \n",
    "    class PixelShuffleUpConv(nn.Module):\n",
    "        def __init__(self, nin:int, parent:'UNet', scale:int=2, pad:bool=True):\n",
    "            super().__init__()\n",
    "            self._get_conv,self._get_conv_layer = parent._get_conv,parent._get_conv_layer\n",
    "            self.act,self.bn,self.bn_class = parent.act,parent.bn,parent.bn_class,\n",
    "            self.lookup_act,self.lookup_init = parent.lookup_act,parent.lookup_init\n",
    "            \n",
    "            self.up_conv = self._get_layers(nin, scale, pad)\n",
    "            \n",
    "        def _get_layers(self, nin:int, scale:int, pad:bool) -> nn.Sequential:\n",
    "            layers = [self._get_conv_layer(nin=nin, nout=nin*(scale**2), kernel_size=1, stride=1, preact=True),\n",
    "                      PixelShuffle3d(scale)]\n",
    "            if pad: layers.append(nn.ReplicationPad3d((1,0,1,0,1,0)))\n",
    "            layers.append(nn.AvgPool3d(2, 1))\n",
    "            return nn.Sequential(*layers)\n",
    "            \n",
    "        def forward(self, x:Tuple[Tensor,Tensor]) -> Tensor:\n",
    "            x_up,x_skip = x[0],x[1]\n",
    "            x_up = self.up_conv(x_up)\n",
    "            return torch.cat((x_up, x_skip), dim=1)\n",
    "                \n",
    "    def _get_conv(self, nin:int, nout:int, act:str, kernel_size:int, stride:int, bias:bool) -> nn.Conv3d:\n",
    "        c = nn.Conv3d(nin, nout, kernel_size=kernel_size, stride=stride, padding=kernel_size//2, bias=bias)\n",
    "        self.lookup_init(act)(c.weight)\n",
    "        if bias: nn.init.zeros_(c.bias)\n",
    "        return c\n",
    "        \n",
    "    def _get_conv_layer(self, nin:int, nout:int, kernel_size:int=3, stride:int=1, bias:bool=False, preact:bool=True) -> nn.Sequential:\n",
    "        layers = []\n",
    "        if preact:\n",
    "            if self.bn: layers.append(self.bn_class(nin))\n",
    "            layers.append(self.lookup_act(self.act))\n",
    "        layers.append(self._get_conv(nin=nin, nout=nout, act=self.act, kernel_size=kernel_size, stride=stride, bias=bias))\n",
    "        if not preact:\n",
    "            layers.append(self.lookup_act(self.act))\n",
    "            if self.bn: layers.append(self.bn_class(nout))\n",
    "        return nn.Sequential(*layers)\n",
    "        \n",
    "    def forward(self, x:Tensor) -> Tensor:\n",
    "        x = self._process_input(x)\n",
    "        \n",
    "        if self.encode_depth:\n",
    "            depth = torch.arange(x.shape[2], device=x.device, dtype=torch.float32)[None,None,:,None,None].expand_as(x)\n",
    "            depth = depth-(x.shape[2]/2)\n",
    "            depth = depth/depth.std()\n",
    "            x = torch.cat((x,depth), dim=1)\n",
    "        \n",
    "        # Downsample\n",
    "        input = self.input_block(x)  # 1, 10 -> n_filters, 10 \n",
    "        down_1 = self.down_block_1(input)  # n_filters, 10 -> 2*n_filters, 5\n",
    "        down_2 = self.down_block_2(down_1)  # 2*n_filters, 5 -> 4*n_filters, 3\n",
    "        x = self.down_block_3(down_2)  # 4*n_filters, 3 -> 8*n_filters, 2\n",
    "        \n",
    "        # Upsample\n",
    "        x = self.up_block_3((x, down_2)) # 8*n_filters, 2 -> 4*n_filters, 3\n",
    "        x = self.up_block_2((x, down_1)) # 4*n_filters, 3 -> 2*n_filters, 5\n",
    "        x = self.up_block_1((x, input)) # 2*n_filters, 5 -> n_filters, 10\n",
    "        if self.encode_depth:\n",
    "            x = torch.cat((x,depth), dim=1)\n",
    "        x = self.output_block(x)  # n_filters, 10 -> 1, 10\n",
    "        return x.reshape(x.shape[0],-1)\n",
    "    \n",
    "    def _map_outputs(self) -> None:\n",
    "        self.feat_map = {}\n",
    "        for i, f in enumerate(self.cont_feats): self.feat_map[f] = list(range(self.get_out_size()))\n",
    "            \n",
    "    def check_out_sz(self) -> int:\n",
    "        r'''\n",
    "        Automatically computes the output size of the head by passing through random data of the expected shape\n",
    "\n",
    "        Returns:\n",
    "            x.size(-1) where x is the outgoing tensor from the head\n",
    "        '''\n",
    "\n",
    "        x = torch.zeros((1, *self.shape))\n",
    "        training = self.training\n",
    "        self.eval()\n",
    "        x = self.forward(x)\n",
    "        if training: self.train()\n",
    "        return x.size(-1)\n",
    "    \n",
    "    def get_out_size(self) -> int:\n",
    "        r'''\n",
    "        Get size of output\n",
    "\n",
    "        Returns:\n",
    "            Width of output representation\n",
    "        '''\n",
    "        \n",
    "        return self.out_sz"
   ]
  },
  {
   "cell_type": "markdown",
   "metadata": {},
   "source": [
    "Use soft-IOU as loss function"
   ]
  },
  {
   "cell_type": "code",
   "execution_count": 14,
   "metadata": {},
   "outputs": [],
   "source": [
    "class BinarySoftIOULoss(nn.Module):\n",
    "    def __init__(self, use_square_sum:bool=False, smooth=1e-17):\n",
    "        super().__init__()\n",
    "        self.use_square_sum,self.smooth = use_square_sum,smooth\n",
    "        \n",
    "    def forward(self, input: Tensor, target: Tensor) -> Tensor:\n",
    "        inter = (input*target).sum(-1)\n",
    "        union = input.square().sum(-1) if self.use_square_sum else input.sum(-1)\n",
    "        union = union+target.sum(-1)-inter\n",
    "        return 1-((inter+self.smooth)/(union+self.smooth)).mean()"
   ]
  },
  {
   "cell_type": "markdown",
   "metadata": {},
   "source": [
    "Lumin model builder. Place entire model as the head block, body and tail blocks just pass input straight to output."
   ]
  },
  {
   "cell_type": "code",
   "execution_count": 15,
   "metadata": {
    "scrolled": false
   },
   "outputs": [
    {
     "name": "stdout",
     "output_type": "stream",
     "text": [
      "Inputs:\n",
      "0 Continuous: []\n",
      "                   \n",
      "0  Categorical: []\n",
      "                   \n",
      "0  Matrix elements: []\n",
      "                   \n",
      "\n",
      "Model:\n",
      "<bound method Module.parameters of Sequential(\n",
      "  (0): UNet(\n",
      "    (input_block): Sequential(\n",
      "      (0): Sequential(\n",
      "        (0): Conv3d(2, 8, kernel_size=(3, 3, 3), stride=(1, 1, 1), padding=(1, 1, 1), bias=False)\n",
      "        (1): Swish()\n",
      "        (2): BatchNorm3d(8, eps=1e-05, momentum=0.1, affine=True, track_running_stats=True)\n",
      "      )\n",
      "      (1): ResBlock(\n",
      "        (conv_path): Sequential(\n",
      "          (0): Sequential(\n",
      "            (0): BatchNorm3d(8, eps=1e-05, momentum=0.1, affine=True, track_running_stats=True)\n",
      "            (1): Swish()\n",
      "            (2): Conv3d(8, 8, kernel_size=(3, 3, 3), stride=(1, 1, 1), padding=(1, 1, 1), bias=False)\n",
      "          )\n",
      "          (1): Sequential(\n",
      "            (0): BatchNorm3d(8, eps=1e-05, momentum=0.1, affine=True, track_running_stats=True)\n",
      "            (1): Swish()\n",
      "            (2): Conv3d(8, 8, kernel_size=(3, 3, 3), stride=(1, 1, 1), padding=(1, 1, 1), bias=False)\n",
      "          )\n",
      "          (2): SEBlock3d(\n",
      "            (layers): Sequential(\n",
      "              (0): Linear(in_features=8, out_features=2, bias=True)\n",
      "              (1): Swish()\n",
      "              (2): Linear(in_features=2, out_features=8, bias=True)\n",
      "              (3): Sigmoid()\n",
      "            )\n",
      "            (pool): AdaptiveAvgPool3d(output_size=[1, 1, 1])\n",
      "          )\n",
      "        )\n",
      "      )\n",
      "      (2): ResBlock(\n",
      "        (conv_path): Sequential(\n",
      "          (0): Sequential(\n",
      "            (0): BatchNorm3d(8, eps=1e-05, momentum=0.1, affine=True, track_running_stats=True)\n",
      "            (1): Swish()\n",
      "            (2): Conv3d(8, 8, kernel_size=(3, 3, 3), stride=(1, 1, 1), padding=(1, 1, 1), bias=False)\n",
      "          )\n",
      "          (1): Sequential(\n",
      "            (0): BatchNorm3d(8, eps=1e-05, momentum=0.1, affine=True, track_running_stats=True)\n",
      "            (1): Swish()\n",
      "            (2): Conv3d(8, 8, kernel_size=(3, 3, 3), stride=(1, 1, 1), padding=(1, 1, 1), bias=False)\n",
      "          )\n",
      "          (2): SEBlock3d(\n",
      "            (layers): Sequential(\n",
      "              (0): Linear(in_features=8, out_features=2, bias=True)\n",
      "              (1): Swish()\n",
      "              (2): Linear(in_features=2, out_features=8, bias=True)\n",
      "              (3): Sigmoid()\n",
      "            )\n",
      "            (pool): AdaptiveAvgPool3d(output_size=[1, 1, 1])\n",
      "          )\n",
      "        )\n",
      "      )\n",
      "    )\n",
      "    (down_block_1): Sequential(\n",
      "      (0): ResBlock(\n",
      "        (conv_path): Sequential(\n",
      "          (0): Sequential(\n",
      "            (0): BatchNorm3d(8, eps=1e-05, momentum=0.1, affine=True, track_running_stats=True)\n",
      "            (1): Swish()\n",
      "            (2): Conv3d(8, 16, kernel_size=(3, 3, 3), stride=(2, 2, 2), padding=(1, 1, 1), bias=False)\n",
      "          )\n",
      "          (1): Sequential(\n",
      "            (0): BatchNorm3d(16, eps=1e-05, momentum=0.1, affine=True, track_running_stats=True)\n",
      "            (1): Swish()\n",
      "            (2): Conv3d(16, 16, kernel_size=(3, 3, 3), stride=(1, 1, 1), padding=(1, 1, 1), bias=False)\n",
      "          )\n",
      "          (2): SEBlock3d(\n",
      "            (layers): Sequential(\n",
      "              (0): Linear(in_features=16, out_features=4, bias=True)\n",
      "              (1): Swish()\n",
      "              (2): Linear(in_features=4, out_features=16, bias=True)\n",
      "              (3): Sigmoid()\n",
      "            )\n",
      "            (pool): AdaptiveAvgPool3d(output_size=[1, 1, 1])\n",
      "          )\n",
      "        )\n",
      "        (shortcut): Sequential(\n",
      "          (0): Swish()\n",
      "          (1): BatchNorm3d(8, eps=1e-05, momentum=0.1, affine=True, track_running_stats=True)\n",
      "          (2): AvgPool3d(kernel_size=3, stride=2, padding=1)\n",
      "          (3): Conv3d(8, 16, kernel_size=(1, 1, 1), stride=(1, 1, 1), bias=False)\n",
      "        )\n",
      "      )\n",
      "      (1): ResBlock(\n",
      "        (conv_path): Sequential(\n",
      "          (0): Sequential(\n",
      "            (0): BatchNorm3d(16, eps=1e-05, momentum=0.1, affine=True, track_running_stats=True)\n",
      "            (1): Swish()\n",
      "            (2): Conv3d(16, 16, kernel_size=(3, 3, 3), stride=(1, 1, 1), padding=(1, 1, 1), bias=False)\n",
      "          )\n",
      "          (1): Sequential(\n",
      "            (0): BatchNorm3d(16, eps=1e-05, momentum=0.1, affine=True, track_running_stats=True)\n",
      "            (1): Swish()\n",
      "            (2): Conv3d(16, 16, kernel_size=(3, 3, 3), stride=(1, 1, 1), padding=(1, 1, 1), bias=False)\n",
      "          )\n",
      "          (2): SEBlock3d(\n",
      "            (layers): Sequential(\n",
      "              (0): Linear(in_features=16, out_features=4, bias=True)\n",
      "              (1): Swish()\n",
      "              (2): Linear(in_features=4, out_features=16, bias=True)\n",
      "              (3): Sigmoid()\n",
      "            )\n",
      "            (pool): AdaptiveAvgPool3d(output_size=[1, 1, 1])\n",
      "          )\n",
      "        )\n",
      "      )\n",
      "    )\n",
      "    (down_block_2): Sequential(\n",
      "      (0): ResBlock(\n",
      "        (conv_path): Sequential(\n",
      "          (0): Sequential(\n",
      "            (0): BatchNorm3d(16, eps=1e-05, momentum=0.1, affine=True, track_running_stats=True)\n",
      "            (1): Swish()\n",
      "            (2): Conv3d(16, 32, kernel_size=(3, 3, 3), stride=(2, 2, 2), padding=(1, 1, 1), bias=False)\n",
      "          )\n",
      "          (1): Sequential(\n",
      "            (0): BatchNorm3d(32, eps=1e-05, momentum=0.1, affine=True, track_running_stats=True)\n",
      "            (1): Swish()\n",
      "            (2): Conv3d(32, 32, kernel_size=(3, 3, 3), stride=(1, 1, 1), padding=(1, 1, 1), bias=False)\n",
      "          )\n",
      "          (2): SEBlock3d(\n",
      "            (layers): Sequential(\n",
      "              (0): Linear(in_features=32, out_features=8, bias=True)\n",
      "              (1): Swish()\n",
      "              (2): Linear(in_features=8, out_features=32, bias=True)\n",
      "              (3): Sigmoid()\n",
      "            )\n",
      "            (pool): AdaptiveAvgPool3d(output_size=[1, 1, 1])\n",
      "          )\n",
      "        )\n",
      "        (shortcut): Sequential(\n",
      "          (0): Swish()\n",
      "          (1): BatchNorm3d(16, eps=1e-05, momentum=0.1, affine=True, track_running_stats=True)\n",
      "          (2): AvgPool3d(kernel_size=3, stride=2, padding=1)\n",
      "          (3): Conv3d(16, 32, kernel_size=(1, 1, 1), stride=(1, 1, 1), bias=False)\n",
      "        )\n",
      "      )\n",
      "      (1): ResBlock(\n",
      "        (conv_path): Sequential(\n",
      "          (0): Sequential(\n",
      "            (0): BatchNorm3d(32, eps=1e-05, momentum=0.1, affine=True, track_running_stats=True)\n",
      "            (1): Swish()\n",
      "            (2): Conv3d(32, 32, kernel_size=(3, 3, 3), stride=(1, 1, 1), padding=(1, 1, 1), bias=False)\n",
      "          )\n",
      "          (1): Sequential(\n",
      "            (0): BatchNorm3d(32, eps=1e-05, momentum=0.1, affine=True, track_running_stats=True)\n",
      "            (1): Swish()\n",
      "            (2): Conv3d(32, 32, kernel_size=(3, 3, 3), stride=(1, 1, 1), padding=(1, 1, 1), bias=False)\n",
      "          )\n",
      "          (2): SEBlock3d(\n",
      "            (layers): Sequential(\n",
      "              (0): Linear(in_features=32, out_features=8, bias=True)\n",
      "              (1): Swish()\n",
      "              (2): Linear(in_features=8, out_features=32, bias=True)\n",
      "              (3): Sigmoid()\n",
      "            )\n",
      "            (pool): AdaptiveAvgPool3d(output_size=[1, 1, 1])\n",
      "          )\n",
      "        )\n",
      "      )\n",
      "    )\n",
      "    (down_block_3): Sequential(\n",
      "      (0): ResBlock(\n",
      "        (conv_path): Sequential(\n",
      "          (0): Sequential(\n",
      "            (0): BatchNorm3d(32, eps=1e-05, momentum=0.1, affine=True, track_running_stats=True)\n",
      "            (1): Swish()\n",
      "            (2): Conv3d(32, 64, kernel_size=(3, 3, 3), stride=(2, 2, 2), padding=(1, 1, 1), bias=False)\n",
      "          )\n",
      "          (1): Sequential(\n",
      "            (0): BatchNorm3d(64, eps=1e-05, momentum=0.1, affine=True, track_running_stats=True)\n",
      "            (1): Swish()\n",
      "            (2): Conv3d(64, 64, kernel_size=(3, 3, 3), stride=(1, 1, 1), padding=(1, 1, 1), bias=False)\n",
      "          )\n",
      "          (2): SEBlock3d(\n",
      "            (layers): Sequential(\n",
      "              (0): Linear(in_features=64, out_features=16, bias=True)\n",
      "              (1): Swish()\n",
      "              (2): Linear(in_features=16, out_features=64, bias=True)\n",
      "              (3): Sigmoid()\n",
      "            )\n",
      "            (pool): AdaptiveAvgPool3d(output_size=[1, 1, 1])\n",
      "          )\n",
      "        )\n",
      "        (shortcut): Sequential(\n",
      "          (0): Swish()\n",
      "          (1): BatchNorm3d(32, eps=1e-05, momentum=0.1, affine=True, track_running_stats=True)\n",
      "          (2): AvgPool3d(kernel_size=3, stride=2, padding=1)\n",
      "          (3): Conv3d(32, 64, kernel_size=(1, 1, 1), stride=(1, 1, 1), bias=False)\n",
      "        )\n",
      "      )\n",
      "      (1): ResBlock(\n",
      "        (conv_path): Sequential(\n",
      "          (0): Sequential(\n",
      "            (0): BatchNorm3d(64, eps=1e-05, momentum=0.1, affine=True, track_running_stats=True)\n",
      "            (1): Swish()\n",
      "            (2): Conv3d(64, 64, kernel_size=(3, 3, 3), stride=(1, 1, 1), padding=(1, 1, 1), bias=False)\n",
      "          )\n",
      "          (1): Sequential(\n",
      "            (0): BatchNorm3d(64, eps=1e-05, momentum=0.1, affine=True, track_running_stats=True)\n",
      "            (1): Swish()\n",
      "            (2): Conv3d(64, 64, kernel_size=(3, 3, 3), stride=(1, 1, 1), padding=(1, 1, 1), bias=False)\n",
      "          )\n",
      "          (2): SEBlock3d(\n",
      "            (layers): Sequential(\n",
      "              (0): Linear(in_features=64, out_features=16, bias=True)\n",
      "              (1): Swish()\n",
      "              (2): Linear(in_features=16, out_features=64, bias=True)\n",
      "              (3): Sigmoid()\n",
      "            )\n",
      "            (pool): AdaptiveAvgPool3d(output_size=[1, 1, 1])\n",
      "          )\n",
      "        )\n",
      "      )\n",
      "    )\n",
      "    (up_block_3): Sequential(\n",
      "      (0): PixelShuffleUpConv(\n",
      "        (up_conv): Sequential(\n",
      "          (0): Sequential(\n",
      "            (0): BatchNorm3d(64, eps=1e-05, momentum=0.1, affine=True, track_running_stats=True)\n",
      "            (1): Swish()\n",
      "            (2): Conv3d(64, 256, kernel_size=(1, 1, 1), stride=(1, 1, 1), bias=False)\n",
      "          )\n",
      "          (1): PixelShuffle3d()\n",
      "          (2): AvgPool3d(kernel_size=2, stride=1, padding=0)\n",
      "        )\n",
      "      )\n",
      "      (1): ResBlock(\n",
      "        (conv_path): Sequential(\n",
      "          (0): Sequential(\n",
      "            (0): BatchNorm3d(64, eps=1e-05, momentum=0.1, affine=True, track_running_stats=True)\n",
      "            (1): Swish()\n",
      "            (2): Conv3d(64, 32, kernel_size=(3, 3, 3), stride=(1, 1, 1), padding=(1, 1, 1), bias=False)\n",
      "          )\n",
      "          (1): Sequential(\n",
      "            (0): BatchNorm3d(32, eps=1e-05, momentum=0.1, affine=True, track_running_stats=True)\n",
      "            (1): Swish()\n",
      "            (2): Conv3d(32, 32, kernel_size=(3, 3, 3), stride=(1, 1, 1), padding=(1, 1, 1), bias=False)\n",
      "          )\n",
      "          (2): SEBlock3d(\n",
      "            (layers): Sequential(\n",
      "              (0): Linear(in_features=32, out_features=8, bias=True)\n",
      "              (1): Swish()\n",
      "              (2): Linear(in_features=8, out_features=32, bias=True)\n",
      "              (3): Sigmoid()\n",
      "            )\n",
      "            (pool): AdaptiveAvgPool3d(output_size=[1, 1, 1])\n",
      "          )\n",
      "        )\n",
      "        (shortcut): Sequential(\n",
      "          (0): Swish()\n",
      "          (1): BatchNorm3d(64, eps=1e-05, momentum=0.1, affine=True, track_running_stats=True)\n",
      "          (2): Conv3d(64, 32, kernel_size=(1, 1, 1), stride=(1, 1, 1), bias=False)\n",
      "        )\n",
      "      )\n",
      "      (2): ResBlock(\n",
      "        (conv_path): Sequential(\n",
      "          (0): Sequential(\n",
      "            (0): BatchNorm3d(32, eps=1e-05, momentum=0.1, affine=True, track_running_stats=True)\n",
      "            (1): Swish()\n",
      "            (2): Conv3d(32, 32, kernel_size=(3, 3, 3), stride=(1, 1, 1), padding=(1, 1, 1), bias=False)\n",
      "          )\n",
      "          (1): Sequential(\n",
      "            (0): BatchNorm3d(32, eps=1e-05, momentum=0.1, affine=True, track_running_stats=True)\n",
      "            (1): Swish()\n",
      "            (2): Conv3d(32, 32, kernel_size=(3, 3, 3), stride=(1, 1, 1), padding=(1, 1, 1), bias=False)\n",
      "          )\n",
      "          (2): SEBlock3d(\n",
      "            (layers): Sequential(\n",
      "              (0): Linear(in_features=32, out_features=8, bias=True)\n",
      "              (1): Swish()\n",
      "              (2): Linear(in_features=8, out_features=32, bias=True)\n",
      "              (3): Sigmoid()\n",
      "            )\n",
      "            (pool): AdaptiveAvgPool3d(output_size=[1, 1, 1])\n",
      "          )\n",
      "        )\n",
      "      )\n",
      "    )\n",
      "    (up_block_2): Sequential(\n",
      "      (0): PixelShuffleUpConv(\n",
      "        (up_conv): Sequential(\n",
      "          (0): Sequential(\n",
      "            (0): BatchNorm3d(32, eps=1e-05, momentum=0.1, affine=True, track_running_stats=True)\n",
      "            (1): Swish()\n",
      "            (2): Conv3d(32, 128, kernel_size=(1, 1, 1), stride=(1, 1, 1), bias=False)\n",
      "          )\n",
      "          (1): PixelShuffle3d()\n",
      "          (2): AvgPool3d(kernel_size=2, stride=1, padding=0)\n",
      "        )\n",
      "      )\n",
      "      (1): ResBlock(\n",
      "        (conv_path): Sequential(\n",
      "          (0): Sequential(\n",
      "            (0): BatchNorm3d(32, eps=1e-05, momentum=0.1, affine=True, track_running_stats=True)\n",
      "            (1): Swish()\n",
      "            (2): Conv3d(32, 16, kernel_size=(3, 3, 3), stride=(1, 1, 1), padding=(1, 1, 1), bias=False)\n",
      "          )\n",
      "          (1): Sequential(\n",
      "            (0): BatchNorm3d(16, eps=1e-05, momentum=0.1, affine=True, track_running_stats=True)\n",
      "            (1): Swish()\n",
      "            (2): Conv3d(16, 16, kernel_size=(3, 3, 3), stride=(1, 1, 1), padding=(1, 1, 1), bias=False)\n",
      "          )\n",
      "          (2): SEBlock3d(\n",
      "            (layers): Sequential(\n",
      "              (0): Linear(in_features=16, out_features=4, bias=True)\n",
      "              (1): Swish()\n",
      "              (2): Linear(in_features=4, out_features=16, bias=True)\n",
      "              (3): Sigmoid()\n",
      "            )\n",
      "            (pool): AdaptiveAvgPool3d(output_size=[1, 1, 1])\n",
      "          )\n",
      "        )\n",
      "        (shortcut): Sequential(\n",
      "          (0): Swish()\n",
      "          (1): BatchNorm3d(32, eps=1e-05, momentum=0.1, affine=True, track_running_stats=True)\n",
      "          (2): Conv3d(32, 16, kernel_size=(1, 1, 1), stride=(1, 1, 1), bias=False)\n",
      "        )\n",
      "      )\n",
      "      (2): ResBlock(\n",
      "        (conv_path): Sequential(\n",
      "          (0): Sequential(\n",
      "            (0): BatchNorm3d(16, eps=1e-05, momentum=0.1, affine=True, track_running_stats=True)\n",
      "            (1): Swish()\n",
      "            (2): Conv3d(16, 16, kernel_size=(3, 3, 3), stride=(1, 1, 1), padding=(1, 1, 1), bias=False)\n",
      "          )\n",
      "          (1): Sequential(\n",
      "            (0): BatchNorm3d(16, eps=1e-05, momentum=0.1, affine=True, track_running_stats=True)\n",
      "            (1): Swish()\n",
      "            (2): Conv3d(16, 16, kernel_size=(3, 3, 3), stride=(1, 1, 1), padding=(1, 1, 1), bias=False)\n",
      "          )\n",
      "          (2): SEBlock3d(\n",
      "            (layers): Sequential(\n",
      "              (0): Linear(in_features=16, out_features=4, bias=True)\n",
      "              (1): Swish()\n",
      "              (2): Linear(in_features=4, out_features=16, bias=True)\n",
      "              (3): Sigmoid()\n",
      "            )\n",
      "            (pool): AdaptiveAvgPool3d(output_size=[1, 1, 1])\n",
      "          )\n",
      "        )\n",
      "      )\n",
      "    )\n",
      "    (up_block_1): Sequential(\n",
      "      (0): PixelShuffleUpConv(\n",
      "        (up_conv): Sequential(\n",
      "          (0): Sequential(\n",
      "            (0): BatchNorm3d(16, eps=1e-05, momentum=0.1, affine=True, track_running_stats=True)\n",
      "            (1): Swish()\n",
      "            (2): Conv3d(16, 64, kernel_size=(1, 1, 1), stride=(1, 1, 1), bias=False)\n",
      "          )\n",
      "          (1): PixelShuffle3d()\n",
      "          (2): ReplicationPad3d((1, 0, 1, 0, 1, 0))\n",
      "          (3): AvgPool3d(kernel_size=2, stride=1, padding=0)\n",
      "        )\n",
      "      )\n",
      "      (1): ResBlock(\n",
      "        (conv_path): Sequential(\n",
      "          (0): Sequential(\n",
      "            (0): BatchNorm3d(16, eps=1e-05, momentum=0.1, affine=True, track_running_stats=True)\n",
      "            (1): Swish()\n",
      "            (2): Conv3d(16, 8, kernel_size=(3, 3, 3), stride=(1, 1, 1), padding=(1, 1, 1), bias=False)\n",
      "          )\n",
      "          (1): Sequential(\n",
      "            (0): BatchNorm3d(8, eps=1e-05, momentum=0.1, affine=True, track_running_stats=True)\n",
      "            (1): Swish()\n",
      "            (2): Conv3d(8, 8, kernel_size=(3, 3, 3), stride=(1, 1, 1), padding=(1, 1, 1), bias=False)\n",
      "          )\n",
      "          (2): SEBlock3d(\n",
      "            (layers): Sequential(\n",
      "              (0): Linear(in_features=8, out_features=2, bias=True)\n",
      "              (1): Swish()\n",
      "              (2): Linear(in_features=2, out_features=8, bias=True)\n",
      "              (3): Sigmoid()\n",
      "            )\n",
      "            (pool): AdaptiveAvgPool3d(output_size=[1, 1, 1])\n",
      "          )\n",
      "        )\n",
      "        (shortcut): Sequential(\n",
      "          (0): Swish()\n",
      "          (1): BatchNorm3d(16, eps=1e-05, momentum=0.1, affine=True, track_running_stats=True)\n",
      "          (2): Conv3d(16, 8, kernel_size=(1, 1, 1), stride=(1, 1, 1), bias=False)\n",
      "        )\n",
      "      )\n",
      "      (2): ResBlock(\n",
      "        (conv_path): Sequential(\n",
      "          (0): Sequential(\n",
      "            (0): BatchNorm3d(8, eps=1e-05, momentum=0.1, affine=True, track_running_stats=True)\n",
      "            (1): Swish()\n",
      "            (2): Conv3d(8, 8, kernel_size=(3, 3, 3), stride=(1, 1, 1), padding=(1, 1, 1), bias=False)\n",
      "          )\n",
      "          (1): Sequential(\n",
      "            (0): BatchNorm3d(8, eps=1e-05, momentum=0.1, affine=True, track_running_stats=True)\n",
      "            (1): Swish()\n",
      "            (2): Conv3d(8, 8, kernel_size=(3, 3, 3), stride=(1, 1, 1), padding=(1, 1, 1), bias=False)\n",
      "          )\n",
      "          (2): SEBlock3d(\n",
      "            (layers): Sequential(\n",
      "              (0): Linear(in_features=8, out_features=2, bias=True)\n",
      "              (1): Swish()\n",
      "              (2): Linear(in_features=2, out_features=8, bias=True)\n",
      "              (3): Sigmoid()\n",
      "            )\n",
      "            (pool): AdaptiveAvgPool3d(output_size=[1, 1, 1])\n",
      "          )\n",
      "        )\n",
      "      )\n",
      "    )\n",
      "    (output_block): Sequential(\n",
      "      (0): Sequential(\n",
      "        (0): BatchNorm3d(9, eps=1e-05, momentum=0.1, affine=True, track_running_stats=True)\n",
      "        (1): Swish()\n",
      "        (2): Conv3d(9, 1, kernel_size=(3, 3, 3), stride=(1, 1, 1), padding=(1, 1, 1))\n",
      "      )\n",
      "      (1): Sigmoid()\n",
      "    )\n",
      "  )\n",
      "  (1): IdentBody()\n",
      "  (2): IdentTail()\n",
      ")>\n",
      "                   \n",
      "\n",
      "Number of trainable parameters: 733166\n",
      "                   \n",
      "\n",
      "Optimiser:\n",
      "Adam (\n",
      "Parameter Group 0\n",
      "    amsgrad: False\n",
      "    betas: (0.9, 0.999)\n",
      "    eps: 1e-08\n",
      "    lr: 0.002\n",
      "    weight_decay: 0\n",
      ")\n",
      "                   \n",
      "\n",
      "Loss:\n",
      "<class '__main__.BinarySoftIOULoss'>\n"
     ]
    }
   ],
   "source": [
    "bs = 256\n",
    "objective = 'classifier'\n",
    "\n",
    "head = partial(UNet, shape=train_fy.matrix_shape, n_res_per_size=2, n_filters=8, bn=True, encode_depth=True, se_net_r=4)\n",
    "model_builder = ModelBuilder(objective, cont_feats=train_fy.cont_feats, n_out=1, cat_embedder=None, \n",
    "                             opt_args={'opt':'adam', 'eps':1e-08}, body=partial(IdentBody), head=head, tail=partial(IdentTail), loss=BinarySoftIOULoss)\n",
    "print(Model(model_builder))"
   ]
  },
  {
   "cell_type": "markdown",
   "metadata": {},
   "source": [
    "## Training"
   ]
  },
  {
   "cell_type": "markdown",
   "metadata": {},
   "source": [
    "Optional LR Finder, but I just used 1e-4->1e-2 for all trainings"
   ]
  },
  {
   "cell_type": "code",
   "execution_count": null,
   "metadata": {},
   "outputs": [],
   "source": [
    "lr_finder = lr_find(train_fy, model_builder, bs, lr_bounds=[1e-6,1e0])"
   ]
  },
  {
   "cell_type": "code",
   "execution_count": 16,
   "metadata": {},
   "outputs": [],
   "source": [
    "def binary_iou(preds:np.ndarray, targs:np.ndarray, as_mean:bool=True, smooth:float=1e-17) -> float:\n",
    "    r'''\n",
    "    Assumes that preds and targs have a batch dimension, and no class dimension, i.e. (batch, z, x, y)\n",
    "    If the batch dimesion is missing, e.g. your are computing the IOU for a single sample,\n",
    "    add it with e.g. preds[None], targs[None]\n",
    "    '''\n",
    "    \n",
    "    preds = preds.reshape(len(preds), 1, -1).astype(bool)\n",
    "    targs = targs.reshape(len(targs), 1, -1).astype(bool)\n",
    "    \n",
    "    inter = (preds*targs).sum(-1)\n",
    "    union = (preds+targs).sum(-1)\n",
    "    iou = ((inter+smooth)/(union+smooth))  # Small epsilon in case of zero union\n",
    "\n",
    "    if as_mean: iou = iou.mean() \n",
    "    return iou"
   ]
  },
  {
   "cell_type": "markdown",
   "metadata": {},
   "source": [
    "IOU metric with thresholding. Should be similar to 1-loss."
   ]
  },
  {
   "cell_type": "code",
   "execution_count": 17,
   "metadata": {},
   "outputs": [],
   "source": [
    "class IOUMetric(EvalMetric):\n",
    "    def __init__(self, cut:float=0.5, main_metric:bool=True):\n",
    "        super().__init__(name='IOU', lower_metric_better=False)\n",
    "        self.cut = cut\n",
    "        \n",
    "    def evaluate(self) -> float:\n",
    "        df = self.get_df()\n",
    "        return binary_iou(df[[p for p in df.columns if 'pred_' in p]].values>=self.cut, df[[t for t in df.columns if 'gen_target_' in t]].values)"
   ]
  },
  {
   "cell_type": "markdown",
   "metadata": {},
   "source": [
    "OneCycle with cosine interpolation for the LR and momentum, warm-up from 1e-4 to 1e-2 over 5 epochs, decay from 1e-2 to zero over 45 epochs"
   ]
  },
  {
   "cell_type": "code",
   "execution_count": 18,
   "metadata": {},
   "outputs": [],
   "source": [
    "n_epochs = 50\n",
    "cb_partials = [partial(OneCycle, lengths=[5, n_epochs-5],lr_range=[1e-4, 1e-2], mom_range=[0.85, 0.95], interp='cosine')]\n",
    "metric_partials = [IOUMetric]"
   ]
  },
  {
   "cell_type": "code",
   "execution_count": 19,
   "metadata": {
    "scrolled": false
   },
   "outputs": [
    {
     "data": {
      "text/html": [],
      "text/plain": [
       "<IPython.core.display.HTML object>"
      ]
     },
     "metadata": {},
     "output_type": "display_data"
    },
    {
     "name": "stdout",
     "output_type": "stream",
     "text": [
      "Training model 1 / 1, Valid Index = 0, Train indices= [1, 2, 3, 4, 5, 6, 7, 8, 9]\n"
     ]
    },
    {
     "data": {
      "image/png": "[encoded data removed]",
      "text/plain": [
       "<Figure size 1024x576 with 4 Axes>"
      ]
     },
     "metadata": {},
     "output_type": "display_data"
    },
    {
     "data": {
      "text/html": [
       "\n",
       "    <div>\n",
       "        <style>\n",
       "            /* Turns off some styling */\n",
       "            progress {\n",
       "                /* gets rid of default border in Firefox and Opera. */\n",
       "                border: none;\n",
       "                /* Needs to be in here for Safari polyfill so background images work as expected. */\n",
       "                background-size: auto;\n",
       "            }\n",
       "            .progress-bar-interrupted, .progress-bar-interrupted::-webkit-progress-bar {\n",
       "                background: #F44336;\n",
       "            }\n",
       "        </style>\n",
       "      <progress value='0' class='progress-bar-interrupted' max='50', style='width:300px; height:20px; vertical-align: middle;'></progress>\n",
       "      Interrupted\n",
       "    </div>\n",
       "    "
      ],
      "text/plain": [
       "<IPython.core.display.HTML object>"
      ]
     },
     "metadata": {},
     "output_type": "display_data"
    },
    {
     "name": "stdout",
     "output_type": "stream",
     "text": [
      "Loading best model with metric value -8.085E-01\n",
      "Model took 1120.215s\n",
      "\n",
      "Scores are: {'loss': 0.1916559338569641, 'IOU': 0.8085458685366095}\n",
      "\n",
      "______________________________________\n",
      "Training finished\n",
      "Cross-validation took 1120.380s \n"
     ]
    },
    {
     "data": {
      "text/plain": [
       "<Figure size 1024x576 with 0 Axes>"
      ]
     },
     "metadata": {},
     "output_type": "display_data"
    },
    {
     "data": {
      "image/png": "[encoded data removed]",
      "text/plain": [
       "<Figure size 1024x576 with 1 Axes>"
      ]
     },
     "metadata": {},
     "output_type": "display_data"
    },
    {
     "data": {
      "image/png": "[encoded data removed]",
      "text/plain": [
       "<Figure size 1024x576 with 1 Axes>"
      ]
     },
     "metadata": {},
     "output_type": "display_data"
    },
    {
     "name": "stdout",
     "output_type": "stream",
     "text": [
      "Mean loss = 0.1916559338569641±0.0\n",
      "Mean IOU = 0.8085458685366095±0.0\n",
      "______________________________________\n",
      "\n"
     ]
    }
   ],
   "source": [
    "results = train_models(train_fy, n_models=1,\n",
    "                 model_builder=model_builder,\n",
    "                 bs=bs,\n",
    "                 cb_partials=cb_partials,\n",
    "                 metric_partials=metric_partials,\n",
    "                 n_epochs=n_epochs, savepath=Path(f'train_weights_{GPUID}'))"
   ]
  },
  {
   "cell_type": "markdown",
   "metadata": {},
   "source": [
    "## Validation\n",
    "Load and save trained model"
   ]
  },
  {
   "cell_type": "code",
   "execution_count": 24,
   "metadata": {},
   "outputs": [
    {
     "data": {
      "text/plain": [
       "([{'loss': 0.1916559338569641,\n",
       "   'IOU': 0.8085458685366095,\n",
       "   'path': Path('train_weights_0/model_id_0')}],\n",
       " [(OrderedDict([('Training',\n",
       "                 [0.9341734936743071,\n",
       "                  0.9270260749441205,\n",
       "                  0.9197266047651117,\n",
       "                  0.9108250068895745,\n",
       "                  0.8840223677230604,\n",
       "                  0.8326860539840929,\n",
       "                  0.7495886430595861,\n",
       "                  0.6557560834017667,\n",
       "                  0.5821061911004962,\n",
       "                  0.4991235877528335,\n",
       "                  0.418853608044711,\n",
       "                  0.3779167424548756,\n",
       "                  0.35499610503514606,\n",
       "                  0.33410217545249243,\n",
       "                  0.32408381592143665,\n",
       "                  0.30753938537655456,\n",
       "                  0.2957779440012845,\n",
       "                  0.29103255091291486,\n",
       "                  0.28241722692142834,\n",
       "                  0.27636169664787524,\n",
       "                  0.2801079406882777,\n",
       "                  0.27233378634308325,\n",
       "                  0.26687288826162164,\n",
       "                  0.2706197608600963,\n",
       "                  0.26542958165660047,\n",
       "                  0.26871249531254626,\n",
       "                  0.26193161624850647,\n",
       "                  0.27092388001355255,\n",
       "                  0.2580110358469414,\n",
       "                  0.2508662487521316,\n",
       "                  0.2577310565746192,\n",
       "                  0.2556446718447136,\n",
       "                  0.24862317605452103,\n",
       "                  0.24565262686122546,\n",
       "                  0.25065940257274744,\n",
       "                  0.250216391953555,\n",
       "                  0.24534919587048618,\n",
       "                  0.24507235938852484,\n",
       "                  0.24313181999957922,\n",
       "                  0.24186169559305365,\n",
       "                  0.24147134477441962,\n",
       "                  0.23577838774883386,\n",
       "                  0.2346287423914129,\n",
       "                  0.23976586081764914,\n",
       "                  0.24147367477416992,\n",
       "                  0.2372936552221125,\n",
       "                  0.23651168743769327,\n",
       "                  0.23492477698759598,\n",
       "                  0.2335512385223851,\n",
       "                  0.23452823812311346,\n",
       "                  0.22898727655410767,\n",
       "                  0.23927997459064831,\n",
       "                  0.23491778879454642,\n",
       "                  0.2291267803221038,\n",
       "                  0.22766330747893362,\n",
       "                  0.23316336942441535,\n",
       "                  0.23060784556648947,\n",
       "                  0.23025306607737686,\n",
       "                  0.228723072644436,\n",
       "                  0.22696166869365808,\n",
       "                  0.23444269823305536,\n",
       "                  0.23002570325678046,\n",
       "                  0.22984085299751975,\n",
       "                  0.23042994557004987,\n",
       "                  0.22548035058108243,\n",
       "                  0.22710136211279666,\n",
       "                  0.22642081795316754,\n",
       "                  0.22603895447470926,\n",
       "                  0.22654982227267642,\n",
       "                  0.22826515002684158,\n",
       "                  0.22481543186939124,\n",
       "                  0.22300136450565222,\n",
       "                  0.22444883259859952,\n",
       "                  0.22664893395972974,\n",
       "                  0.22573739832097833,\n",
       "                  0.22539806907827203,\n",
       "                  0.22580869631333786,\n",
       "                  0.22479663653807205,\n",
       "                  0.22534243085167624,\n",
       "                  0.22576845414710767,\n",
       "                  0.22159820253198798,\n",
       "                  0.22513515118396643,\n",
       "                  0.2186452800577337,\n",
       "                  0.22199215130372482,\n",
       "                  0.22294489542643228,\n",
       "                  0.22610208843693588,\n",
       "                  0.22252950343218716,\n",
       "                  0.2219445091305357,\n",
       "                  0.2240494272925637,\n",
       "                  0.2197960831902244,\n",
       "                  0.2258104176232309,\n",
       "                  0.2257289525234338,\n",
       "                  0.2208918495611711,\n",
       "                  0.2204517794377876,\n",
       "                  0.2209114721327117,\n",
       "                  0.22450062000390256,\n",
       "                  0.21925317879879114,\n",
       "                  0.22302417321638626,\n",
       "                  0.21884260394356467,\n",
       "                  0.22407601277033487,\n",
       "                  0.22016844063094168,\n",
       "                  0.2214768041263927,\n",
       "                  0.22171491384506226,\n",
       "                  0.2230844244812474,\n",
       "                  0.2269086819706541,\n",
       "                  0.2203439257361672,\n",
       "                  0.2195149353056243,\n",
       "                  0.21897674871213507,\n",
       "                  0.22220518733515884,\n",
       "                  0.21541075272993607,\n",
       "                  0.21834206581115723,\n",
       "                  0.22145964340730148,\n",
       "                  0.2201083501180013,\n",
       "                  0.21957127614454788,\n",
       "                  0.22305003801981607,\n",
       "                  0.21884334629232233,\n",
       "                  0.22270170666954733,\n",
       "                  0.22241237849900217,\n",
       "                  0.21854806126970233,\n",
       "                  0.21897663130904688,\n",
       "                  0.22033204273744064,\n",
       "                  0.22081471753842902,\n",
       "                  0.2145506450624177,\n",
       "                  0.21821671543699322,\n",
       "                  0.21894930167631668,\n",
       "                  0.2140623674248204,\n",
       "                  0.21856533758568042,\n",
       "                  0.21832126198392926,\n",
       "                  0.21723352598421503,\n",
       "                  0.21777102260878592,\n",
       "                  0.2184388330488494,\n",
       "                  0.21984578443296027,\n",
       "                  0.21189090519240408,\n",
       "                  0.2165535381346038,\n",
       "                  0.21718245022224658,\n",
       "                  0.21441153504631735,\n",
       "                  0.21440554748881946,\n",
       "                  0.21687524607687286,\n",
       "                  0.21996456384658813,\n",
       "                  0.21810785929361978,\n",
       "                  0.21366521806427927,\n",
       "                  0.21732747916019324,\n",
       "                  0.21046886841456094,\n",
       "                  0.21350747346878052,\n",
       "                  0.20852051178614298,\n",
       "                  0.2155827608975497,\n",
       "                  0.21502962256922867,\n",
       "                  0.2154891093571981,\n",
       "                  0.21100493452765726,\n",
       "                  0.21564422051111856,\n",
       "                  0.2152659044121251,\n",
       "                  0.2161615490913391,\n",
       "                  0.2129287033370047,\n",
       "                  0.21317659363602148,\n",
       "                  0.21352251912608292,\n",
       "                  0.21540919759056784,\n",
       "                  0.21648580919612537,\n",
       "                  0.21267119140336008,\n",
       "                  0.21273320190834277,\n",
       "                  0.21175604878049908,\n",
       "                  0.21235783894856772,\n",
       "                  0.21396620165218005,\n",
       "                  0.20887691685647675,\n",
       "                  0.20831074859156753,\n",
       "                  0.2090270428946524,\n",
       "                  0.21793775486223627,\n",
       "                  0.21269614226890332,\n",
       "                  0.21192667339787338,\n",
       "                  0.21673506859577063,\n",
       "                  0.21256079637643063,\n",
       "                  0.21449055274327597,\n",
       "                  0.21982470245072336,\n",
       "                  0.2148872126232494,\n",
       "                  0.21163541801048047,\n",
       "                  0.21714908968318591,\n",
       "                  0.21612792665308173,\n",
       "                  0.21446130311850345,\n",
       "                  0.2120217608683037,\n",
       "                  0.21180212497711182,\n",
       "                  0.211928463343418,\n",
       "                  0.21449359619256222,\n",
       "                  0.21056942506269974,\n",
       "                  0.20966115142359878,\n",
       "                  0.21025892459984982,\n",
       "                  0.21022230206113873,\n",
       "                  0.21094065543377039,\n",
       "                  0.20903456752950494,\n",
       "                  0.2086606350812045,\n",
       "                  0.20404668468417544,\n",
       "                  0.21159289641813797,\n",
       "                  0.20249582240075775,\n",
       "                  0.2083676981203484,\n",
       "                  0.2089954741073377,\n",
       "                  0.21089153398167004,\n",
       "                  0.2122475342317061,\n",
       "                  0.20974832592588483,\n",
       "                  0.20877543182084055,\n",
       "                  0.20903508590929437,\n",
       "                  0.20898245139555496,\n",
       "                  0.20922698577245077,\n",
       "                  0.20970987370519928,\n",
       "                  0.2082634423718308,\n",
       "                  0.20911722472219757,\n",
       "                  0.2036978223107078,\n",
       "                  0.207853969299432,\n",
       "                  0.21170581832076563,\n",
       "                  0.21492157741026444,\n",
       "                  0.23001043724291254,\n",
       "                  0.2169855652433453,\n",
       "                  0.2139116381153916,\n",
       "                  0.20869677355795196,\n",
       "                  0.21066062739401153,\n",
       "                  0.2102539756081321,\n",
       "                  0.20960966926632504,\n",
       "                  0.21431351069248084,\n",
       "                  0.22588100216605447,\n",
       "                  0.21280737898566507,\n",
       "                  0.21055253527381204,\n",
       "                  0.20820870182730936,\n",
       "                  0.20783368204579208,\n",
       "                  0.2080117572437633,\n",
       "                  0.20664800116510101,\n",
       "                  0.2034296736572728,\n",
       "                  0.2045993534001437,\n",
       "                  0.2110843062400818,\n",
       "                  0.2037674423420068,\n",
       "                  0.20626356384970926,\n",
       "                  0.20345080079454364,\n",
       "                  0.20776957815343683,\n",
       "                  0.2041110468633247,\n",
       "                  0.20492845051216357,\n",
       "                  0.2063981330755985,\n",
       "                  0.20537460030931415,\n",
       "                  0.20609593030178186,\n",
       "                  0.203463563413331,\n",
       "                  0.203605724103523,\n",
       "                  0.20416862856258045,\n",
       "                  0.20703968134793369,\n",
       "                  0.20145850470571808,\n",
       "                  0.20439653504978528,\n",
       "                  0.2040233684308601,\n",
       "                  0.20315511298902106,\n",
       "                  0.20202422322648944,\n",
       "                  0.20586284904768973,\n",
       "                  0.20609849510770856,\n",
       "                  0.20647705685008655,\n",
       "                  0.20160308570572824,\n",
       "                  0.20155447360241052,\n",
       "                  0.2027000640377854,\n",
       "                  0.20270550070386945,\n",
       "                  0.2023747581424135,\n",
       "                  0.20221447402780707,\n",
       "                  0.19952108823891843,\n",
       "                  0.19988613959514734,\n",
       "                  0.20193987904172955,\n",
       "                  0.20054535612915503,\n",
       "                  0.2030467228455977,\n",
       "                  0.19941681804078998,\n",
       "                  0.20392980720057632,\n",
       "                  0.20303852449763904,\n",
       "                  0.2054520429986896,\n",
       "                  0.2024774786197778,\n",
       "                  0.20148761525298609,\n",
       "                  0.2019294879653237,\n",
       "                  0.20063076416651407,\n",
       "                  0.20095971497622403,\n",
       "                  0.20393339251026962,\n",
       "                  0.20119090513749557,\n",
       "                  0.2009247722047748,\n",
       "                  0.2003360264229052,\n",
       "                  0.19941213817307443,\n",
       "                  0.20277893182003137,\n",
       "                  0.20704766475793088,\n",
       "                  0.2020286014585784,\n",
       "                  0.20027560718131787,\n",
       "                  0.2001296119256453,\n",
       "                  0.20372103922294849,\n",
       "                  0.20138985821695038,\n",
       "                  0.20089027737126205,\n",
       "                  0.20053169402209195,\n",
       "                  0.1985410957625418,\n",
       "                  0.19749083663478043,\n",
       "                  0.19978428970683704,\n",
       "                  0.20031178178209247,\n",
       "                  0.20139037117813574,\n",
       "                  0.19996128299019553,\n",
       "                  0.20170661355509903,\n",
       "                  0.19915449077432806,\n",
       "                  0.20147671844020035,\n",
       "                  0.1997370178049261,\n",
       "                  0.19646034096226547,\n",
       "                  0.197624045791048,\n",
       "                  0.1985987497098518,\n",
       "                  0.19563692808151245,\n",
       "                  0.2005067594123609,\n",
       "                  0.19875299208091968,\n",
       "                  0.19946917259331906,\n",
       "                  0.1964695074341514,\n",
       "                  0.20147867455626978,\n",
       "                  0.19857848413062817,\n",
       "                  0.19817778739062222,\n",
       "                  0.19745800531271732,\n",
       "                  0.19934649178476044,\n",
       "                  0.19907797105384595,\n",
       "                  0.19824742367773346,\n",
       "                  0.19430557706139304,\n",
       "                  0.19427913969213312,\n",
       "                  0.1982054024031668,\n",
       "                  0.19926725553743768,\n",
       "                  0.198144869370894,\n",
       "                  0.19763324838696103,\n",
       "                  0.19827595985297,\n",
       "                  0.1946241349884958,\n",
       "                  0.19753954988537412,\n",
       "                  0.1986617554317821,\n",
       "                  0.19577703873316446,\n",
       "                  0.2000335707808986,\n",
       "                  0.1993215192448009,\n",
       "                  0.19436392639622543,\n",
       "                  0.19658392306530115,\n",
       "                  0.19844734307491418,\n",
       "                  0.19762715245738174,\n",
       "                  0.1989247871167732,\n",
       "                  0.19701946142948035,\n",
       "                  0.194879949092865,\n",
       "                  0.19607383374011877,\n",
       "                  0.19499122735225793,\n",
       "                  0.19759975599520135,\n",
       "                  0.19639716365120627,\n",
       "                  0.19778410413048483,\n",
       "                  0.19660078034256445,\n",
       "                  0.19676699602242673,\n",
       "                  0.1951983697486646,\n",
       "                  0.19369876926595514,\n",
       "                  0.1946521961327755,\n",
       "                  0.19624680641925696,\n",
       "                  0.19601122538248697,\n",
       "                  0.19451268513997397,\n",
       "                  0.19662317543318777,\n",
       "                  0.19603202920971494,\n",
       "                  0.1986703132138108,\n",
       "                  0.19523806102348096,\n",
       "                  0.19439271905205466,\n",
       "                  0.19580811442750873,\n",
       "                  0.19544103651335745,\n",
       "                  0.19370243043610544,\n",
       "                  0.19457116452130405,\n",
       "                  0.19432191957126965,\n",
       "                  0.1949542255112619,\n",
       "                  0.19272062814596927,\n",
       "                  0.19353400938438647,\n",
       "                  0.19244846069451535,\n",
       "                  0.1939645174777869,\n",
       "                  0.19415518912402066,\n",
       "                  0.1932010560324698,\n",
       "                  0.1966785571791909,\n",
       "                  0.20423970981077713,\n",
       "                  0.19439292495900934,\n",
       "                  0.19650398059324783,\n",
       "                  0.19634651054035535,\n",
       "                  0.19447475129907782,\n",
       "                  0.1935640194199302,\n",
       "                  0.19256356087597934,\n",
       "                  0.19326815099427194,\n",
       "                  0.19421354387745712,\n",
       "                  0.19341540878469293,\n",
       "                  0.1912419001261393,\n",
       "                  0.19536980535044815,\n",
       "                  0.19287426002097852,\n",
       "                  0.19299232959747314,\n",
       "                  0.1917078278281472,\n",
       "                  0.1936445218144041,\n",
       "                  0.19154318534966672,\n",
       "                  0.1944101886315779,\n",
       "                  0.19175164446686255,\n",
       "                  0.19372342391447586,\n",
       "                  0.19257188927043567,\n",
       "                  0.19233129783110184,\n",
       "                  0.19349317117170853,\n",
       "                  0.1944853627320492,\n",
       "                  0.19245395877144553,\n",
       "                  0.19252097967899207,\n",
       "                  0.19221824046337244,\n",
       "                  0.19059436790870898,\n",
       "                  0.19087447000272345,\n",
       "                  0.1915899280345801,\n",
       "                  0.1914792133100105,\n",
       "                  0.19265606186606668,\n",
       "                  0.19357895670515118,\n",
       "                  0.19303070053909765,\n",
       "                  0.19036938746770224,\n",
       "                  0.19280499761754816,\n",
       "                  0.1921020168246645,\n",
       "                  0.18942819400267166,\n",
       "                  0.1945484262524229,\n",
       "                  0.1907875339190165,\n",
       "                  0.19034887082649,\n",
       "                  0.19338441798181244,\n",
       "                  0.18989099517013086,\n",
       "                  0.1914319396018982,\n",
       "                  0.19004925272681497,\n",
       "                  0.19361700794913553,\n",
       "                  0.19200562888925726,\n",
       "                  0.18918914505929657,\n",
       "                  0.19207170154109146,\n",
       "                  0.1908554651520469,\n",
       "                  0.18905951218171554,\n",
       "                  0.19282394828218402,\n",
       "                  0.19432550849336566,\n",
       "                  0.19167270263036093,\n",
       "                  0.18931752985174005,\n",
       "                  0.18884072520516135,\n",
       "                  0.1917899828968626,\n",
       "                  0.18999770012768832,\n",
       "                  0.19257494897553415,\n",
       "                  0.18932477091297958,\n",
       "                  0.19024163845813635,\n",
       "                  0.19271170551126654,\n",
       "                  0.1917167522690513,\n",
       "                  0.18903388399066348,\n",
       "                  0.1908711718790459,\n",
       "                  0.19128013199025934,\n",
       "                  0.18949533773191046,\n",
       "                  0.19257418675856156,\n",
       "                  0.19128458427660394,\n",
       "                  0.18986187559185605,\n",
       "                  0.19358158472812537,\n",
       "                  0.1890889514576305,\n",
       "                  0.19217036167780557,\n",
       "                  0.19279088576634726,\n",
       "                  0.18967098900766083,\n",
       "                  0.19153949708649606,\n",
       "                  0.19083236383669305,\n",
       "                  0.19068856130946765,\n",
       "                  0.1913652763222203,\n",
       "                  0.1898518367247148,\n",
       "                  0.1905665108651826,\n",
       "                  0.19221091812307184,\n",
       "                  0.1915061455784422,\n",
       "                  0.18995316642703433,\n",
       "                  0.18946879740917322,\n",
       "                  0.1921002214605158,\n",
       "                  0.19091655810674033,\n",
       "                  0.19017577893806226,\n",
       "                  0.19027028119925296,\n",
       "                  0.18980562686920166,\n",
       "                  0.19275823506441983,\n",
       "                  0.18922868461319894,\n",
       "                  0.1915293155294476,\n",
       "                  0.19284484422568118]),\n",
       "                ('Validation',\n",
       "                 [0.5524214506149292,\n",
       "                  0.3178101181983948,\n",
       "                  0.274830162525177,\n",
       "                  0.25566935539245605,\n",
       "                  0.23528099060058594,\n",
       "                  0.24068593978881836,\n",
       "                  0.23314380645751953,\n",
       "                  0.23830080032348633,\n",
       "                  0.24883919954299927,\n",
       "                  0.2759125828742981,\n",
       "                  0.3512113094329834,\n",
       "                  0.2314186692237854,\n",
       "                  0.25196629762649536,\n",
       "                  0.22540420293807983,\n",
       "                  0.2982950806617737,\n",
       "                  0.23862707614898682,\n",
       "                  0.21597778797149658,\n",
       "                  0.21940547227859497,\n",
       "                  0.21896344423294067,\n",
       "                  0.22154420614242554,\n",
       "                  0.21216535568237305,\n",
       "                  0.2115883231163025,\n",
       "                  0.22287607192993164,\n",
       "                  0.24548912048339844,\n",
       "                  0.22659480571746826,\n",
       "                  0.22371959686279297,\n",
       "                  0.20064014196395874,\n",
       "                  0.2050287127494812,\n",
       "                  0.21101349592208862,\n",
       "                  0.21342092752456665,\n",
       "                  0.20550990104675293,\n",
       "                  0.22052901983261108,\n",
       "                  0.19976365566253662,\n",
       "                  0.19957298040390015,\n",
       "                  0.1963384747505188,\n",
       "                  0.1975036859512329,\n",
       "                  0.1988992691040039,\n",
       "                  0.20498508214950562,\n",
       "                  0.19787245988845825,\n",
       "                  0.19694048166275024,\n",
       "                  0.199729323387146,\n",
       "                  0.19387394189834595,\n",
       "                  0.19293636083602905,\n",
       "                  0.19371014833450317,\n",
       "                  0.1922956109046936,\n",
       "                  0.19181472063064575,\n",
       "                  0.19179928302764893,\n",
       "                  0.19156396389007568,\n",
       "                  0.1916559338569641,\n",
       "                  0.1916016936302185])]),\n",
       "   OrderedDict([('IOU',\n",
       "                 [0.4732152464774146,\n",
       "                  0.6863909088713497,\n",
       "                  0.7269084145726696,\n",
       "                  0.7454815252773387,\n",
       "                  0.7653994616336758,\n",
       "                  0.7598731799754852,\n",
       "                  0.7672742538657685,\n",
       "                  0.7620650534990339,\n",
       "                  0.7514806523063271,\n",
       "                  0.7243690466015613,\n",
       "                  0.6490883650554656,\n",
       "                  0.7688069752876909,\n",
       "                  0.748184713314063,\n",
       "                  0.774742918828515,\n",
       "                  0.7019212041423051,\n",
       "                  0.7614717404133715,\n",
       "                  0.7841669162557249,\n",
       "                  0.7807152074719644,\n",
       "                  0.7811293228231678,\n",
       "                  0.7784738546492713,\n",
       "                  0.7880073698396499,\n",
       "                  0.7885131160438875,\n",
       "                  0.7772918738635308,\n",
       "                  0.7547005687007238,\n",
       "                  0.7735306307141674,\n",
       "                  0.7764145605923763,\n",
       "                  0.7994500973564642,\n",
       "                  0.795045044694731,\n",
       "                  0.7890089871451705,\n",
       "                  0.7866804525518658,\n",
       "                  0.794611250291538,\n",
       "                  0.779614579515189,\n",
       "                  0.8003902586786139,\n",
       "                  0.8005489238048573,\n",
       "                  0.8037555409793389,\n",
       "                  0.8026168177907924,\n",
       "                  0.801142968952525,\n",
       "                  0.7951217110477822,\n",
       "                  0.8022113779682087,\n",
       "                  0.8031416598812083,\n",
       "                  0.8003666547782241,\n",
       "                  0.8062289436570509,\n",
       "                  0.8071932276310745,\n",
       "                  0.8063752336479715,\n",
       "                  0.8077454823174718,\n",
       "                  0.8082991551256312,\n",
       "                  0.8082702154381146,\n",
       "                  0.8084753125768391,\n",
       "                  0.8085458685366095,\n",
       "                  0.808477576352564])]))],\n",
       " [[]])"
      ]
     },
     "execution_count": 24,
     "metadata": {},
     "output_type": "execute_result"
    }
   ],
   "source": [
    "results"
   ]
  },
  {
   "cell_type": "code",
   "execution_count": 26,
   "metadata": {},
   "outputs": [
    {
     "name": "stdout",
     "output_type": "stream",
     "text": [
      "Choosing ensemble by loss\n"
     ]
    },
    {
     "data": {
      "text/html": [
       "\n",
       "    <div>\n",
       "        <style>\n",
       "            /* Turns off some styling */\n",
       "            progress {\n",
       "                /* gets rid of default border in Firefox and Opera. */\n",
       "                border: none;\n",
       "                /* Needs to be in here for Safari polyfill so background images work as expected. */\n",
       "                background-size: auto;\n",
       "            }\n",
       "            .progress-bar-interrupted, .progress-bar-interrupted::-webkit-progress-bar {\n",
       "                background: #F44336;\n",
       "            }\n",
       "        </style>\n",
       "      <progress value='1' class='' max='1', style='width:300px; height:20px; vertical-align: middle;'></progress>\n",
       "      100.00% [1/1 00:00<00:00]\n",
       "    </div>\n",
       "    "
      ],
      "text/plain": [
       "<IPython.core.display.HTML object>"
      ]
     },
     "metadata": {},
     "output_type": "display_data"
    },
    {
     "name": "stdout",
     "output_type": "stream",
     "text": [
      "Model 0 is 0 with loss = 0.1916559338569641\n"
     ]
    }
   ],
   "source": [
    "model = Ensemble.from_results(results[0], size=1, model_builder=model_builder)"
   ]
  },
  {
   "cell_type": "code",
   "execution_count": 28,
   "metadata": {},
   "outputs": [
    {
     "data": {
      "text/html": [
       "\n",
       "    <div>\n",
       "        <style>\n",
       "            /* Turns off some styling */\n",
       "            progress {\n",
       "                /* gets rid of default border in Firefox and Opera. */\n",
       "                border: none;\n",
       "                /* Needs to be in here for Safari polyfill so background images work as expected. */\n",
       "                background-size: auto;\n",
       "            }\n",
       "            .progress-bar-interrupted, .progress-bar-interrupted::-webkit-progress-bar {\n",
       "                background: #F44336;\n",
       "            }\n",
       "        </style>\n",
       "      <progress value='1' class='' max='1', style='width:300px; height:20px; vertical-align: middle;'></progress>\n",
       "      100.00% [1/1 00:00<00:00]\n",
       "    </div>\n",
       "    "
      ],
      "text/plain": [
       "<IPython.core.display.HTML object>"
      ]
     },
     "metadata": {},
     "output_type": "display_data"
    }
   ],
   "source": [
    "model.save('weights/unet-pixelshuffle_depth-encode_data-aug_se-net_f8r2/full')"
   ]
  },
  {
   "cell_type": "code",
   "execution_count": 17,
   "metadata": {},
   "outputs": [
    {
     "data": {
      "text/html": [
       "\n",
       "    <div>\n",
       "        <style>\n",
       "            /* Turns off some styling */\n",
       "            progress {\n",
       "                /* gets rid of default border in Firefox and Opera. */\n",
       "                border: none;\n",
       "                /* Needs to be in here for Safari polyfill so background images work as expected. */\n",
       "                background-size: auto;\n",
       "            }\n",
       "            .progress-bar-interrupted, .progress-bar-interrupted::-webkit-progress-bar {\n",
       "                background: #F44336;\n",
       "            }\n",
       "        </style>\n",
       "      <progress value='1' class='' max='1', style='width:300px; height:20px; vertical-align: middle;'></progress>\n",
       "      100.00% [1/1 00:00<00:00]\n",
       "    </div>\n",
       "    "
      ],
      "text/plain": [
       "<IPython.core.display.HTML object>"
      ]
     },
     "metadata": {},
     "output_type": "display_data"
    }
   ],
   "source": [
    "model = Ensemble.from_save('weights/unet-pixelshuffle_depth-encode_data-aug_se-net_f8r2/full')"
   ]
  },
  {
   "cell_type": "markdown",
   "metadata": {},
   "source": [
    "### No Aug\n",
    "Check IOU without data-aug"
   ]
  },
  {
   "cell_type": "code",
   "execution_count": 18,
   "metadata": {},
   "outputs": [],
   "source": [
    "val_fy = FoldYielder(PATH/'valid_lumin_full.hdf5')"
   ]
  },
  {
   "cell_type": "code",
   "execution_count": 19,
   "metadata": {},
   "outputs": [
    {
     "data": {
      "text/html": [
       "\n",
       "    <div>\n",
       "        <style>\n",
       "            /* Turns off some styling */\n",
       "            progress {\n",
       "                /* gets rid of default border in Firefox and Opera. */\n",
       "                border: none;\n",
       "                /* Needs to be in here for Safari polyfill so background images work as expected. */\n",
       "                background-size: auto;\n",
       "            }\n",
       "            .progress-bar-interrupted, .progress-bar-interrupted::-webkit-progress-bar {\n",
       "                background: #F44336;\n",
       "            }\n",
       "        </style>\n",
       "      <progress value='1' class='' max='1', style='width:300px; height:20px; vertical-align: middle;'></progress>\n",
       "      100.00% [1/1 00:01<00:00]\n",
       "    </div>\n",
       "    "
      ],
      "text/plain": [
       "<IPython.core.display.HTML object>"
      ]
     },
     "metadata": {},
     "output_type": "display_data"
    }
   ],
   "source": [
    "preds = model.predict(val_fy.get_column('matrix_inputs'))"
   ]
  },
  {
   "cell_type": "code",
   "execution_count": 20,
   "metadata": {},
   "outputs": [],
   "source": [
    "targs = val_fy.get_column('targets')"
   ]
  },
  {
   "cell_type": "code",
   "execution_count": 21,
   "metadata": {},
   "outputs": [
    {
     "data": {
      "text/plain": [
       "0.8088944814868708"
      ]
     },
     "execution_count": 21,
     "metadata": {},
     "output_type": "execute_result"
    }
   ],
   "source": [
    "binary_iou(preds>=0.5, targs)"
   ]
  },
  {
   "cell_type": "code",
   "execution_count": 22,
   "metadata": {},
   "outputs": [
    {
     "data": {
      "text/plain": [
       "array([[0.77941176],\n",
       "       [0.72      ],\n",
       "       [0.67605634],\n",
       "       ...,\n",
       "       [0.78125   ],\n",
       "       [0.88      ],\n",
       "       [0.81481481]])"
      ]
     },
     "execution_count": 22,
     "metadata": {},
     "output_type": "execute_result"
    }
   ],
   "source": [
    "ious = binary_iou(preds>=0.5, targs, as_mean=False)\n",
    "ious"
   ]
  },
  {
   "cell_type": "code",
   "execution_count": 23,
   "metadata": {},
   "outputs": [
    {
     "data": {
      "text/plain": [
       "(21226, 10)"
      ]
     },
     "execution_count": 23,
     "metadata": {},
     "output_type": "execute_result"
    }
   ],
   "source": [
    "cuts = np.arange(0.5,1,0.05)\n",
    "sample_scores = ious>=cuts\n",
    "sample_scores.shape"
   ]
  },
  {
   "cell_type": "code",
   "execution_count": 24,
   "metadata": {},
   "outputs": [
    {
     "data": {
      "text/plain": [
       "(0.6657778196551399, 0.61108594859265)"
      ]
     },
     "execution_count": 24,
     "metadata": {},
     "output_type": "execute_result"
    }
   ],
   "source": [
    "sample_scores.mean(), ((sample_scores*cuts).sum(1)/(cuts.sum())).mean()"
   ]
  },
  {
   "cell_type": "markdown",
   "metadata": {},
   "source": [
    "### Test Aug\n",
    "Check score with test-time data aug"
   ]
  },
  {
   "cell_type": "code",
   "execution_count": 25,
   "metadata": {},
   "outputs": [],
   "source": [
    "val_fy = AugFoldYielder(PATH/'valid_lumin_full.hdf5')"
   ]
  },
  {
   "cell_type": "markdown",
   "metadata": {},
   "source": [
    "Take mean prediction over each augmentation, after mapping predictions back to original view"
   ]
  },
  {
   "cell_type": "code",
   "execution_count": 26,
   "metadata": {},
   "outputs": [],
   "source": [
    "def get_aug_preds(fy:AugFoldYielder, model:Union[Model, Ensemble], bs:Optional[int]=512) -> np.ndarray:\n",
    "    preds = []\n",
    "    for aug in (mb:=master_bar(range(fy.aug_mult))):\n",
    "        fpreds = []\n",
    "        for fld in progress_bar(range(len(fy)), parent=mb):\n",
    "            fpreds.append(model._predict_array(fy.get_test_fold(fld, aug)['inputs'], parent_bar=None, display=False, bs=bs))\n",
    "\n",
    "        fpreds = np.vstack(fpreds).reshape(-1,*fy.matrix_shape)\n",
    "        if aug >= 4: fpreds = np.flip(fpreds, -2)\n",
    "        fpreds = np.rot90(fpreds, -(aug%4), (-1,-2))\n",
    "\n",
    "        preds.append(fpreds.reshape(len(fpreds), -1))\n",
    "    return np.mean(preds, 0)"
   ]
  },
  {
   "cell_type": "code",
   "execution_count": 27,
   "metadata": {
    "scrolled": false
   },
   "outputs": [
    {
     "data": {
      "text/html": [],
      "text/plain": [
       "<IPython.core.display.HTML object>"
      ]
     },
     "metadata": {},
     "output_type": "display_data"
    }
   ],
   "source": [
    "preds = get_aug_preds(val_fy, model)"
   ]
  },
  {
   "cell_type": "code",
   "execution_count": 28,
   "metadata": {},
   "outputs": [],
   "source": [
    "targs = val_fy.get_column('targets')"
   ]
  },
  {
   "cell_type": "code",
   "execution_count": 29,
   "metadata": {
    "scrolled": true
   },
   "outputs": [
    {
     "data": {
      "text/plain": [
       "0.8121581307246288"
      ]
     },
     "execution_count": 29,
     "metadata": {},
     "output_type": "execute_result"
    }
   ],
   "source": [
    "binary_iou((preds>=0.5).astype('int'), targs)"
   ]
  },
  {
   "cell_type": "code",
   "execution_count": 30,
   "metadata": {},
   "outputs": [
    {
     "data": {
      "text/plain": [
       "array([[0.77941176],\n",
       "       [0.69620253],\n",
       "       [0.71641791],\n",
       "       ...,\n",
       "       [0.78125   ],\n",
       "       [0.86      ],\n",
       "       [0.81481481]])"
      ]
     },
     "execution_count": 30,
     "metadata": {},
     "output_type": "execute_result"
    }
   ],
   "source": [
    "ious = binary_iou(preds>=0.5, targs, as_mean=False)\n",
    "ious"
   ]
  },
  {
   "cell_type": "code",
   "execution_count": 31,
   "metadata": {},
   "outputs": [
    {
     "data": {
      "text/plain": [
       "(21226, 10)"
      ]
     },
     "execution_count": 31,
     "metadata": {},
     "output_type": "execute_result"
    }
   ],
   "source": [
    "cuts = np.arange(0.5,1,0.05)\n",
    "sample_scores = ious>=cuts\n",
    "sample_scores.shape"
   ]
  },
  {
   "cell_type": "code",
   "execution_count": 32,
   "metadata": {},
   "outputs": [
    {
     "data": {
      "text/plain": [
       "(0.6712616602280222, 0.6171169385626606)"
      ]
     },
     "execution_count": 32,
     "metadata": {},
     "output_type": "execute_result"
    }
   ],
   "source": [
    "sample_scores.mean(), ((sample_scores*cuts).sum(1)/(cuts.sum())).mean()"
   ]
  },
  {
   "cell_type": "code",
   "execution_count": 33,
   "metadata": {},
   "outputs": [],
   "source": [
    "def plot_preds(x0:np.ndarray, targ:np.ndarray, cut:float=0.5) -> None:\n",
    "    n_layers = x0.shape[0]\n",
    "    fig, axs = plt.subplots(3, n_layers, figsize=(10*16/9, 8))\n",
    "\n",
    "    for layer in range(n_layers-1,-1,-1):\n",
    "        sns.heatmap(x0[layer], ax=axs[0,n_layers-layer-1], vmin=np.nanmin(x0), vmax=np.nanmax(x0), cbar=None, square=True, cmap='viridis')\n",
    "        sns.heatmap(x0[layer]>=cut, ax=axs[1,n_layers-layer-1], vmin=0, vmax=1, cbar=None, square=True, cmap='viridis')\n",
    "        sns.heatmap(targ[layer], ax=axs[2,n_layers-layer-1], vmin=0, vmax=1, cbar=None, square=True, cmap='viridis')\n",
    "        axs[1,n_layers-layer-1].set_xlabel(f\"Layer {layer}\")\n",
    "    axs[0,0].set_ylabel(\"Output\")\n",
    "    axs[1,0].set_ylabel(\"Pred class\")\n",
    "    axs[2,0].set_ylabel(\"Target class\")\n",
    "    plt.show()"
   ]
  },
  {
   "cell_type": "code",
   "execution_count": 34,
   "metadata": {
    "scrolled": false
   },
   "outputs": [
    {
     "data": {
      "image/png": "[encoded data removed]",
      "text/plain": [
       "<Figure size 1280x576 with 30 Axes>"
      ]
     },
     "metadata": {
      "needs_background": "light"
     },
     "output_type": "display_data"
    },
    {
     "data": {
      "image/png": "[encoded data removed]",
      "text/plain": [
       "<Figure size 1280x576 with 30 Axes>"
      ]
     },
     "metadata": {
      "needs_background": "light"
     },
     "output_type": "display_data"
    },
    {
     "data": {
      "image/png": "[encoded data removed]",
      "text/plain": [
       "<Figure size 1280x576 with 30 Axes>"
      ]
     },
     "metadata": {
      "needs_background": "light"
     },
     "output_type": "display_data"
    },
    {
     "data": {
      "image/png": "[encoded data removed]",
      "text/plain": [
       "<Figure size 1280x576 with 30 Axes>"
      ]
     },
     "metadata": {
      "needs_background": "light"
     },
     "output_type": "display_data"
    },
    {
     "data": {
      "image/png": "[encoded data removed]",
      "text/plain": [
       "<Figure size 1280x576 with 30 Axes>"
      ]
     },
     "metadata": {
      "needs_background": "light"
     },
     "output_type": "display_data"
    }
   ],
   "source": [
    "for idx in range(5):\n",
    "    plot_preds(preds[idx].reshape(10,10,10), targs[idx].reshape(10,10,10))"
   ]
  },
  {
   "cell_type": "markdown",
   "metadata": {},
   "source": [
    "# Test sub"
   ]
  },
  {
   "cell_type": "code",
   "execution_count": 66,
   "metadata": {},
   "outputs": [],
   "source": [
    "tst_fy = AugFoldYielder(PATH/'test_lumin.hdf5')"
   ]
  },
  {
   "cell_type": "code",
   "execution_count": 69,
   "metadata": {},
   "outputs": [
    {
     "data": {
      "text/html": [],
      "text/plain": [
       "<IPython.core.display.HTML object>"
      ]
     },
     "metadata": {},
     "output_type": "display_data"
    }
   ],
   "source": [
    "tst_preds = get_aug_preds(tst_fy, model, bs=512)"
   ]
  },
  {
   "cell_type": "code",
   "execution_count": 70,
   "metadata": {},
   "outputs": [
    {
     "data": {
      "text/plain": [
       "(30036, 1000)"
      ]
     },
     "execution_count": 70,
     "metadata": {},
     "output_type": "execute_result"
    }
   ],
   "source": [
    "tst_preds.shape"
   ]
  },
  {
   "cell_type": "code",
   "execution_count": 71,
   "metadata": {},
   "outputs": [],
   "source": [
    "class_preds = (tst_preds>0.5).astype('int').reshape(len(tst_preds),10,10,10)"
   ]
  },
  {
   "cell_type": "code",
   "execution_count": 72,
   "metadata": {},
   "outputs": [
    {
     "data": {
      "text/plain": [
       "array([[[[0, 0, 0, ..., 0, 0, 0],\n",
       "         [0, 0, 0, ..., 0, 0, 0],\n",
       "         [0, 0, 0, ..., 0, 0, 0],\n",
       "         ...,\n",
       "         [0, 0, 0, ..., 0, 0, 0],\n",
       "         [0, 0, 0, ..., 0, 0, 0],\n",
       "         [0, 0, 0, ..., 0, 0, 0]],\n",
       "\n",
       "        [[0, 0, 0, ..., 0, 0, 0],\n",
       "         [0, 0, 0, ..., 0, 0, 0],\n",
       "         [0, 0, 0, ..., 0, 0, 0],\n",
       "         ...,\n",
       "         [0, 0, 0, ..., 0, 0, 0],\n",
       "         [0, 0, 0, ..., 0, 0, 0],\n",
       "         [0, 0, 0, ..., 0, 0, 0]],\n",
       "\n",
       "        [[0, 0, 0, ..., 0, 0, 0],\n",
       "         [0, 0, 0, ..., 0, 0, 0],\n",
       "         [0, 0, 0, ..., 0, 0, 0],\n",
       "         ...,\n",
       "         [0, 0, 0, ..., 0, 0, 0],\n",
       "         [0, 0, 0, ..., 0, 0, 0],\n",
       "         [0, 0, 0, ..., 0, 0, 0]],\n",
       "\n",
       "        ...,\n",
       "\n",
       "        [[0, 0, 0, ..., 0, 0, 1],\n",
       "         [0, 0, 0, ..., 0, 0, 1],\n",
       "         [0, 0, 0, ..., 1, 0, 1],\n",
       "         ...,\n",
       "         [0, 0, 0, ..., 0, 0, 0],\n",
       "         [0, 0, 0, ..., 0, 0, 0],\n",
       "         [0, 0, 0, ..., 0, 0, 0]],\n",
       "\n",
       "        [[0, 0, 0, ..., 0, 0, 1],\n",
       "         [0, 0, 0, ..., 0, 0, 1],\n",
       "         [0, 0, 0, ..., 1, 0, 1],\n",
       "         ...,\n",
       "         [0, 0, 0, ..., 0, 0, 0],\n",
       "         [0, 0, 0, ..., 0, 0, 0],\n",
       "         [0, 0, 0, ..., 0, 0, 0]],\n",
       "\n",
       "        [[0, 0, 0, ..., 0, 0, 0],\n",
       "         [0, 0, 0, ..., 0, 0, 0],\n",
       "         [0, 0, 0, ..., 0, 0, 0],\n",
       "         ...,\n",
       "         [0, 0, 0, ..., 0, 0, 0],\n",
       "         [0, 0, 0, ..., 0, 0, 0],\n",
       "         [0, 0, 0, ..., 0, 0, 0]]],\n",
       "\n",
       "\n",
       "       [[[0, 0, 0, ..., 0, 0, 0],\n",
       "         [0, 0, 0, ..., 0, 0, 0],\n",
       "         [0, 0, 0, ..., 0, 0, 0],\n",
       "         ...,\n",
       "         [0, 0, 0, ..., 0, 0, 0],\n",
       "         [0, 0, 0, ..., 0, 0, 0],\n",
       "         [0, 0, 0, ..., 0, 0, 0]],\n",
       "\n",
       "        [[0, 0, 0, ..., 0, 0, 0],\n",
       "         [0, 0, 0, ..., 0, 0, 0],\n",
       "         [0, 0, 0, ..., 0, 0, 0],\n",
       "         ...,\n",
       "         [0, 0, 0, ..., 0, 0, 0],\n",
       "         [0, 0, 0, ..., 0, 0, 0],\n",
       "         [0, 0, 0, ..., 0, 0, 0]],\n",
       "\n",
       "        [[0, 0, 0, ..., 0, 0, 0],\n",
       "         [0, 0, 0, ..., 0, 0, 0],\n",
       "         [0, 0, 0, ..., 0, 0, 0],\n",
       "         ...,\n",
       "         [0, 0, 0, ..., 0, 0, 0],\n",
       "         [0, 0, 0, ..., 0, 0, 0],\n",
       "         [0, 0, 0, ..., 0, 0, 0]],\n",
       "\n",
       "        ...,\n",
       "\n",
       "        [[0, 0, 0, ..., 0, 0, 0],\n",
       "         [1, 0, 0, ..., 0, 0, 0],\n",
       "         [1, 0, 0, ..., 0, 0, 1],\n",
       "         ...,\n",
       "         [0, 0, 0, ..., 0, 0, 1],\n",
       "         [0, 0, 0, ..., 0, 0, 0],\n",
       "         [0, 0, 0, ..., 0, 0, 0]],\n",
       "\n",
       "        [[0, 0, 0, ..., 0, 0, 0],\n",
       "         [1, 0, 0, ..., 0, 0, 0],\n",
       "         [1, 0, 0, ..., 0, 0, 1],\n",
       "         ...,\n",
       "         [0, 0, 0, ..., 0, 0, 1],\n",
       "         [0, 0, 0, ..., 0, 0, 0],\n",
       "         [0, 0, 0, ..., 0, 0, 0]],\n",
       "\n",
       "        [[0, 0, 0, ..., 0, 0, 0],\n",
       "         [0, 0, 0, ..., 0, 0, 0],\n",
       "         [0, 0, 0, ..., 0, 0, 0],\n",
       "         ...,\n",
       "         [0, 0, 0, ..., 0, 0, 0],\n",
       "         [0, 0, 0, ..., 0, 0, 0],\n",
       "         [0, 0, 0, ..., 0, 0, 0]]],\n",
       "\n",
       "\n",
       "       [[[0, 0, 0, ..., 0, 0, 0],\n",
       "         [0, 0, 0, ..., 0, 0, 0],\n",
       "         [0, 0, 0, ..., 0, 0, 0],\n",
       "         ...,\n",
       "         [0, 0, 0, ..., 0, 0, 0],\n",
       "         [0, 0, 0, ..., 0, 0, 0],\n",
       "         [0, 0, 0, ..., 0, 0, 0]],\n",
       "\n",
       "        [[0, 0, 0, ..., 0, 0, 0],\n",
       "         [0, 0, 0, ..., 1, 0, 0],\n",
       "         [1, 1, 0, ..., 1, 0, 0],\n",
       "         ...,\n",
       "         [0, 0, 1, ..., 1, 0, 0],\n",
       "         [0, 0, 0, ..., 1, 0, 0],\n",
       "         [0, 0, 0, ..., 1, 0, 0]],\n",
       "\n",
       "        [[0, 0, 0, ..., 0, 0, 0],\n",
       "         [0, 0, 0, ..., 1, 0, 0],\n",
       "         [1, 1, 0, ..., 1, 0, 0],\n",
       "         ...,\n",
       "         [0, 0, 1, ..., 1, 0, 0],\n",
       "         [0, 0, 0, ..., 1, 0, 0],\n",
       "         [0, 0, 0, ..., 1, 0, 0]],\n",
       "\n",
       "        ...,\n",
       "\n",
       "        [[0, 0, 0, ..., 0, 0, 0],\n",
       "         [0, 0, 0, ..., 0, 0, 0],\n",
       "         [1, 1, 0, ..., 0, 0, 0],\n",
       "         ...,\n",
       "         [0, 0, 0, ..., 0, 0, 0],\n",
       "         [0, 0, 0, ..., 0, 0, 0],\n",
       "         [0, 0, 0, ..., 0, 0, 0]],\n",
       "\n",
       "        [[0, 0, 0, ..., 0, 0, 0],\n",
       "         [0, 0, 0, ..., 0, 0, 0],\n",
       "         [1, 1, 0, ..., 0, 0, 0],\n",
       "         ...,\n",
       "         [0, 0, 0, ..., 0, 0, 0],\n",
       "         [0, 0, 0, ..., 0, 0, 0],\n",
       "         [0, 0, 0, ..., 0, 0, 0]],\n",
       "\n",
       "        [[0, 0, 0, ..., 0, 0, 0],\n",
       "         [0, 0, 0, ..., 0, 0, 0],\n",
       "         [0, 0, 0, ..., 0, 0, 0],\n",
       "         ...,\n",
       "         [0, 0, 0, ..., 0, 0, 0],\n",
       "         [0, 0, 0, ..., 0, 0, 0],\n",
       "         [0, 0, 0, ..., 0, 0, 0]]],\n",
       "\n",
       "\n",
       "       ...,\n",
       "\n",
       "\n",
       "       [[[0, 0, 0, ..., 0, 0, 0],\n",
       "         [0, 0, 0, ..., 0, 0, 0],\n",
       "         [0, 0, 0, ..., 0, 0, 0],\n",
       "         ...,\n",
       "         [0, 0, 0, ..., 0, 0, 0],\n",
       "         [0, 0, 0, ..., 0, 0, 0],\n",
       "         [0, 0, 0, ..., 0, 0, 0]],\n",
       "\n",
       "        [[0, 0, 0, ..., 0, 0, 0],\n",
       "         [0, 0, 0, ..., 0, 0, 0],\n",
       "         [0, 0, 0, ..., 0, 0, 0],\n",
       "         ...,\n",
       "         [0, 0, 0, ..., 0, 0, 0],\n",
       "         [0, 0, 0, ..., 0, 0, 0],\n",
       "         [0, 0, 0, ..., 0, 0, 0]],\n",
       "\n",
       "        [[0, 0, 0, ..., 0, 0, 0],\n",
       "         [0, 0, 0, ..., 0, 0, 0],\n",
       "         [0, 0, 0, ..., 0, 0, 0],\n",
       "         ...,\n",
       "         [0, 0, 0, ..., 0, 0, 0],\n",
       "         [0, 0, 0, ..., 0, 0, 0],\n",
       "         [0, 0, 0, ..., 0, 0, 0]],\n",
       "\n",
       "        ...,\n",
       "\n",
       "        [[0, 0, 0, ..., 0, 0, 0],\n",
       "         [0, 0, 0, ..., 0, 0, 0],\n",
       "         [0, 0, 0, ..., 0, 0, 0],\n",
       "         ...,\n",
       "         [0, 0, 0, ..., 0, 0, 0],\n",
       "         [0, 0, 0, ..., 0, 0, 0],\n",
       "         [0, 0, 0, ..., 0, 0, 0]],\n",
       "\n",
       "        [[0, 0, 0, ..., 0, 0, 0],\n",
       "         [0, 0, 0, ..., 0, 0, 0],\n",
       "         [0, 0, 0, ..., 0, 0, 0],\n",
       "         ...,\n",
       "         [0, 0, 0, ..., 0, 0, 0],\n",
       "         [0, 0, 0, ..., 0, 0, 0],\n",
       "         [0, 0, 0, ..., 0, 0, 0]],\n",
       "\n",
       "        [[0, 0, 0, ..., 0, 0, 0],\n",
       "         [0, 0, 0, ..., 0, 0, 0],\n",
       "         [0, 0, 0, ..., 0, 0, 0],\n",
       "         ...,\n",
       "         [0, 0, 0, ..., 0, 0, 0],\n",
       "         [0, 0, 0, ..., 0, 0, 0],\n",
       "         [0, 0, 0, ..., 0, 0, 0]]],\n",
       "\n",
       "\n",
       "       [[[0, 0, 0, ..., 0, 0, 0],\n",
       "         [0, 0, 0, ..., 0, 0, 0],\n",
       "         [0, 0, 0, ..., 0, 0, 0],\n",
       "         ...,\n",
       "         [0, 1, 1, ..., 0, 0, 0],\n",
       "         [1, 1, 1, ..., 0, 0, 0],\n",
       "         [0, 0, 0, ..., 0, 0, 0]],\n",
       "\n",
       "        [[0, 0, 0, ..., 0, 0, 0],\n",
       "         [0, 0, 0, ..., 0, 0, 0],\n",
       "         [0, 0, 0, ..., 0, 0, 0],\n",
       "         ...,\n",
       "         [0, 1, 1, ..., 0, 0, 0],\n",
       "         [1, 1, 1, ..., 0, 0, 0],\n",
       "         [0, 0, 0, ..., 0, 0, 0]],\n",
       "\n",
       "        [[0, 0, 0, ..., 0, 0, 0],\n",
       "         [0, 0, 0, ..., 0, 0, 0],\n",
       "         [0, 0, 0, ..., 0, 0, 0],\n",
       "         ...,\n",
       "         [0, 1, 1, ..., 0, 0, 0],\n",
       "         [1, 1, 1, ..., 0, 0, 0],\n",
       "         [0, 0, 0, ..., 0, 0, 0]],\n",
       "\n",
       "        ...,\n",
       "\n",
       "        [[0, 0, 0, ..., 0, 0, 0],\n",
       "         [0, 0, 0, ..., 0, 0, 0],\n",
       "         [0, 0, 0, ..., 0, 0, 0],\n",
       "         ...,\n",
       "         [0, 0, 0, ..., 0, 0, 0],\n",
       "         [0, 0, 0, ..., 0, 0, 0],\n",
       "         [0, 0, 0, ..., 0, 0, 0]],\n",
       "\n",
       "        [[0, 0, 0, ..., 0, 0, 0],\n",
       "         [0, 0, 0, ..., 0, 0, 0],\n",
       "         [0, 0, 0, ..., 0, 0, 0],\n",
       "         ...,\n",
       "         [0, 0, 0, ..., 0, 0, 0],\n",
       "         [0, 0, 0, ..., 0, 0, 0],\n",
       "         [0, 0, 0, ..., 0, 0, 0]],\n",
       "\n",
       "        [[0, 0, 0, ..., 0, 0, 0],\n",
       "         [0, 0, 0, ..., 0, 0, 0],\n",
       "         [0, 0, 0, ..., 0, 0, 0],\n",
       "         ...,\n",
       "         [0, 0, 0, ..., 0, 0, 0],\n",
       "         [0, 0, 0, ..., 0, 0, 0],\n",
       "         [0, 0, 0, ..., 0, 0, 0]]],\n",
       "\n",
       "\n",
       "       [[[0, 0, 0, ..., 0, 0, 0],\n",
       "         [0, 0, 0, ..., 0, 0, 0],\n",
       "         [0, 0, 0, ..., 0, 0, 0],\n",
       "         ...,\n",
       "         [0, 0, 0, ..., 0, 0, 0],\n",
       "         [0, 0, 0, ..., 0, 0, 0],\n",
       "         [0, 0, 0, ..., 0, 0, 0]],\n",
       "\n",
       "        [[0, 0, 0, ..., 0, 0, 0],\n",
       "         [0, 0, 0, ..., 0, 0, 0],\n",
       "         [0, 0, 0, ..., 0, 0, 0],\n",
       "         ...,\n",
       "         [0, 0, 0, ..., 0, 0, 0],\n",
       "         [0, 0, 0, ..., 0, 0, 0],\n",
       "         [0, 0, 0, ..., 0, 0, 0]],\n",
       "\n",
       "        [[0, 0, 0, ..., 0, 0, 0],\n",
       "         [0, 0, 0, ..., 0, 0, 0],\n",
       "         [0, 0, 0, ..., 0, 0, 0],\n",
       "         ...,\n",
       "         [0, 0, 0, ..., 0, 0, 0],\n",
       "         [0, 0, 0, ..., 0, 0, 0],\n",
       "         [0, 0, 0, ..., 0, 0, 0]],\n",
       "\n",
       "        ...,\n",
       "\n",
       "        [[0, 0, 0, ..., 0, 0, 0],\n",
       "         [0, 0, 0, ..., 0, 0, 0],\n",
       "         [0, 0, 0, ..., 0, 0, 0],\n",
       "         ...,\n",
       "         [0, 0, 0, ..., 0, 0, 0],\n",
       "         [0, 0, 0, ..., 0, 0, 0],\n",
       "         [0, 0, 0, ..., 0, 0, 0]],\n",
       "\n",
       "        [[0, 0, 0, ..., 0, 0, 0],\n",
       "         [0, 0, 0, ..., 0, 0, 0],\n",
       "         [0, 0, 0, ..., 0, 0, 0],\n",
       "         ...,\n",
       "         [0, 0, 0, ..., 0, 0, 0],\n",
       "         [0, 0, 0, ..., 0, 0, 0],\n",
       "         [0, 0, 0, ..., 0, 0, 0]],\n",
       "\n",
       "        [[0, 0, 0, ..., 0, 0, 0],\n",
       "         [0, 0, 0, ..., 0, 0, 0],\n",
       "         [0, 0, 0, ..., 0, 0, 0],\n",
       "         ...,\n",
       "         [0, 0, 0, ..., 0, 0, 0],\n",
       "         [0, 0, 0, ..., 0, 0, 0],\n",
       "         [0, 0, 0, ..., 0, 0, 0]]]])"
      ]
     },
     "execution_count": 72,
     "metadata": {},
     "output_type": "execute_result"
    }
   ],
   "source": [
    "class_preds"
   ]
  },
  {
   "cell_type": "code",
   "execution_count": 73,
   "metadata": {},
   "outputs": [
    {
     "data": {
      "text/plain": [
       "(30036, 10, 10, 10)"
      ]
     },
     "execution_count": 73,
     "metadata": {},
     "output_type": "execute_result"
    }
   ],
   "source": [
    "class_preds.shape"
   ]
  },
  {
   "cell_type": "code",
   "execution_count": 74,
   "metadata": {},
   "outputs": [],
   "source": [
    "with h5py.File(f'GILES_STRONG_ID01_test_preds.h5', 'w') as h5:\n",
    "    h5.create_dataset(\"preds\", data=class_preds.astype(\"int\"), dtype=\"int\", compression='lzf')"
   ]
  },
  {
   "cell_type": "code",
   "execution_count": null,
   "metadata": {},
   "outputs": [],
   "source": []
  }
 ],
 "metadata": {
  "kernelspec": {
   "display_name": "Python 3",
   "language": "python",
   "name": "python3"
  },
  "language_info": {
   "codemirror_mode": {
    "name": "ipython",
    "version": 3
   },
   "file_extension": ".py",
   "mimetype": "text/x-python",
   "name": "python",
   "nbconvert_exporter": "python",
   "pygments_lexer": "ipython3",
   "version": "3.8.8"
  },
  "toc": {
   "base_numbering": 1,
   "nav_menu": {},
   "number_sections": true,
   "sideBar": true,
   "skip_h1_title": false,
   "title_cell": "Table of Contents",
   "title_sidebar": "Contents",
   "toc_cell": false,
   "toc_position": {},
   "toc_section_display": true,
   "toc_window_display": false
  }
 },
 "nbformat": 4,
 "nbformat_minor": 2
}
