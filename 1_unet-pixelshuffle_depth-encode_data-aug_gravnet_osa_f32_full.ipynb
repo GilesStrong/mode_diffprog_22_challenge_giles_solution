{
 "cells": [
  {
   "cell_type": "markdown",
   "metadata": {},
   "source": [
    "## Basic Modules\n",
    "\n",
    "Large hybrid UNet + GravNet model, built from pre-activation residual blocks with squeeze-excitation, up-sampling uses blurred pixel-shuffle.\n",
    "Centre of UNet is replaced by GravNet layers considering each voxel as a node in a graph, and learns new latent-space representation based on other voxels clustered in latent-space.\n",
    "Data augmentation provides four 90* rotations in xy plane, and a flip in the y axis, producing 7 extra copies of each volume. This is used during training and testing\n",
    "\n",
    "IOU ~= 0.818"
   ]
  },
  {
   "cell_type": "code",
   "execution_count": 1,
   "metadata": {},
   "outputs": [],
   "source": [
    "%matplotlib inline\n",
    "%reload_ext autoreload\n",
    "%autoreload 2"
   ]
  },
  {
   "cell_type": "code",
   "execution_count": 2,
   "metadata": {},
   "outputs": [],
   "source": [
    "import pandas as pd\n",
    "import numpy as np\n",
    "import os\n",
    "import h5py\n",
    "import pickle\n",
    "from typing import *\n",
    "from functools import partial\n",
    "from pathlib import Path\n",
    "import sparse\n",
    "import matplotlib.pyplot as plt\n",
    "import seaborn as sns\n",
    "from sklearn.pipeline import Pipeline\n",
    "from fastprogress import progress_bar, master_bar\n",
    "from fastcore.all import store_attr\n",
    "\n",
    "from lumin.data_processing.file_proc import *\n",
    "from lumin.nn.data.fold_yielder import *\n",
    "from lumin.nn.data.fold_yielder import FoldYielder\n",
    "from lumin.optimisation.hyper_param import lr_find\n",
    "from lumin.nn.callbacks.cyclic_callbacks import *\n",
    "from lumin.nn.metrics.eval_metric import EvalMetric\n",
    "from lumin.nn.models.model_builder import ModelBuilder\n",
    "from lumin.nn.models.model import Model\n",
    "from lumin.nn.models.blocks.body import *\n",
    "from lumin.nn.models.helpers import CatEmbedder\n",
    "from lumin.nn.models.blocks.head import *\n",
    "from lumin.nn.models.blocks.head import AbsHead, AbsMatrixHead\n",
    "from lumin.nn.models.blocks.tail import *\n",
    "from lumin.nn.models.initialisations import lookup_normal_init\n",
    "from lumin.nn.models.layers.activations import lookup_act\n",
    "from lumin.nn.models.layers.batchnorms import *\n",
    "from lumin.nn.training.train import train_models\n",
    "from lumin.nn.models.blocks.conv_blocks import *\n",
    "from lumin.nn.ensemble.ensemble import Ensemble\n",
    "from lumin.nn.models.blocks.gnn_blocks import *\n",
    "from lumin.nn.models.layers.self_attention import SelfAttention, OffsetSelfAttention\n",
    "\n",
    "import torch\n",
    "from torch import nn, Tensor\n",
    "import torch.nn.functional as F"
   ]
  },
  {
   "cell_type": "code",
   "execution_count": 3,
   "metadata": {},
   "outputs": [],
   "source": [
    "GPUID = 0"
   ]
  },
  {
   "cell_type": "code",
   "execution_count": 4,
   "metadata": {},
   "outputs": [],
   "source": [
    "torch.cuda.set_device(GPUID)"
   ]
  },
  {
   "cell_type": "code",
   "execution_count": 5,
   "metadata": {},
   "outputs": [],
   "source": [
    "PATH = Path(f'../data_{GPUID}/')"
   ]
  },
  {
   "cell_type": "code",
   "execution_count": 6,
   "metadata": {},
   "outputs": [],
   "source": [
    "FULL = True"
   ]
  },
  {
   "cell_type": "markdown",
   "metadata": {
    "heading_collapsed": true
   },
   "source": [
    "## Loading"
   ]
  },
  {
   "cell_type": "code",
   "execution_count": null,
   "metadata": {
    "hidden": true
   },
   "outputs": [],
   "source": [
    "RAWPATH = Path(f'../data/')"
   ]
  },
  {
   "cell_type": "code",
   "execution_count": null,
   "metadata": {
    "hidden": true
   },
   "outputs": [],
   "source": [
    "h5 = h5py.File(RAWPATH/'train.h5', 'r')"
   ]
  },
  {
   "cell_type": "code",
   "execution_count": null,
   "metadata": {
    "hidden": true
   },
   "outputs": [],
   "source": [
    "h5['targs'].shape"
   ]
  },
  {
   "cell_type": "code",
   "execution_count": null,
   "metadata": {
    "hidden": true
   },
   "outputs": [],
   "source": [
    "n_train = int(0.8*h5['targs'].shape[0])"
   ]
  },
  {
   "cell_type": "code",
   "execution_count": null,
   "metadata": {
    "hidden": true
   },
   "outputs": [],
   "source": [
    "train_x = h5['x0'][:n_train]\n",
    "train_y = h5['targs'][:n_train]\n",
    "valid_x = h5['x0'][n_train:]\n",
    "valid_y = h5['targs'][n_train:]"
   ]
  },
  {
   "cell_type": "code",
   "execution_count": null,
   "metadata": {
    "hidden": true
   },
   "outputs": [],
   "source": [
    "train_x.shape, valid_y.shape"
   ]
  },
  {
   "cell_type": "code",
   "execution_count": null,
   "metadata": {
    "hidden": true
   },
   "outputs": [],
   "source": [
    "h5.close()"
   ]
  },
  {
   "cell_type": "code",
   "execution_count": null,
   "metadata": {
    "hidden": true
   },
   "outputs": [],
   "source": [
    "with h5py.File(RAWPATH/'test.h5', 'r') as h5:\n",
    "    test_x = h5['x0'][()]"
   ]
  },
  {
   "cell_type": "markdown",
   "metadata": {
    "heading_collapsed": true
   },
   "source": [
    "## Preproc"
   ]
  },
  {
   "cell_type": "code",
   "execution_count": null,
   "metadata": {
    "hidden": true
   },
   "outputs": [],
   "source": [
    "mean = train_x.mean()\n",
    "std = train_x.std()"
   ]
  },
  {
   "cell_type": "code",
   "execution_count": null,
   "metadata": {
    "hidden": true
   },
   "outputs": [],
   "source": [
    "mean, std"
   ]
  },
  {
   "cell_type": "code",
   "execution_count": null,
   "metadata": {
    "hidden": true
   },
   "outputs": [],
   "source": [
    "train_x -= mean\n",
    "valid_x -= mean\n",
    "test_x -= mean"
   ]
  },
  {
   "cell_type": "code",
   "execution_count": null,
   "metadata": {
    "hidden": true
   },
   "outputs": [],
   "source": [
    "train_x /= std\n",
    "valid_x /= std\n",
    "test_x /= std"
   ]
  },
  {
   "cell_type": "code",
   "execution_count": null,
   "metadata": {
    "hidden": true
   },
   "outputs": [],
   "source": [
    "test_x.mean(), test_x.std()"
   ]
  },
  {
   "cell_type": "markdown",
   "metadata": {
    "heading_collapsed": true
   },
   "source": [
    "## Saving"
   ]
  },
  {
   "cell_type": "code",
   "execution_count": null,
   "metadata": {
    "hidden": true
   },
   "outputs": [],
   "source": [
    "train_y.shape"
   ]
  },
  {
   "cell_type": "code",
   "execution_count": null,
   "metadata": {
    "hidden": true
   },
   "outputs": [],
   "source": [
    "train_y.reshape(len(train_y), 1000).shape"
   ]
  },
  {
   "cell_type": "code",
   "execution_count": null,
   "metadata": {
    "hidden": true
   },
   "outputs": [],
   "source": [
    "def to_ff(out_name:str, x0:np.ndarray, targs:np.ndarray, as_sparse:bool, n_folds:int=10) -> None:\n",
    "    df2foldfile(df=None, n_folds=n_folds,\n",
    "                targ_feats='gen_target', savename=out_name, targ_type='int', tensor_target=targs.reshape(len(targs), -1),\n",
    "                cont_feats=[], cat_feats=[], tensor_data=x0[:,None], tensor_name='x0', compression='lzf', tensor_target_as_sparse=as_sparse)"
   ]
  },
  {
   "cell_type": "code",
   "execution_count": null,
   "metadata": {
    "hidden": true
   },
   "outputs": [],
   "source": [
    "to_ff(PATH/'train_lumin_full', train_x, train_y, as_sparse=True)"
   ]
  },
  {
   "cell_type": "code",
   "execution_count": null,
   "metadata": {
    "hidden": true
   },
   "outputs": [],
   "source": [
    "to_ff(PATH/'valid_lumi_full', valid_x, valid_y, as_sparse=True)"
   ]
  },
  {
   "cell_type": "code",
   "execution_count": null,
   "metadata": {
    "hidden": true
   },
   "outputs": [],
   "source": [
    "to_ff(PATH/'test_lumin', test_x, test_x, as_sparse=True)"
   ]
  },
  {
   "cell_type": "markdown",
   "metadata": {},
   "source": [
    "## Load data"
   ]
  },
  {
   "cell_type": "markdown",
   "metadata": {},
   "source": [
    "Class below handles data loading, and can either provide random or fixed augmentation when loading batches"
   ]
  },
  {
   "cell_type": "code",
   "execution_count": 7,
   "metadata": {},
   "outputs": [],
   "source": [
    "class AugFoldYielder(FoldYielder):\n",
    "    def __init__(self, foldfile:Union[str,Path,h5py.File], cont_feats:Optional[List[str]]=None, cat_feats:Optional[List[str]]=None,\n",
    "                 ignore_feats:Optional[List[str]]=None,\n",
    "                 train_time_aug:bool=True, test_time_aug:bool=True,\n",
    "                 input_pipe:Optional[Pipeline]=None, output_pipe:Optional[Pipeline]=None,\n",
    "                 yield_matrix:bool=True, matrix_pipe:Optional[Union[str,Pipeline]]=None):\n",
    "        super().__init__(foldfile=foldfile, cont_feats=cont_feats, cat_feats=cat_feats,\n",
    "                         ignore_feats=ignore_feats, input_pipe=input_pipe, output_pipe=output_pipe,\n",
    "                         yield_matrix=yield_matrix, matrix_pipe=matrix_pipe)\n",
    "\n",
    "        self.train_time_aug,self.test_time_aug = train_time_aug,test_time_aug\n",
    "        self.augmented,self.aug_mult = True,8\n",
    "        \n",
    "    def _rotate(self, x0:np.ndarray, targ:np.ndarray, rot:int) -> Tuple[np.ndarray, np.ndarray]:\n",
    "        x0 = np.rot90(x0, rot, (-1,-2))\n",
    "        targ = np.rot90(targ, rot, (-1,-2))\n",
    "        return x0, targ\n",
    "    \n",
    "    def _flip_x(self, x0:np.ndarray, targ:np.ndarray) -> Tuple[np.ndarray, np.ndarray]: \n",
    "        x0 = np.flip(x0, -2)\n",
    "        targ = np.flip(targ, -2)\n",
    "        return x0, targ\n",
    "            \n",
    "    def get_fold(self, idx:int) -> Dict[str,np.ndarray]:\n",
    "        fold = super().get_fold(idx)\n",
    "        \n",
    "        x0 = fold['inputs'][1]\n",
    "        targ = fold['targets'].reshape(x0.shape)\n",
    "        \n",
    "        x0, targ = self._rotate(x0, targ, np.random.randint(4))\n",
    "        if np.random.rand(1) >= 0.5: x0, targ = self._flip_x(x0, targ)\n",
    "            \n",
    "        fold['inputs'] = (fold['inputs'][0],x0.copy())\n",
    "        fold['targets'] = targ.reshape(len(x0), -1).copy()\n",
    "        return fold\n",
    "    \n",
    "    def get_test_fold(self, idx:int, aug_idx:int) -> Dict[str, np.ndarray]:\n",
    "        if aug_idx >= self.aug_mult: raise ValueError(f\"Invalid augmentation idx passed {aug_idx}\")\n",
    "        fold = super().get_fold(idx)\n",
    "        \n",
    "        x0 = fold['inputs'][1]\n",
    "        targ = fold['targets'].reshape(x0.shape)\n",
    "        \n",
    "        x0, targ = self._rotate(x0, targ, aug_idx%4)\n",
    "        if aug_idx >= 4: x0, targ = self._flip_x(x0, targ)\n",
    "            \n",
    "        fold['inputs'] = (fold['inputs'][0],x0.copy())\n",
    "        fold['targets'] = targ.reshape(len(x0), -1).copy()\n",
    "        return fold"
   ]
  },
  {
   "cell_type": "code",
   "execution_count": 8,
   "metadata": {},
   "outputs": [],
   "source": [
    "train_fy = AugFoldYielder(PATH/f'train{\"_lumin_full.hdf5\" if FULL else \"_lumin.hdf5\"}')"
   ]
  },
  {
   "cell_type": "code",
   "execution_count": 9,
   "metadata": {},
   "outputs": [
    {
     "data": {
      "text/plain": [
       "<HDF5 dataset \"targets\": shape (3, 575474), type \"<i8\">"
      ]
     },
     "execution_count": 9,
     "metadata": {},
     "output_type": "execute_result"
    }
   ],
   "source": [
    "train_fy.foldfile['fold_0']['targets']"
   ]
  },
  {
   "cell_type": "markdown",
   "metadata": {},
   "source": [
    "## Model Building\n",
    "\n",
    "No 3D pixel shuffle in PyTorch, therefore make own"
   ]
  },
  {
   "cell_type": "code",
   "execution_count": 10,
   "metadata": {},
   "outputs": [],
   "source": [
    "class PixelShuffle1d(nn.Module):\n",
    "    def __init__(self, upscale_factor: int):\n",
    "        ''' Based on https://github.com/gap370/pixelshuffle3d/blob/master/pixelshuffle3d.py'''\n",
    "        super().__init__()\n",
    "        self.upscale_factor = upscale_factor\n",
    "        \n",
    "    def forward(self,  x:Tensor) -> Tensor:\n",
    "        b,cin,xin = x.size()\n",
    "        cout,xout = cin//self.upscale_factor,xin*self.upscale_factor\n",
    "        x = x.reshape(b, cout, self.upscale_factor, xin)\n",
    "        x = x.permute(0,1,3,2)\n",
    "        return x.reshape(b,cout,xout)"
   ]
  },
  {
   "cell_type": "code",
   "execution_count": 11,
   "metadata": {},
   "outputs": [],
   "source": [
    "class PixelShuffle2d(nn.Module):\n",
    "    def __init__(self, upscale_factor: int):\n",
    "        ''' Based on https://github.com/gap370/pixelshuffle3d/blob/master/pixelshuffle3d.py'''\n",
    "        super().__init__()\n",
    "        self.upscale_factor = upscale_factor\n",
    "        \n",
    "    def forward(self,  x:Tensor) -> Tensor:\n",
    "        b,cin,xin,yin = x.size()\n",
    "        cout,xout,yout = cin//(self.upscale_factor**2),xin*self.upscale_factor,yin*self.upscale_factor\n",
    "        x = x.reshape(b, cout, self.upscale_factor, self.upscale_factor, xin, yin)\n",
    "        x = x.permute(0,1,4,2,5,3)\n",
    "        return x.reshape(b,cout,xout,yout)"
   ]
  },
  {
   "cell_type": "code",
   "execution_count": 12,
   "metadata": {},
   "outputs": [],
   "source": [
    "class PixelShuffle3d(nn.Module):\n",
    "    def __init__(self, upscale_factor: int):\n",
    "        ''' Based on https://github.com/gap370/pixelshuffle3d/blob/master/pixelshuffle3d.py'''\n",
    "        super().__init__()\n",
    "        self.upscale_factor = upscale_factor\n",
    "        \n",
    "    def forward(self,  x:Tensor) -> Tensor:\n",
    "        b,cin,zin,xin,yin = x.size()\n",
    "        cout,zout,xout,yout = cin//(self.upscale_factor**3),zin*self.upscale_factor,xin*self.upscale_factor,yin*self.upscale_factor\n",
    "        x = x.reshape(b, cout, self.upscale_factor, self.upscale_factor, self.upscale_factor, zin, xin, yin)\n",
    "        x = x.permute(0,1,5,2,6,3,7,4)\n",
    "        return x.reshape(b,cout,zout,xout,yout)"
   ]
  },
  {
   "cell_type": "code",
   "execution_count": 13,
   "metadata": {},
   "outputs": [],
   "source": [
    "x = torch.rand(1,8,4,4)\n",
    "assert (nn.PixelShuffle(2)(x) == PixelShuffle2d(2)(x)).all()"
   ]
  },
  {
   "cell_type": "markdown",
   "metadata": {},
   "source": [
    "Custom UNet based on pre-activation residual blocks, with optional squeeze-excitation and depth encoding, centre replaced with GravNet"
   ]
  },
  {
   "cell_type": "code",
   "execution_count": 14,
   "metadata": {},
   "outputs": [],
   "source": [
    "class UNetGNN(AbsMatrixHead):\n",
    "    def __init__(self, *, shape:Tuple[int], act:str='swish', bn:bool=False, do:Optional[float]=None,\n",
    "                 # Unet options\n",
    "                 n_filters:int=16, ks_init:int=3, n_res_per_size:int=2, se_net_r:Optional[float]=None,\n",
    "                 encode_depth:bool=False, bn_class:Callable[[int],nn.Module]=nn.BatchNorm3d,\n",
    "                 \n",
    "                 # GNN options\n",
    "                 cat_means: bool = True,\n",
    "                 n_s: int,\n",
    "                 f_slr_depth: int,\n",
    "                 k: int,\n",
    "                 n_lr: int,\n",
    "                 f_out_depth: int,\n",
    "                 use_sa: bool,\n",
    "                 n_out: Union[List[int], int],\n",
    "                 gnn_bn:bool,                 \n",
    "                 \n",
    "                 # General options\n",
    "                 bn1d_class: Callable[[int], nn.Module] = nn.BatchNorm1d,\n",
    "                 sa_class: Callable[[int], nn.Module] = SelfAttention,\n",
    "                 lookup_init:Callable[[str,Optional[int],Optional[int]],Callable[[Tensor],None]]=lookup_normal_init,\n",
    "                 lookup_act:Callable[[str],Any]=lookup_act, freeze:bool=False, **kwargs):\n",
    "        r'''\n",
    "        Inherits from abstract LUMIN head block for matrix data\n",
    "        \n",
    "        Arguments:\n",
    "            shape: c,z,x,y shape of tensor to expect (no batch dim)\n",
    "            act: activation function to use\n",
    "            bn: whether to use batchnorm\n",
    "            do: dropout probabibilty (not implemented)\n",
    "            \n",
    "            n_filters: basis for number of channels in each level\n",
    "            ks_init: kernal size for initial conv layer\n",
    "            n_res_per_size: number of residual blocks per downsampling/upsampling stage\n",
    "            se_net_r: reduction coef for squeeze excitation blocks n_middle = n_in // r, None = no SE\n",
    "            encode_depth: adds z-layer inidcator feature before first and last blocks\n",
    "            \n",
    "            cat_means: inputs to GravNet layers concatenated with means of features across nodes\n",
    "            n_s: number of latent-spatial dimensions to compute\n",
    "            f_slr_depth: number of layers to use for the latent rep. NN\n",
    "            k: number of neighbours (including self) each vertex should consider when aggregating latent-representation features\n",
    "            n_lr: number of features to compute per vertex for latent representation\n",
    "            f_out_depth: number of layers to use for the output NN\n",
    "            use_sa: if true, will apply self-attention layer to the neighbourhhood features per vertex prior to aggregation\n",
    "            n_out: number of output features to compute per vertex\n",
    "            gnn_bn: whether batch normalisation should be applied to hidden layers in the NNs\n",
    "        '''\n",
    "        \n",
    "        super().__init__(cont_feats=[], vecs=[], feats_per_vec=[], lookup_init=lookup_init, lookup_act=lookup_act, freeze=freeze)\n",
    "        store_attr(but=['lookup_init', 'lookup_act', 'freeze'])\n",
    "        if self.do is not None: raise NotImplementedError('Implement Dropout')\n",
    "        \n",
    "        self.register_buffer('edges', self._get_edges())\n",
    "        self._make_layers()\n",
    "        self.out_sz = self.check_out_sz()\n",
    "        if self.freeze: self.freeze_layers()\n",
    "        self._map_outputs()\n",
    "        \n",
    "    def _make_layers(self) -> None:\n",
    "        # 1,10 -> n_filters, 10\n",
    "        self.input_block = nn.Sequential(self._get_conv_layer(2 if self.encode_depth else 1, self.n_filters, kernel_size=self.ks_init, preact=False),\n",
    "                                         *[self.ResBlock(self.n_filters, self.n_filters, parent=self)\n",
    "                                           for _ in range(self.n_res_per_size)])\n",
    "        # n_filters, 10 -> 2*n_filters, 5\n",
    "        self.down_block_1 = nn.Sequential(self.ResBlock(self.n_filters, self.n_filters*2, stride=2, parent=self),\n",
    "                                          *[self.ResBlock(self.n_filters*2, self.n_filters*2, parent=self)\n",
    "                                            for _ in range(self.n_res_per_size-1)])\n",
    "        self.rep_bn = nn.BatchNorm3d((self.n_filters*2)+3)\n",
    "        self.gnn = GravNet(\n",
    "            n_v=125,\n",
    "            n_fpv=(self.n_filters*2)+3,\n",
    "            cat_means=self.cat_means,\n",
    "            f_slr_depth=self.f_slr_depth,\n",
    "            n_s=self.n_s,\n",
    "            n_lr=self.n_lr,\n",
    "            k=self.k,\n",
    "            f_out_depth=self.f_out_depth,\n",
    "            n_out=self.n_out,\n",
    "            act=self.act,\n",
    "            use_sa=self.use_sa,\n",
    "            sa_class=self.sa_class,\n",
    "            agg_methods=[\"mean\", \"absmax\"],\n",
    "            bn=self.gnn_bn,\n",
    "            bn_class=self.bn1d_class\n",
    "        )     \n",
    "        \n",
    "        # collapse rep, 5 -> n_filters, 10\n",
    "        self.up_block_1 = nn.Sequential(self.PixelShuffleUpConv(self.gnn.get_out_size()[1], pad=True, parent=self),\n",
    "                                        self.ResBlock((self.gnn.get_out_size()[1]//2)+self.n_filters, self.n_filters, parent=self),\n",
    "                                        *[self.ResBlock(self.n_filters, self.n_filters, parent=self)\n",
    "                                          for _ in range(self.n_res_per_size-1)])\n",
    "        self.output_block = nn.Sequential(self._get_conv_layer(self.n_filters+1 if self.encode_depth else self.n_filters, 1, preact=True, bias=True),\n",
    "                                          nn.Sigmoid())\n",
    "        self.lookup_init('sigmoid')(self.output_block[0][-1].weight)\n",
    "        \n",
    "    class ResBlock(nn.Module):\n",
    "        def __init__(self, nin:int, nout:int, parent:'UNet', stride:int=1):\n",
    "            super().__init__()\n",
    "            self._get_conv,self._get_conv_layer = parent._get_conv,parent._get_conv_layer\n",
    "            self.act,self.bn,self.bn_class = parent.act,parent.bn,parent.bn_class,\n",
    "            self.lookup_act,self.lookup_init = parent.lookup_act,parent.lookup_init\n",
    "            \n",
    "            self.conv_path = self._get_conv_path(nin, nout, stride, parent.se_net_r)\n",
    "            self.shortcut = self._get_shortcut(nin, nout, stride) if stride != 1 or nin != nout else lambda x: x\n",
    "            \n",
    "        def _get_conv_path(self, nin:int, nout:int, stride:int, se_net_r:Optional[float]) -> nn.Sequential:  \n",
    "            layers = [self._get_conv_layer(nin=nin, nout=nout, kernel_size=3, stride=stride, preact=True),\n",
    "                      self._get_conv_layer(nin=nout, nout=nout, kernel_size=3, stride=1, preact=True)]\n",
    "            if se_net_r is not None:\n",
    "                layers.append(SEBlock3d(nout, se_net_r, act=self.act, lookup_init=self.lookup_init, lookup_act=self.lookup_act))\n",
    "            return nn.Sequential(*layers)\n",
    "            \n",
    "        def _get_shortcut(self, nin:int, nout:int, stride:int) -> nn.Sequential:\n",
    "            layers = [self.lookup_act(self.act)]\n",
    "            if self.bn: layers.append(self.bn_class(nin))\n",
    "            if stride != 1: layers.append(nn.AvgPool3d(3, stride=stride, padding=1, count_include_pad=False))\n",
    "            if nin != nout: layers.append(self._get_conv(nin=nin, nout=nout, act=self.act, kernel_size=1, stride=1, bias=False))\n",
    "            return nn.Sequential(*layers)\n",
    "        \n",
    "        def forward(self, x:Tensor) -> Tensor:\n",
    "            return self.conv_path(x)+self.shortcut(x)\n",
    "        \n",
    "    class PixelShuffleUpConv(nn.Module):\n",
    "        def __init__(self, nin:int, parent:'UNet', scale:int=2, pad:bool=True):\n",
    "            super().__init__()\n",
    "            self._get_conv,self._get_conv_layer = parent._get_conv,parent._get_conv_layer\n",
    "            self.act,self.bn,self.bn_class = parent.act,parent.bn,parent.bn_class,\n",
    "            self.lookup_act,self.lookup_init = parent.lookup_act,parent.lookup_init\n",
    "            \n",
    "            self.up_conv = self._get_layers(nin, scale, pad)\n",
    "            \n",
    "        def _get_layers(self, nin:int, scale:int, pad:bool) -> nn.Sequential:\n",
    "            layers = [self._get_conv_layer(nin=nin, nout=nin*(scale**2), kernel_size=1, stride=1, preact=True),\n",
    "                      PixelShuffle3d(scale)]\n",
    "            if pad: layers.append(nn.ReplicationPad3d((1,0,1,0,1,0)))\n",
    "            layers.append(nn.AvgPool3d(2, 1))\n",
    "            return nn.Sequential(*layers)\n",
    "            \n",
    "        def forward(self, x:Tuple[Tensor,Tensor]) -> Tensor:\n",
    "            x_up,x_skip = x[0],x[1]\n",
    "            x_up = self.up_conv(x_up)\n",
    "            return torch.cat((x_up, x_skip), dim=1)\n",
    "                \n",
    "    def _get_conv(self, nin:int, nout:int, act:str, kernel_size:int, stride:int, bias:bool) -> nn.Conv3d:\n",
    "        c = nn.Conv3d(nin, nout, kernel_size=kernel_size, stride=stride, padding=kernel_size//2, bias=bias)\n",
    "        self.lookup_init(act)(c.weight)\n",
    "        if bias: nn.init.zeros_(c.bias)\n",
    "        return c\n",
    "        \n",
    "    def _get_conv_layer(self, nin:int, nout:int, kernel_size:int=3, stride:int=1, bias:bool=False, preact:bool=True) -> nn.Sequential:\n",
    "        layers = []\n",
    "        if preact:\n",
    "            if self.bn: layers.append(self.bn_class(nin))\n",
    "            layers.append(self.lookup_act(self.act))\n",
    "        layers.append(self._get_conv(nin=nin, nout=nout, act=self.act, kernel_size=kernel_size, stride=stride, bias=bias))\n",
    "        if not preact:\n",
    "            layers.append(self.lookup_act(self.act))\n",
    "            if self.bn: layers.append(self.bn_class(nout))\n",
    "        return nn.Sequential(*layers)\n",
    "    \n",
    "    def _get_edges(self) -> Tensor:\n",
    "        bounds = (\n",
    "            np.mgrid[\n",
    "                0 : 5 : 1,\n",
    "                0 : 5 : 1,\n",
    "                0 : 5 : 1,\n",
    "            ]\n",
    "        )\n",
    "        edges = torch.tensor(bounds, dtype=torch.float32)\n",
    "        edges = edges-edges.mean([1,2,3], keepdim=True)\n",
    "        edges = edges/edges.std([1,2,3], keepdim=True)\n",
    "        return edges\n",
    "        \n",
    "    def forward(self, x:Tensor) -> Tensor:\n",
    "        x = self._process_input(x)\n",
    "        \n",
    "        if self.encode_depth:\n",
    "            depth = torch.arange(x.shape[2], device=x.device, dtype=torch.float32)[None,None,:,None,None].expand_as(x)\n",
    "            depth = depth-(x.shape[2]/2)\n",
    "            depth = depth/depth.std()\n",
    "            x = torch.cat((x,depth), dim=1)\n",
    "        \n",
    "        # Downsample\n",
    "        input = self.input_block(x)  # 1, 10 -> n_filters, 10 \n",
    "        down_1 = self.down_block_1(input)  # n_filters, 10 -> 2*n_filters, 5\n",
    "        \n",
    "        # GNN\n",
    "        # input=(batch,x0,z,x,y)\n",
    "        x = torch.cat((down_1, self.edges[None].expand(len(down_1), -1, -1, -1, -1)), dim=1)\n",
    "        x = self.rep_bn(x)\n",
    "        x = x.reshape(x.size(0),x.size(1),125).transpose(-1,-2)  # (volume,voxel,(c,z,x,y))\n",
    "        \n",
    "        x = self.gnn(x) # (volume,voxel,(c,z,x,y)) -> (volume,voxel,vox_rep)\n",
    "        x = x.transpose(-1,-2).reshape(len(input), x.size(2), 5, 5, 5)\n",
    "        \n",
    "        # Upsample\n",
    "        x = self.up_block_1((x, input)) # ?, 5 -> n_filters, 10\n",
    "        if self.encode_depth:\n",
    "            x = torch.cat((x,depth), dim=1)\n",
    "        x = self.output_block(x)  # n_filters, 10 -> 1, 10\n",
    "        return x.reshape(x.shape[0],-1)\n",
    "    \n",
    "    def _map_outputs(self) -> None:\n",
    "        self.feat_map = {}\n",
    "        for i, f in enumerate(self.cont_feats): self.feat_map[f] = list(range(self.get_out_size()))\n",
    "            \n",
    "    def check_out_sz(self) -> int:\n",
    "        r'''\n",
    "        Automatically computes the output size of the head by passing through random data of the expected shape\n",
    "\n",
    "        Returns:\n",
    "            x.size(-1) where x is the outgoing tensor from the head\n",
    "        '''\n",
    "\n",
    "        x = torch.zeros((1, *self.shape))\n",
    "        training = self.training\n",
    "        self.eval()\n",
    "        x = self.forward(x)\n",
    "        if training: self.train()\n",
    "        return x.size(-1)\n",
    "    \n",
    "    def get_out_size(self) -> int:\n",
    "        r'''\n",
    "        Get size of output\n",
    "\n",
    "        Returns:\n",
    "            Width of output representation\n",
    "        '''\n",
    "        \n",
    "        return self.out_sz"
   ]
  },
  {
   "cell_type": "markdown",
   "metadata": {},
   "source": [
    "Use soft-IOU as loss function"
   ]
  },
  {
   "cell_type": "code",
   "execution_count": 15,
   "metadata": {},
   "outputs": [],
   "source": [
    "class BinarySoftIOULoss(nn.Module):\n",
    "    def __init__(self, use_square_sum:bool=False, smooth=1e-17):\n",
    "        super().__init__()\n",
    "        self.use_square_sum,self.smooth = use_square_sum,smooth\n",
    "        \n",
    "    def forward(self, input: Tensor, target: Tensor) -> Tensor:\n",
    "        inter = (input*target).sum(-1)\n",
    "        union = input.square().sum(-1) if self.use_square_sum else input.sum(-1)\n",
    "        union = union+target.sum(-1)-inter\n",
    "        return 1-((inter+self.smooth)/(union+self.smooth)).mean()"
   ]
  },
  {
   "cell_type": "markdown",
   "metadata": {},
   "source": [
    "Lumin model builder. Place entire model as the head block, body and tail blocks just pass input straight to output."
   ]
  },
  {
   "cell_type": "code",
   "execution_count": 17,
   "metadata": {
    "scrolled": false
   },
   "outputs": [
    {
     "name": "stdout",
     "output_type": "stream",
     "text": [
      "Inputs:\n",
      "0 Continuous: []\n",
      "                   \n",
      "0  Categorical: []\n",
      "                   \n",
      "0  Matrix elements: []\n",
      "                   \n",
      "\n",
      "Model:\n",
      "<bound method Module.parameters of Sequential(\n",
      "  (0): UNetGNN(\n",
      "    (input_block): Sequential(\n",
      "      (0): Sequential(\n",
      "        (0): Conv3d(2, 32, kernel_size=(3, 3, 3), stride=(1, 1, 1), padding=(1, 1, 1), bias=False)\n",
      "        (1): Swish()\n",
      "        (2): BatchNorm3d(32, eps=1e-05, momentum=0.1, affine=True, track_running_stats=True)\n",
      "      )\n",
      "      (1): ResBlock(\n",
      "        (conv_path): Sequential(\n",
      "          (0): Sequential(\n",
      "            (0): BatchNorm3d(32, eps=1e-05, momentum=0.1, affine=True, track_running_stats=True)\n",
      "            (1): Swish()\n",
      "            (2): Conv3d(32, 32, kernel_size=(3, 3, 3), stride=(1, 1, 1), padding=(1, 1, 1), bias=False)\n",
      "          )\n",
      "          (1): Sequential(\n",
      "            (0): BatchNorm3d(32, eps=1e-05, momentum=0.1, affine=True, track_running_stats=True)\n",
      "            (1): Swish()\n",
      "            (2): Conv3d(32, 32, kernel_size=(3, 3, 3), stride=(1, 1, 1), padding=(1, 1, 1), bias=False)\n",
      "          )\n",
      "          (2): SEBlock3d(\n",
      "            (layers): Sequential(\n",
      "              (0): Linear(in_features=32, out_features=8, bias=True)\n",
      "              (1): Swish()\n",
      "              (2): Linear(in_features=8, out_features=32, bias=True)\n",
      "              (3): Sigmoid()\n",
      "            )\n",
      "            (pool): AdaptiveAvgPool3d(output_size=[1, 1, 1])\n",
      "          )\n",
      "        )\n",
      "      )\n",
      "      (2): ResBlock(\n",
      "        (conv_path): Sequential(\n",
      "          (0): Sequential(\n",
      "            (0): BatchNorm3d(32, eps=1e-05, momentum=0.1, affine=True, track_running_stats=True)\n",
      "            (1): Swish()\n",
      "            (2): Conv3d(32, 32, kernel_size=(3, 3, 3), stride=(1, 1, 1), padding=(1, 1, 1), bias=False)\n",
      "          )\n",
      "          (1): Sequential(\n",
      "            (0): BatchNorm3d(32, eps=1e-05, momentum=0.1, affine=True, track_running_stats=True)\n",
      "            (1): Swish()\n",
      "            (2): Conv3d(32, 32, kernel_size=(3, 3, 3), stride=(1, 1, 1), padding=(1, 1, 1), bias=False)\n",
      "          )\n",
      "          (2): SEBlock3d(\n",
      "            (layers): Sequential(\n",
      "              (0): Linear(in_features=32, out_features=8, bias=True)\n",
      "              (1): Swish()\n",
      "              (2): Linear(in_features=8, out_features=32, bias=True)\n",
      "              (3): Sigmoid()\n",
      "            )\n",
      "            (pool): AdaptiveAvgPool3d(output_size=[1, 1, 1])\n",
      "          )\n",
      "        )\n",
      "      )\n",
      "    )\n",
      "    (down_block_1): Sequential(\n",
      "      (0): ResBlock(\n",
      "        (conv_path): Sequential(\n",
      "          (0): Sequential(\n",
      "            (0): BatchNorm3d(32, eps=1e-05, momentum=0.1, affine=True, track_running_stats=True)\n",
      "            (1): Swish()\n",
      "            (2): Conv3d(32, 64, kernel_size=(3, 3, 3), stride=(2, 2, 2), padding=(1, 1, 1), bias=False)\n",
      "          )\n",
      "          (1): Sequential(\n",
      "            (0): BatchNorm3d(64, eps=1e-05, momentum=0.1, affine=True, track_running_stats=True)\n",
      "            (1): Swish()\n",
      "            (2): Conv3d(64, 64, kernel_size=(3, 3, 3), stride=(1, 1, 1), padding=(1, 1, 1), bias=False)\n",
      "          )\n",
      "          (2): SEBlock3d(\n",
      "            (layers): Sequential(\n",
      "              (0): Linear(in_features=64, out_features=16, bias=True)\n",
      "              (1): Swish()\n",
      "              (2): Linear(in_features=16, out_features=64, bias=True)\n",
      "              (3): Sigmoid()\n",
      "            )\n",
      "            (pool): AdaptiveAvgPool3d(output_size=[1, 1, 1])\n",
      "          )\n",
      "        )\n",
      "        (shortcut): Sequential(\n",
      "          (0): Swish()\n",
      "          (1): BatchNorm3d(32, eps=1e-05, momentum=0.1, affine=True, track_running_stats=True)\n",
      "          (2): AvgPool3d(kernel_size=3, stride=2, padding=1)\n",
      "          (3): Conv3d(32, 64, kernel_size=(1, 1, 1), stride=(1, 1, 1), bias=False)\n",
      "        )\n",
      "      )\n",
      "      (1): ResBlock(\n",
      "        (conv_path): Sequential(\n",
      "          (0): Sequential(\n",
      "            (0): BatchNorm3d(64, eps=1e-05, momentum=0.1, affine=True, track_running_stats=True)\n",
      "            (1): Swish()\n",
      "            (2): Conv3d(64, 64, kernel_size=(3, 3, 3), stride=(1, 1, 1), padding=(1, 1, 1), bias=False)\n",
      "          )\n",
      "          (1): Sequential(\n",
      "            (0): BatchNorm3d(64, eps=1e-05, momentum=0.1, affine=True, track_running_stats=True)\n",
      "            (1): Swish()\n",
      "            (2): Conv3d(64, 64, kernel_size=(3, 3, 3), stride=(1, 1, 1), padding=(1, 1, 1), bias=False)\n",
      "          )\n",
      "          (2): SEBlock3d(\n",
      "            (layers): Sequential(\n",
      "              (0): Linear(in_features=64, out_features=16, bias=True)\n",
      "              (1): Swish()\n",
      "              (2): Linear(in_features=16, out_features=64, bias=True)\n",
      "              (3): Sigmoid()\n",
      "            )\n",
      "            (pool): AdaptiveAvgPool3d(output_size=[1, 1, 1])\n",
      "          )\n",
      "        )\n",
      "      )\n",
      "    )\n",
      "    (rep_bn): BatchNorm3d(67, eps=1e-05, momentum=0.1, affine=True, track_running_stats=True)\n",
      "    (gnn): GravNet(\n",
      "      (grav_layers): ModuleList(\n",
      "        (0): GravNetLayer(\n",
      "          (f_slr): Sequential(\n",
      "            (0): Sequential(\n",
      "              (0): Linear(in_features=134, out_features=62, bias=True)\n",
      "              (1): Swish()\n",
      "              (2): LCBatchNorm1d(\n",
      "                (bn): BatchNorm1d(62, eps=1e-05, momentum=0.1, affine=True, track_running_stats=True)\n",
      "              )\n",
      "            )\n",
      "            (1): Sequential(\n",
      "              (0): Linear(in_features=62, out_features=31, bias=True)\n",
      "              (1): Swish()\n",
      "              (2): LCBatchNorm1d(\n",
      "                (bn): BatchNorm1d(31, eps=1e-05, momentum=0.1, affine=True, track_running_stats=True)\n",
      "              )\n",
      "            )\n",
      "          )\n",
      "          (f_out): Sequential(\n",
      "            (0): Sequential(\n",
      "              (0): Linear(in_features=184, out_features=100, bias=True)\n",
      "              (1): Swish()\n",
      "              (2): LCBatchNorm1d(\n",
      "                (bn): BatchNorm1d(100, eps=1e-05, momentum=0.1, affine=True, track_running_stats=True)\n",
      "              )\n",
      "            )\n",
      "            (1): Sequential(\n",
      "              (0): Linear(in_features=100, out_features=50, bias=True)\n",
      "              (1): Swish()\n",
      "              (2): LCBatchNorm1d(\n",
      "                (bn): BatchNorm1d(50, eps=1e-05, momentum=0.1, affine=True, track_running_stats=True)\n",
      "              )\n",
      "            )\n",
      "          )\n",
      "          (sa_agg): OffsetSelfAttention(\n",
      "            (q): Linear(in_features=25, out_features=6, bias=True)\n",
      "            (k): Linear(in_features=25, out_features=6, bias=True)\n",
      "            (v): Linear(in_features=25, out_features=25, bias=True)\n",
      "            (out): Sequential(\n",
      "              (0): Linear(in_features=25, out_features=25, bias=True)\n",
      "              (1): Swish()\n",
      "            )\n",
      "          )\n",
      "        )\n",
      "        (1): GravNetLayer(\n",
      "          (f_slr): Sequential(\n",
      "            (0): Sequential(\n",
      "              (0): Linear(in_features=100, out_features=62, bias=True)\n",
      "              (1): Swish()\n",
      "              (2): LCBatchNorm1d(\n",
      "                (bn): BatchNorm1d(62, eps=1e-05, momentum=0.1, affine=True, track_running_stats=True)\n",
      "              )\n",
      "            )\n",
      "            (1): Sequential(\n",
      "              (0): Linear(in_features=62, out_features=31, bias=True)\n",
      "              (1): Swish()\n",
      "              (2): LCBatchNorm1d(\n",
      "                (bn): BatchNorm1d(31, eps=1e-05, momentum=0.1, affine=True, track_running_stats=True)\n",
      "              )\n",
      "            )\n",
      "          )\n",
      "          (f_out): Sequential(\n",
      "            (0): Sequential(\n",
      "              (0): Linear(in_features=150, out_features=100, bias=True)\n",
      "              (1): Swish()\n",
      "              (2): LCBatchNorm1d(\n",
      "                (bn): BatchNorm1d(100, eps=1e-05, momentum=0.1, affine=True, track_running_stats=True)\n",
      "              )\n",
      "            )\n",
      "            (1): Sequential(\n",
      "              (0): Linear(in_features=100, out_features=50, bias=True)\n",
      "              (1): Swish()\n",
      "              (2): LCBatchNorm1d(\n",
      "                (bn): BatchNorm1d(50, eps=1e-05, momentum=0.1, affine=True, track_running_stats=True)\n",
      "              )\n",
      "            )\n",
      "          )\n",
      "          (sa_agg): OffsetSelfAttention(\n",
      "            (q): Linear(in_features=25, out_features=6, bias=True)\n",
      "            (k): Linear(in_features=25, out_features=6, bias=True)\n",
      "            (v): Linear(in_features=25, out_features=25, bias=True)\n",
      "            (out): Sequential(\n",
      "              (0): Linear(in_features=25, out_features=25, bias=True)\n",
      "              (1): Swish()\n",
      "            )\n",
      "          )\n",
      "        )\n",
      "      )\n",
      "    )\n",
      "    (up_block_1): Sequential(\n",
      "      (0): PixelShuffleUpConv(\n",
      "        (up_conv): Sequential(\n",
      "          (0): Sequential(\n",
      "            (0): BatchNorm3d(100, eps=1e-05, momentum=0.1, affine=True, track_running_stats=True)\n",
      "            (1): Swish()\n",
      "            (2): Conv3d(100, 400, kernel_size=(1, 1, 1), stride=(1, 1, 1), bias=False)\n",
      "          )\n",
      "          (1): PixelShuffle3d()\n",
      "          (2): ReplicationPad3d((1, 0, 1, 0, 1, 0))\n",
      "          (3): AvgPool3d(kernel_size=2, stride=1, padding=0)\n",
      "        )\n",
      "      )\n",
      "      (1): ResBlock(\n",
      "        (conv_path): Sequential(\n",
      "          (0): Sequential(\n",
      "            (0): BatchNorm3d(82, eps=1e-05, momentum=0.1, affine=True, track_running_stats=True)\n",
      "            (1): Swish()\n",
      "            (2): Conv3d(82, 32, kernel_size=(3, 3, 3), stride=(1, 1, 1), padding=(1, 1, 1), bias=False)\n",
      "          )\n",
      "          (1): Sequential(\n",
      "            (0): BatchNorm3d(32, eps=1e-05, momentum=0.1, affine=True, track_running_stats=True)\n",
      "            (1): Swish()\n",
      "            (2): Conv3d(32, 32, kernel_size=(3, 3, 3), stride=(1, 1, 1), padding=(1, 1, 1), bias=False)\n",
      "          )\n",
      "          (2): SEBlock3d(\n",
      "            (layers): Sequential(\n",
      "              (0): Linear(in_features=32, out_features=8, bias=True)\n",
      "              (1): Swish()\n",
      "              (2): Linear(in_features=8, out_features=32, bias=True)\n",
      "              (3): Sigmoid()\n",
      "            )\n",
      "            (pool): AdaptiveAvgPool3d(output_size=[1, 1, 1])\n",
      "          )\n",
      "        )\n",
      "        (shortcut): Sequential(\n",
      "          (0): Swish()\n",
      "          (1): BatchNorm3d(82, eps=1e-05, momentum=0.1, affine=True, track_running_stats=True)\n",
      "          (2): Conv3d(82, 32, kernel_size=(1, 1, 1), stride=(1, 1, 1), bias=False)\n",
      "        )\n",
      "      )\n",
      "      (2): ResBlock(\n",
      "        (conv_path): Sequential(\n",
      "          (0): Sequential(\n",
      "            (0): BatchNorm3d(32, eps=1e-05, momentum=0.1, affine=True, track_running_stats=True)\n",
      "            (1): Swish()\n",
      "            (2): Conv3d(32, 32, kernel_size=(3, 3, 3), stride=(1, 1, 1), padding=(1, 1, 1), bias=False)\n",
      "          )\n",
      "          (1): Sequential(\n",
      "            (0): BatchNorm3d(32, eps=1e-05, momentum=0.1, affine=True, track_running_stats=True)\n",
      "            (1): Swish()\n",
      "            (2): Conv3d(32, 32, kernel_size=(3, 3, 3), stride=(1, 1, 1), padding=(1, 1, 1), bias=False)\n",
      "          )\n",
      "          (2): SEBlock3d(\n",
      "            (layers): Sequential(\n",
      "              (0): Linear(in_features=32, out_features=8, bias=True)\n",
      "              (1): Swish()\n",
      "              (2): Linear(in_features=8, out_features=32, bias=True)\n",
      "              (3): Sigmoid()\n",
      "            )\n",
      "            (pool): AdaptiveAvgPool3d(output_size=[1, 1, 1])\n",
      "          )\n",
      "        )\n",
      "      )\n",
      "    )\n",
      "    (output_block): Sequential(\n",
      "      (0): Sequential(\n",
      "        (0): BatchNorm3d(33, eps=1e-05, momentum=0.1, affine=True, track_running_stats=True)\n",
      "        (1): Swish()\n",
      "        (2): Conv3d(33, 1, kernel_size=(3, 3, 3), stride=(1, 1, 1), padding=(1, 1, 1))\n",
      "      )\n",
      "      (1): Sigmoid()\n",
      "    )\n",
      "  )\n",
      "  (1): IdentBody()\n",
      "  (2): IdentTail()\n",
      ")>\n",
      "                   \n",
      "\n",
      "Number of trainable parameters: 773398\n",
      "                   \n",
      "\n",
      "Optimiser:\n",
      "Adam (\n",
      "Parameter Group 0\n",
      "    amsgrad: False\n",
      "    betas: (0.9, 0.999)\n",
      "    eps: 1e-08\n",
      "    lr: 0.002\n",
      "    weight_decay: 0\n",
      ")\n",
      "                   \n",
      "\n",
      "Loss:\n",
      "<class '__main__.BinarySoftIOULoss'>\n"
     ]
    }
   ],
   "source": [
    "bs = 256 if FULL else 32\n",
    "objective = 'classifier'\n",
    "\n",
    "head = partial(UNetGNN,\n",
    "               # UNet\n",
    "               shape=train_fy.matrix_shape,\n",
    "               bn=True,\n",
    "               encode_depth=True,\n",
    "               n_res_per_size=2 if FULL else 1,\n",
    "               n_filters=32 if FULL else 4,\n",
    "               se_net_r=4 if FULL else None,\n",
    "               \n",
    "               # GNN\n",
    "               n_s=6,\n",
    "               f_slr_depth=2,\n",
    "               k=25,\n",
    "               n_lr=25,\n",
    "               f_out_depth=2,\n",
    "               use_sa=True,\n",
    "               n_out=[50, 50],\n",
    "               gnn_bn=True,\n",
    "               sa_class=OffsetSelfAttention,\n",
    "              )\n",
    "model_builder = ModelBuilder(objective, cont_feats=train_fy.cont_feats, n_out=1, cat_embedder=None, \n",
    "                             opt_args={'opt':'adam', 'eps':1e-08}, body=partial(IdentBody), head=head, tail=partial(IdentTail), loss=BinarySoftIOULoss)\n",
    "print(Model(model_builder))"
   ]
  },
  {
   "cell_type": "markdown",
   "metadata": {},
   "source": [
    "## Training"
   ]
  },
  {
   "cell_type": "markdown",
   "metadata": {},
   "source": [
    "Optional LR Finder, but I just used 1e-4->1e-2 for all trainings"
   ]
  },
  {
   "cell_type": "code",
   "execution_count": null,
   "metadata": {},
   "outputs": [],
   "source": [
    "lr_finder = lr_find(train_fy, model_builder, bs, lr_bounds=[1e-6,1e0], n_repeats=2)"
   ]
  },
  {
   "cell_type": "code",
   "execution_count": 18,
   "metadata": {},
   "outputs": [],
   "source": [
    "def binary_iou(preds:np.ndarray, targs:np.ndarray, as_mean:bool=True, smooth:float=1e-17) -> float:\n",
    "    r'''\n",
    "    Assumes that preds and targs have a batch dimension, and no class dimension, i.e. (batch, z, x, y)\n",
    "    If the batch dimesion is missing, e.g. your are computing the IOU for a single sample,\n",
    "    add it with e.g. preds[None], targs[None]\n",
    "    '''\n",
    "    \n",
    "    preds = preds.reshape(len(preds), 1, -1).astype(bool)\n",
    "    targs = targs.reshape(len(targs), 1, -1).astype(bool)\n",
    "    \n",
    "    inter = (preds*targs).sum(-1)\n",
    "    union = (preds+targs).sum(-1)\n",
    "    iou = ((inter+smooth)/(union+smooth))  # Small epsilon in case of zero union\n",
    "\n",
    "    if as_mean: iou = iou.mean() \n",
    "    return iou"
   ]
  },
  {
   "cell_type": "markdown",
   "metadata": {},
   "source": [
    "IOU metric with thresholding. Should be similar to 1-loss."
   ]
  },
  {
   "cell_type": "code",
   "execution_count": 19,
   "metadata": {},
   "outputs": [],
   "source": [
    "class IOUMetric(EvalMetric):\n",
    "    def __init__(self, cut:float=0.5, main_metric:bool=True):\n",
    "        super().__init__(name='IOU', lower_metric_better=False)\n",
    "        self.cut = cut\n",
    "        \n",
    "    def evaluate(self) -> float:\n",
    "        df = self.get_df()\n",
    "        return binary_iou(df[[p for p in df.columns if 'pred_' in p]].values>=self.cut, df[[t for t in df.columns if 'gen_target_' in t]].values)"
   ]
  },
  {
   "cell_type": "markdown",
   "metadata": {},
   "source": [
    "OneCycle with cosine interpolation for the LR and momentum, warm-up from 1e-4 to 1e-2 over 5 epochs, decay from 1e-2 to zero over 45 epochs"
   ]
  },
  {
   "cell_type": "code",
   "execution_count": 20,
   "metadata": {},
   "outputs": [],
   "source": [
    "n_epochs = 50 if FULL else 15\n",
    "cb_partials = [partial(OneCycle, lengths=[5, n_epochs-5],lr_range=[1e-4, 1e-2], mom_range=[0.85, 0.95], interp='cosine')]\n",
    "metric_partials = [IOUMetric]"
   ]
  },
  {
   "cell_type": "code",
   "execution_count": 22,
   "metadata": {
    "scrolled": false
   },
   "outputs": [
    {
     "data": {
      "text/html": [],
      "text/plain": [
       "<IPython.core.display.HTML object>"
      ]
     },
     "metadata": {},
     "output_type": "display_data"
    },
    {
     "name": "stdout",
     "output_type": "stream",
     "text": [
      "Training model 1 / 1, Valid Index = 0, Train indices= [1, 2, 3, 4, 5, 6, 7, 8, 9]\n"
     ]
    },
    {
     "data": {
      "image/png": "[encoded data removed]",
      "text/plain": [
       "<Figure size 1024x576 with 4 Axes>"
      ]
     },
     "metadata": {},
     "output_type": "display_data"
    },
    {
     "data": {
      "text/html": [
       "\n",
       "    <div>\n",
       "        <style>\n",
       "            /* Turns off some styling */\n",
       "            progress {\n",
       "                /* gets rid of default border in Firefox and Opera. */\n",
       "                border: none;\n",
       "                /* Needs to be in here for Safari polyfill so background images work as expected. */\n",
       "                background-size: auto;\n",
       "            }\n",
       "            .progress-bar-interrupted, .progress-bar-interrupted::-webkit-progress-bar {\n",
       "                background: #F44336;\n",
       "            }\n",
       "        </style>\n",
       "      <progress value='0' class='progress-bar-interrupted' max='50', style='width:300px; height:20px; vertical-align: middle;'></progress>\n",
       "      Interrupted\n",
       "    </div>\n",
       "    "
      ],
      "text/plain": [
       "<IPython.core.display.HTML object>"
      ]
     },
     "metadata": {},
     "output_type": "display_data"
    },
    {
     "name": "stdout",
     "output_type": "stream",
     "text": [
      "Loading best model with metric value -8.166E-01\n",
      "Model took 2808.808s\n",
      "\n",
      "Scores are: {'loss': 0.18360772904227762, 'IOU': 0.8166255026769869}\n",
      "\n",
      "______________________________________\n",
      "Training finished\n",
      "Cross-validation took 2809.047s \n"
     ]
    },
    {
     "data": {
      "text/plain": [
       "<Figure size 1024x576 with 0 Axes>"
      ]
     },
     "metadata": {},
     "output_type": "display_data"
    },
    {
     "data": {
      "image/png": "[encoded data removed]",
      "text/plain": [
       "<Figure size 1024x576 with 1 Axes>"
      ]
     },
     "metadata": {},
     "output_type": "display_data"
    },
    {
     "data": {
      "image/png": "[encoded data removed]",
      "text/plain": [
       "<Figure size 1024x576 with 1 Axes>"
      ]
     },
     "metadata": {},
     "output_type": "display_data"
    },
    {
     "name": "stdout",
     "output_type": "stream",
     "text": [
      "Mean loss = 0.18360772904227762±0.0\n",
      "Mean IOU = 0.8166255026769869±0.0\n",
      "______________________________________\n",
      "\n"
     ]
    }
   ],
   "source": [
    "results = train_models(train_fy, n_models=1,\n",
    "                 model_builder=model_builder,\n",
    "                 bs=bs,\n",
    "                 cb_partials=cb_partials,\n",
    "                 metric_partials=metric_partials,\n",
    "                 bulk_move=False,\n",
    "                 n_epochs=n_epochs, savepath=Path(f'train_weights_{GPUID}'))"
   ]
  },
  {
   "cell_type": "markdown",
   "metadata": {},
   "source": [
    "## Validation\n",
    "Load and save trained model"
   ]
  },
  {
   "cell_type": "code",
   "execution_count": 23,
   "metadata": {},
   "outputs": [
    {
     "data": {
      "text/plain": [
       "([{'loss': 0.18360772904227762,\n",
       "   'IOU': 0.8166255026769869,\n",
       "   'path': Path('train_weights_0/model_id_0')}],\n",
       " [(OrderedDict([('Training',\n",
       "                 [0.9200628110856721,\n",
       "                  0.9061794281005859,\n",
       "                  0.8819790012908705,\n",
       "                  0.8079015395858071,\n",
       "                  0.7175129633961301,\n",
       "                  0.6510365804036459,\n",
       "                  0.5998946970159357,\n",
       "                  0.49660696947213373,\n",
       "                  0.3947974786613927,\n",
       "                  0.3561705098007665,\n",
       "                  0.32648271322250366,\n",
       "                  0.3063991503282027,\n",
       "                  0.2997051820610509,\n",
       "                  0.2945635716120402,\n",
       "                  0.28231399709528143,\n",
       "                  0.2784111192732146,\n",
       "                  0.27690374489986536,\n",
       "                  0.2691692980852994,\n",
       "                  0.26943007021239307,\n",
       "                  0.2608021136486169,\n",
       "                  0.26070642110073206,\n",
       "                  0.27290335387894604,\n",
       "                  0.2580564184622331,\n",
       "                  0.26127118414098566,\n",
       "                  0.2512120875445279,\n",
       "                  0.25500233968098956,\n",
       "                  0.25657949664376,\n",
       "                  0.2493231206229239,\n",
       "                  0.25062904755274457,\n",
       "                  0.2422723535335425,\n",
       "                  0.2489798032876217,\n",
       "                  0.2457397851076993,\n",
       "                  0.24434408635804147,\n",
       "                  0.24646672154917862,\n",
       "                  0.24366716905073685,\n",
       "                  0.24763248364130655,\n",
       "                  0.23958177277536102,\n",
       "                  0.2367101221373587,\n",
       "                  0.2354627667051373,\n",
       "                  0.23637577259179318,\n",
       "                  0.2341783299590602,\n",
       "                  0.2328948017322656,\n",
       "                  0.24054082415320657,\n",
       "                  0.23945285695971866,\n",
       "                  0.23180422096541434,\n",
       "                  0.23056659734610355,\n",
       "                  0.22883792357011276,\n",
       "                  0.23121956081101389,\n",
       "                  0.227868555170117,\n",
       "                  0.23273177580399948,\n",
       "                  0.229806844032172,\n",
       "                  0.2264898672248378,\n",
       "                  0.22616322654666324,\n",
       "                  0.2298677870721528,\n",
       "                  0.2264577349026998,\n",
       "                  0.22482388850414392,\n",
       "                  0.22890585660934448,\n",
       "                  0.22407570390990286,\n",
       "                  0.23005241697484796,\n",
       "                  0.22299752994017166,\n",
       "                  0.22481809601639258,\n",
       "                  0.21958802685593115,\n",
       "                  0.21988985213366422,\n",
       "                  0.21815111059131045,\n",
       "                  0.2181342009342078,\n",
       "                  0.2234535524339387,\n",
       "                  0.22266866763432822,\n",
       "                  0.22185466867504697,\n",
       "                  0.2213992223595128,\n",
       "                  0.2220829725265503,\n",
       "                  0.22456973791122437,\n",
       "                  0.22048894383690573,\n",
       "                  0.21640264987945557,\n",
       "                  0.22214900905435736,\n",
       "                  0.2235539790355798,\n",
       "                  0.21644235921628546,\n",
       "                  0.21724107590588657,\n",
       "                  0.21912931312214246,\n",
       "                  0.2184214573917967,\n",
       "                  0.21813937028249106,\n",
       "                  0.21893351367025665,\n",
       "                  0.21451817136822324,\n",
       "                  0.21735590154474432,\n",
       "                  0.2147117437738361,\n",
       "                  0.21404302662069147,\n",
       "                  0.21168861064043912,\n",
       "                  0.21504843776876276,\n",
       "                  0.22122284499081699,\n",
       "                  0.21458498817501645,\n",
       "                  0.21391021302252106,\n",
       "                  0.2116860349973043,\n",
       "                  0.2128637938788443,\n",
       "                  0.21571601701505255,\n",
       "                  0.21452704884789206,\n",
       "                  0.21542706272818826,\n",
       "                  0.2128074440089139,\n",
       "                  0.21166621735601715,\n",
       "                  0.2140784968029369,\n",
       "                  0.21354844172795615,\n",
       "                  0.21367173303257336,\n",
       "                  0.2183079015124928,\n",
       "                  0.21182268496715662,\n",
       "                  0.2112188574039575,\n",
       "                  0.2161357348615473,\n",
       "                  0.2133167837605332,\n",
       "                  0.21363353909868182,\n",
       "                  0.21454973473693384,\n",
       "                  0.2155536828619061,\n",
       "                  0.21211742993557092,\n",
       "                  0.21433784022475733,\n",
       "                  0.21621156280690973,\n",
       "                  0.2127547191851067,\n",
       "                  0.21303100477565418,\n",
       "                  0.21001230947899097,\n",
       "                  0.20967443242217554,\n",
       "                  0.21460077437487515,\n",
       "                  0.21395359978531348,\n",
       "                  0.21346008958238544,\n",
       "                  0.20900983160192316,\n",
       "                  0.2101990743116899,\n",
       "                  0.20807895877144553,\n",
       "                  0.21246042757323294,\n",
       "                  0.20985697796850494,\n",
       "                  0.20997817407954822,\n",
       "                  0.2063841928135265,\n",
       "                  0.20669306950135666,\n",
       "                  0.20544265617023816,\n",
       "                  0.21040066625132706,\n",
       "                  0.2078872864896601,\n",
       "                  0.20722890080827655,\n",
       "                  0.20808839797973633,\n",
       "                  0.20671500220443262,\n",
       "                  0.20486193172859424,\n",
       "                  0.20885423277363632,\n",
       "                  0.21072155417818011,\n",
       "                  0.208444255771059,\n",
       "                  0.20576497822096854,\n",
       "                  0.21243072459191986,\n",
       "                  0.20807708754683985,\n",
       "                  0.2102877732479211,\n",
       "                  0.20947266889340949,\n",
       "                  0.20586735732627637,\n",
       "                  0.2057575746016069,\n",
       "                  0.21207257292487405,\n",
       "                  0.20680048248984598,\n",
       "                  0.20431450822136618,\n",
       "                  0.21197569731510046,\n",
       "                  0.20706377607403378,\n",
       "                  0.20443006898417618,\n",
       "                  0.20788775790821423,\n",
       "                  0.20877842650269018,\n",
       "                  0.2061271830038591,\n",
       "                  0.20540955572417288,\n",
       "                  0.20858893791834512,\n",
       "                  0.20297578248110684,\n",
       "                  0.20381972284028024,\n",
       "                  0.20863669568842108,\n",
       "                  0.20571370558305221,\n",
       "                  0.20866242322054776,\n",
       "                  0.20207726955413818,\n",
       "                  0.2085208621892062,\n",
       "                  0.20783360257293237,\n",
       "                  0.2091627482211951,\n",
       "                  0.20572511716322464,\n",
       "                  0.20584386948383215,\n",
       "                  0.20621012377016473,\n",
       "                  0.20604164311380097,\n",
       "                  0.2068452708648913,\n",
       "                  0.2020814906467091,\n",
       "                  0.20562856486349396,\n",
       "                  0.20374251315087982,\n",
       "                  0.20695065187685419,\n",
       "                  0.20211269999995377,\n",
       "                  0.2024387608874928,\n",
       "                  0.20437225970354947,\n",
       "                  0.20678787701057666,\n",
       "                  0.2026347355409102,\n",
       "                  0.2048489162416169,\n",
       "                  0.20386644565697873,\n",
       "                  0.20420193310939905,\n",
       "                  0.2024477810570688,\n",
       "                  0.20678157698024402,\n",
       "                  0.20567120747132736,\n",
       "                  0.20173643213329892,\n",
       "                  0.20433714534297134,\n",
       "                  0.2033394304188815,\n",
       "                  0.2034394307570024,\n",
       "                  0.20265924749952374,\n",
       "                  0.20112363678036313,\n",
       "                  0.20389885974652838,\n",
       "                  0.19994173989151465,\n",
       "                  0.20199291272596878,\n",
       "                  0.20496259674881445,\n",
       "                  0.20736025318954932,\n",
       "                  0.20329777219078757,\n",
       "                  0.20540286555434717,\n",
       "                  0.2057163047068047,\n",
       "                  0.2044461893312859,\n",
       "                  0.20188931082234238,\n",
       "                  0.2054612130829782,\n",
       "                  0.2080504767822497,\n",
       "                  0.20213734742366907,\n",
       "                  0.20105736364017834,\n",
       "                  0.20157801201849274,\n",
       "                  0.19824681137547348,\n",
       "                  0.2041508067737926,\n",
       "                  0.1990670236674222,\n",
       "                  0.20380895426779083,\n",
       "                  0.20176634282776804,\n",
       "                  0.20482950138323236,\n",
       "                  0.20699661428278143,\n",
       "                  0.20193670735214697,\n",
       "                  0.20231900070652817,\n",
       "                  0.19993693539590546,\n",
       "                  0.20158330057606552,\n",
       "                  0.20092745260758835,\n",
       "                  0.2020865913593408,\n",
       "                  0.20213872555530432,\n",
       "                  0.20122667153676352,\n",
       "                  0.20117228320150665,\n",
       "                  0.19830912532228412,\n",
       "                  0.19930090506871542,\n",
       "                  0.20028828490864148,\n",
       "                  0.2009065837571115,\n",
       "                  0.1983222762743632,\n",
       "                  0.1985194610826897,\n",
       "                  0.19922663948752664,\n",
       "                  0.2006131446722782,\n",
       "                  0.20293006029996005,\n",
       "                  0.2015057368711992,\n",
       "                  0.19933333360787595,\n",
       "                  0.20133065816127893,\n",
       "                  0.19644815090930823,\n",
       "                  0.1989893028230378,\n",
       "                  0.19429189869851776,\n",
       "                  0.19765698006658844,\n",
       "                  0.19505309877973614,\n",
       "                  0.19631303440440784,\n",
       "                  0.2008261229052688,\n",
       "                  0.19958027745738174,\n",
       "                  0.20101399313319812,\n",
       "                  0.19799214601516724,\n",
       "                  0.19628057154742154,\n",
       "                  0.1961387052680507,\n",
       "                  0.19797643386956418,\n",
       "                  0.19621980009656964,\n",
       "                  0.1979889183333426,\n",
       "                  0.19924217281919537,\n",
       "                  0.19375971953074136,\n",
       "                  0.19891256455219153,\n",
       "                  0.19523089582269842,\n",
       "                  0.19728372494379678,\n",
       "                  0.19607948895656702,\n",
       "                  0.1968567299120354,\n",
       "                  0.19554688171906906,\n",
       "                  0.1958580342206088,\n",
       "                  0.19603211771358142,\n",
       "                  0.19762072960535684,\n",
       "                  0.19703725070664377,\n",
       "                  0.19539778340946545,\n",
       "                  0.19546902540958289,\n",
       "                  0.19456798921931873,\n",
       "                  0.1949605562470176,\n",
       "                  0.19545111692312991,\n",
       "                  0.19549566507339478,\n",
       "                  0.19775007529692215,\n",
       "                  0.1933885668263291,\n",
       "                  0.194775149677739,\n",
       "                  0.19487450339577414,\n",
       "                  0.19503162123940207,\n",
       "                  0.1938046451770898,\n",
       "                  0.19586341308824945,\n",
       "                  0.19453032992102884,\n",
       "                  0.1945617560184363,\n",
       "                  0.19205566608544553,\n",
       "                  0.19468317609844785,\n",
       "                  0.19603576443412088,\n",
       "                  0.19672337445345792,\n",
       "                  0.1932997956420436,\n",
       "                  0.19358365282867895,\n",
       "                  0.19360231450109772,\n",
       "                  0.19383199829043765,\n",
       "                  0.19433218601978186,\n",
       "                  0.19378367879173972,\n",
       "                  0.19624517361323038,\n",
       "                  0.195005709474737,\n",
       "                  0.1943879687424862,\n",
       "                  0.19520883849172882,\n",
       "                  0.1921125433661721,\n",
       "                  0.19467947338566635,\n",
       "                  0.19468371615265356,\n",
       "                  0.19347810564619122,\n",
       "                  0.19113923744721847,\n",
       "                  0.1923290364670031,\n",
       "                  0.19431431185115466,\n",
       "                  0.19193870009797992,\n",
       "                  0.19316573576493698,\n",
       "                  0.19179977250821661,\n",
       "                  0.19079248832933832,\n",
       "                  0.19311172673196503,\n",
       "                  0.1918526291847229,\n",
       "                  0.1909931284008604,\n",
       "                  0.1927787119692022,\n",
       "                  0.19253617705720844,\n",
       "                  0.1885561654061982,\n",
       "                  0.19028559236815482,\n",
       "                  0.19060196298541446,\n",
       "                  0.1900328632557031,\n",
       "                  0.19306021386926825,\n",
       "                  0.1913174968777281,\n",
       "                  0.19128876743894635,\n",
       "                  0.18942919463822336,\n",
       "                  0.19218499371499725,\n",
       "                  0.19233985741933188,\n",
       "                  0.18953199278224597,\n",
       "                  0.1888766848679745,\n",
       "                  0.19299825935652762,\n",
       "                  0.19157898606676044,\n",
       "                  0.1916366002776406,\n",
       "                  0.19126589009256073,\n",
       "                  0.18974412210059888,\n",
       "                  0.19105568437865286,\n",
       "                  0.19030005823482166,\n",
       "                  0.19116851416501132,\n",
       "                  0.1892659573843985,\n",
       "                  0.18950354330467456,\n",
       "                  0.19008948586203836,\n",
       "                  0.18843649011669736,\n",
       "                  0.18979866576917243,\n",
       "                  0.18590161836508548,\n",
       "                  0.18795207233139963,\n",
       "                  0.18713326707030786,\n",
       "                  0.18994318174593378,\n",
       "                  0.19230970108147824,\n",
       "                  0.18780378139380252,\n",
       "                  0.18859443339434537,\n",
       "                  0.18950556805639557,\n",
       "                  0.18845791347099072,\n",
       "                  0.18970010136113022,\n",
       "                  0.18891049515117297,\n",
       "                  0.18781142885034735,\n",
       "                  0.18582473559813065,\n",
       "                  0.18771779356580792,\n",
       "                  0.18883739818226208,\n",
       "                  0.1883556102261399,\n",
       "                  0.18743282556533813,\n",
       "                  0.19006035725275675,\n",
       "                  0.18535835815198493,\n",
       "                  0.1876672271526221,\n",
       "                  0.18412765950867624,\n",
       "                  0.1875432404604825,\n",
       "                  0.1879598769274625,\n",
       "                  0.18639117659944476,\n",
       "                  0.18577507951042868,\n",
       "                  0.18620254054214014,\n",
       "                  0.18781865004337195,\n",
       "                  0.18673258297371143,\n",
       "                  0.187005801634355,\n",
       "                  0.18769841302524914,\n",
       "                  0.18618726188486273,\n",
       "                  0.18660300247596973,\n",
       "                  0.18637447465549817,\n",
       "                  0.18848144646846887,\n",
       "                  0.18575424136537494,\n",
       "                  0.1850550915255691,\n",
       "                  0.1865293329412287,\n",
       "                  0.18584343700697928,\n",
       "                  0.18781449939265396,\n",
       "                  0.1866549253463745,\n",
       "                  0.18202210556377063,\n",
       "                  0.1871501442157861,\n",
       "                  0.18839321533838907,\n",
       "                  0.18585579503666272,\n",
       "                  0.18486728451468729,\n",
       "                  0.18888259114641132,\n",
       "                  0.18504752173568262,\n",
       "                  0.18538266600984515,\n",
       "                  0.1860880580815402,\n",
       "                  0.18514562917478156,\n",
       "                  0.1837221420172489,\n",
       "                  0.1811474778435447,\n",
       "                  0.18581060749111752,\n",
       "                  0.1848194364345435,\n",
       "                  0.1867961793234854,\n",
       "                  0.1866584871754502,\n",
       "                  0.18354828610564722,\n",
       "                  0.18401117758317428,\n",
       "                  0.186857080820835,\n",
       "                  0.1844241167559768,\n",
       "                  0.18560887286157318,\n",
       "                  0.18361009431607794,\n",
       "                  0.18300337141210382,\n",
       "                  0.1863435904184977,\n",
       "                  0.18644555590369485,\n",
       "                  0.18051697449250656,\n",
       "                  0.18646149382446753,\n",
       "                  0.1822206215424971,\n",
       "                  0.1853919769778396,\n",
       "                  0.18384678255427966,\n",
       "                  0.18396456855716128,\n",
       "                  0.18661348025004068,\n",
       "                  0.1831304051659324,\n",
       "                  0.1841675711400581,\n",
       "                  0.1832841941804597,\n",
       "                  0.18554526567459106,\n",
       "                  0.1830536542516766,\n",
       "                  0.18588115410371261,\n",
       "                  0.18202088276545206,\n",
       "                  0.18246082284233786,\n",
       "                  0.184273362159729,\n",
       "                  0.1832314260078199,\n",
       "                  0.18576132889949915,\n",
       "                  0.18246124729965674,\n",
       "                  0.18353978792826334,\n",
       "                  0.18237862081238718,\n",
       "                  0.18378701535138217,\n",
       "                  0.18423850969834762,\n",
       "                  0.1854048353252989,\n",
       "                  0.18297645539948434,\n",
       "                  0.17855986501231338,\n",
       "                  0.18228980086066507,\n",
       "                  0.18306493217294867,\n",
       "                  0.18454014171253552,\n",
       "                  0.1819614406787988,\n",
       "                  0.1828343543139371,\n",
       "                  0.1873285174369812,\n",
       "                  0.18545008970029425,\n",
       "                  0.18224977905100043,\n",
       "                  0.18334937998742767,\n",
       "                  0.18077057780641498,\n",
       "                  0.18193009586045236,\n",
       "                  0.1825526121890906,\n",
       "                  0.18312896020484692,\n",
       "                  0.18231871272578384,\n",
       "                  0.18352252967429883,\n",
       "                  0.18314153317249182,\n",
       "                  0.18390466588916202,\n",
       "                  0.18628593466498636,\n",
       "                  0.18322232094678012,\n",
       "                  0.18170697941924585,\n",
       "                  0.18338379715428207,\n",
       "                  0.1818308848323244,\n",
       "                  0.18361209378097998,\n",
       "                  0.18176173080097546,\n",
       "                  0.1836080081535108,\n",
       "                  0.1862770752473311,\n",
       "                  0.1830083222100229,\n",
       "                  0.1851252606420806,\n",
       "                  0.18192558577566437,\n",
       "                  0.18306875770742242]),\n",
       "                ('Validation',\n",
       "                 [0.42712461948394775,\n",
       "                  0.31286563242183013,\n",
       "                  0.24905448275453904,\n",
       "                  0.2563682829632479,\n",
       "                  0.23827607491437128,\n",
       "                  0.24953591472962322,\n",
       "                  0.24353839719996734,\n",
       "                  0.22779016284381642,\n",
       "                  0.2506149656632367,\n",
       "                  0.24274042949957006,\n",
       "                  0.24422557389034943,\n",
       "                  0.2229978249353521,\n",
       "                  0.21440717753242045,\n",
       "                  0.23938206364126766,\n",
       "                  0.26623516398317676,\n",
       "                  0.21663745536523707,\n",
       "                  0.22600167989730835,\n",
       "                  0.4253663140184739,\n",
       "                  0.2073993963353774,\n",
       "                  0.24418211158584147,\n",
       "                  0.22783443507026224,\n",
       "                  0.2190893011934617,\n",
       "                  0.23131046225042903,\n",
       "                  0.21514637855922475,\n",
       "                  0.24669899659998276,\n",
       "                  0.22845099428120783,\n",
       "                  0.19811459499246933,\n",
       "                  0.2101433557622573,\n",
       "                  0.24481589653912714,\n",
       "                  0.19443002518485575,\n",
       "                  0.1931925117969513,\n",
       "                  0.20892943529521718,\n",
       "                  0.19413256469894857,\n",
       "                  0.19804742581704082,\n",
       "                  0.207789866363301,\n",
       "                  0.19027026260600371,\n",
       "                  0.1894786463064306,\n",
       "                  0.18635472304680767,\n",
       "                  0.1863583273747388,\n",
       "                  0.1888994714793037,\n",
       "                  0.18739848978379192,\n",
       "                  0.18506553944419413,\n",
       "                  0.18502780619789572,\n",
       "                  0.18486726809950435,\n",
       "                  0.1850621735348421,\n",
       "                  0.18443559022510753,\n",
       "                  0.18391440195195816,\n",
       "                  0.18356008038801305,\n",
       "                  0.183705515721265,\n",
       "                  0.18360772904227762])]),\n",
       "   OrderedDict([('IOU',\n",
       "                 [0.5780521929297676,\n",
       "                  0.6888616063859003,\n",
       "                  0.7522426949801648,\n",
       "                  0.7449589776316979,\n",
       "                  0.7622484510717146,\n",
       "                  0.7515890069361805,\n",
       "                  0.7569529470703468,\n",
       "                  0.7725295318984311,\n",
       "                  0.7497693117630491,\n",
       "                  0.757480413869591,\n",
       "                  0.7559296798020362,\n",
       "                  0.7771705379913204,\n",
       "                  0.7860055373054339,\n",
       "                  0.7606856063819687,\n",
       "                  0.7336880397428421,\n",
       "                  0.7834947232945824,\n",
       "                  0.7742888845619538,\n",
       "                  0.5755027337914215,\n",
       "                  0.7927944269658196,\n",
       "                  0.755868805593744,\n",
       "                  0.7725114246603397,\n",
       "                  0.7807483990722117,\n",
       "                  0.7688892374582526,\n",
       "                  0.7850591213184891,\n",
       "                  0.75365245861384,\n",
       "                  0.7715253346018747,\n",
       "                  0.8021828894025558,\n",
       "                  0.7902484076335116,\n",
       "                  0.7551581070966792,\n",
       "                  0.8054142819595317,\n",
       "                  0.8070082285445251,\n",
       "                  0.7910321300017852,\n",
       "                  0.80575138259724,\n",
       "                  0.8020809730688874,\n",
       "                  0.792316278047127,\n",
       "                  0.8099221684043849,\n",
       "                  0.8108431205875136,\n",
       "                  0.8136472501095142,\n",
       "                  0.8137262936558495,\n",
       "                  0.8110483008140155,\n",
       "                  0.8127386032252493,\n",
       "                  0.8150517860587674,\n",
       "                  0.8151415912614159,\n",
       "                  0.8153812075488699,\n",
       "                  0.8149868646313192,\n",
       "                  0.8160496443990944,\n",
       "                  0.8162849339107472,\n",
       "                  0.8165600263330707,\n",
       "                  0.8164338564790781,\n",
       "                  0.8166255026769869])]))],\n",
       " [[]])"
      ]
     },
     "execution_count": 23,
     "metadata": {},
     "output_type": "execute_result"
    }
   ],
   "source": [
    "results"
   ]
  },
  {
   "cell_type": "code",
   "execution_count": 24,
   "metadata": {},
   "outputs": [
    {
     "name": "stdout",
     "output_type": "stream",
     "text": [
      "Choosing ensemble by loss\n"
     ]
    },
    {
     "data": {
      "text/html": [
       "\n",
       "    <div>\n",
       "        <style>\n",
       "            /* Turns off some styling */\n",
       "            progress {\n",
       "                /* gets rid of default border in Firefox and Opera. */\n",
       "                border: none;\n",
       "                /* Needs to be in here for Safari polyfill so background images work as expected. */\n",
       "                background-size: auto;\n",
       "            }\n",
       "            .progress-bar-interrupted, .progress-bar-interrupted::-webkit-progress-bar {\n",
       "                background: #F44336;\n",
       "            }\n",
       "        </style>\n",
       "      <progress value='1' class='' max='1', style='width:300px; height:20px; vertical-align: middle;'></progress>\n",
       "      100.00% [1/1 00:00<00:00]\n",
       "    </div>\n",
       "    "
      ],
      "text/plain": [
       "<IPython.core.display.HTML object>"
      ]
     },
     "metadata": {},
     "output_type": "display_data"
    },
    {
     "name": "stdout",
     "output_type": "stream",
     "text": [
      "Model 0 is 0 with loss = 0.18360772904227762\n"
     ]
    }
   ],
   "source": [
    "model = Ensemble.from_results(results[0], size=1, model_builder=model_builder)"
   ]
  },
  {
   "cell_type": "code",
   "execution_count": 42,
   "metadata": {},
   "outputs": [
    {
     "data": {
      "text/html": [
       "\n",
       "    <div>\n",
       "        <style>\n",
       "            /* Turns off some styling */\n",
       "            progress {\n",
       "                /* gets rid of default border in Firefox and Opera. */\n",
       "                border: none;\n",
       "                /* Needs to be in here for Safari polyfill so background images work as expected. */\n",
       "                background-size: auto;\n",
       "            }\n",
       "            .progress-bar-interrupted, .progress-bar-interrupted::-webkit-progress-bar {\n",
       "                background: #F44336;\n",
       "            }\n",
       "        </style>\n",
       "      <progress value='1' class='' max='1', style='width:300px; height:20px; vertical-align: middle;'></progress>\n",
       "      100.00% [1/1 00:00<00:00]\n",
       "    </div>\n",
       "    "
      ],
      "text/plain": [
       "<IPython.core.display.HTML object>"
      ]
     },
     "metadata": {},
     "output_type": "display_data"
    }
   ],
   "source": [
    "model.save('weights/unet-pixelshuffle_depth-encode_data-aug_gravnet_osa_f32_full/full')"
   ]
  },
  {
   "cell_type": "markdown",
   "metadata": {},
   "source": [
    "### No Aug\n",
    "Check IOU without data-aug"
   ]
  },
  {
   "cell_type": "code",
   "execution_count": 25,
   "metadata": {},
   "outputs": [],
   "source": [
    "val_fy = FoldYielder(PATH/'valid_lumin_full.hdf5')"
   ]
  },
  {
   "cell_type": "code",
   "execution_count": 26,
   "metadata": {},
   "outputs": [
    {
     "data": {
      "text/html": [
       "\n",
       "    <div>\n",
       "        <style>\n",
       "            /* Turns off some styling */\n",
       "            progress {\n",
       "                /* gets rid of default border in Firefox and Opera. */\n",
       "                border: none;\n",
       "                /* Needs to be in here for Safari polyfill so background images work as expected. */\n",
       "                background-size: auto;\n",
       "            }\n",
       "            .progress-bar-interrupted, .progress-bar-interrupted::-webkit-progress-bar {\n",
       "                background: #F44336;\n",
       "            }\n",
       "        </style>\n",
       "      <progress value='1' class='' max='1', style='width:300px; height:20px; vertical-align: middle;'></progress>\n",
       "      100.00% [1/1 00:03<00:00]\n",
       "    </div>\n",
       "    "
      ],
      "text/plain": [
       "<IPython.core.display.HTML object>"
      ]
     },
     "metadata": {},
     "output_type": "display_data"
    }
   ],
   "source": [
    "preds = model.predict(val_fy.get_column('matrix_inputs'), bs=512)"
   ]
  },
  {
   "cell_type": "code",
   "execution_count": 27,
   "metadata": {},
   "outputs": [],
   "source": [
    "targs = val_fy.get_column('targets')"
   ]
  },
  {
   "cell_type": "code",
   "execution_count": 28,
   "metadata": {},
   "outputs": [
    {
     "data": {
      "text/plain": [
       "0.8159929247710747"
      ]
     },
     "execution_count": 28,
     "metadata": {},
     "output_type": "execute_result"
    }
   ],
   "source": [
    "binary_iou(preds>=0.5, targs)"
   ]
  },
  {
   "cell_type": "code",
   "execution_count": 29,
   "metadata": {},
   "outputs": [
    {
     "data": {
      "text/plain": [
       "array([[0.77941176],\n",
       "       [0.76712329],\n",
       "       [0.72463768],\n",
       "       ...,\n",
       "       [0.75      ],\n",
       "       [0.89      ],\n",
       "       [0.81481481]])"
      ]
     },
     "execution_count": 29,
     "metadata": {},
     "output_type": "execute_result"
    }
   ],
   "source": [
    "ious = binary_iou(preds>=0.5, targs, as_mean=False)\n",
    "ious"
   ]
  },
  {
   "cell_type": "code",
   "execution_count": 30,
   "metadata": {},
   "outputs": [
    {
     "data": {
      "text/plain": [
       "(21226, 10)"
      ]
     },
     "execution_count": 30,
     "metadata": {},
     "output_type": "execute_result"
    }
   ],
   "source": [
    "cuts = np.arange(0.5,1,0.05)\n",
    "sample_scores = ious>=cuts\n",
    "sample_scores.shape"
   ]
  },
  {
   "cell_type": "code",
   "execution_count": 31,
   "metadata": {},
   "outputs": [
    {
     "data": {
      "text/plain": [
       "(0.6790869688118345, 0.625955155843354)"
      ]
     },
     "execution_count": 31,
     "metadata": {},
     "output_type": "execute_result"
    }
   ],
   "source": [
    "sample_scores.mean(), ((sample_scores*cuts).sum(1)/(cuts.sum())).mean()"
   ]
  },
  {
   "cell_type": "markdown",
   "metadata": {},
   "source": [
    "### Test Aug\n",
    "Check score with test-time data aug"
   ]
  },
  {
   "cell_type": "code",
   "execution_count": 32,
   "metadata": {},
   "outputs": [],
   "source": [
    "val_fy = AugFoldYielder(PATH/'valid_lumin_full.hdf5')"
   ]
  },
  {
   "cell_type": "markdown",
   "metadata": {},
   "source": [
    "Take mean prediction over each augmentation, after mapping predictions back to original view"
   ]
  },
  {
   "cell_type": "code",
   "execution_count": 33,
   "metadata": {},
   "outputs": [],
   "source": [
    "def get_aug_preds(fy:AugFoldYielder, model:Union[Model, Ensemble], bs:Optional[int]=512) -> np.ndarray:\n",
    "    preds = []\n",
    "    for aug in (mb:=master_bar(range(fy.aug_mult))):\n",
    "        fpreds = []\n",
    "        for fld in progress_bar(range(len(fy)), parent=mb):\n",
    "            fpreds.append(model._predict_array(fy.get_test_fold(fld, aug)['inputs'], parent_bar=None, display=False, bs=bs))\n",
    "\n",
    "        fpreds = np.vstack(fpreds).reshape(-1,*fy.matrix_shape)\n",
    "        if aug >= 4: fpreds = np.flip(fpreds, -2)\n",
    "        fpreds = np.rot90(fpreds, -(aug%4), (-1,-2))\n",
    "\n",
    "        preds.append(fpreds.reshape(len(fpreds), -1))\n",
    "    return np.mean(preds, 0)"
   ]
  },
  {
   "cell_type": "code",
   "execution_count": 34,
   "metadata": {
    "scrolled": false
   },
   "outputs": [
    {
     "data": {
      "text/html": [],
      "text/plain": [
       "<IPython.core.display.HTML object>"
      ]
     },
     "metadata": {},
     "output_type": "display_data"
    }
   ],
   "source": [
    "preds = get_aug_preds(val_fy, model)"
   ]
  },
  {
   "cell_type": "code",
   "execution_count": 35,
   "metadata": {},
   "outputs": [],
   "source": [
    "targs = val_fy.get_column('targets')"
   ]
  },
  {
   "cell_type": "code",
   "execution_count": 36,
   "metadata": {
    "scrolled": true
   },
   "outputs": [
    {
     "data": {
      "text/plain": [
       "0.8181025807218392"
      ]
     },
     "execution_count": 36,
     "metadata": {},
     "output_type": "execute_result"
    }
   ],
   "source": [
    "binary_iou((preds>=0.5).astype('int'), targs)"
   ]
  },
  {
   "cell_type": "code",
   "execution_count": 37,
   "metadata": {},
   "outputs": [
    {
     "data": {
      "text/plain": [
       "array([[0.76811594],\n",
       "       [0.76712329],\n",
       "       [0.71014493],\n",
       "       ...,\n",
       "       [0.6875    ],\n",
       "       [0.84      ],\n",
       "       [0.81481481]])"
      ]
     },
     "execution_count": 37,
     "metadata": {},
     "output_type": "execute_result"
    }
   ],
   "source": [
    "ious = binary_iou(preds>=0.5, targs, as_mean=False)\n",
    "ious"
   ]
  },
  {
   "cell_type": "code",
   "execution_count": 38,
   "metadata": {},
   "outputs": [
    {
     "data": {
      "text/plain": [
       "(21226, 10)"
      ]
     },
     "execution_count": 38,
     "metadata": {},
     "output_type": "execute_result"
    }
   ],
   "source": [
    "cuts = np.arange(0.5,1,0.05)\n",
    "sample_scores = ious>=cuts\n",
    "sample_scores.shape"
   ]
  },
  {
   "cell_type": "code",
   "execution_count": 39,
   "metadata": {},
   "outputs": [
    {
     "data": {
      "text/plain": [
       "(0.6827758409497786, 0.6299531803870985)"
      ]
     },
     "execution_count": 39,
     "metadata": {},
     "output_type": "execute_result"
    }
   ],
   "source": [
    "sample_scores.mean(), ((sample_scores*cuts).sum(1)/(cuts.sum())).mean()"
   ]
  },
  {
   "cell_type": "code",
   "execution_count": 40,
   "metadata": {},
   "outputs": [],
   "source": [
    "def plot_preds(x0:np.ndarray, targ:np.ndarray, cut:float=0.5) -> None:\n",
    "    n_layers = x0.shape[0]\n",
    "    fig, axs = plt.subplots(3, n_layers, figsize=(10*16/9, 8))\n",
    "\n",
    "    for layer in range(n_layers-1,-1,-1):\n",
    "        sns.heatmap(x0[layer], ax=axs[0,n_layers-layer-1], vmin=np.nanmin(x0), vmax=np.nanmax(x0), cbar=None, square=True, cmap='viridis')\n",
    "        sns.heatmap(x0[layer]>=cut, ax=axs[1,n_layers-layer-1], vmin=0, vmax=1, cbar=None, square=True, cmap='viridis')\n",
    "        sns.heatmap(targ[layer], ax=axs[2,n_layers-layer-1], vmin=0, vmax=1, cbar=None, square=True, cmap='viridis')\n",
    "        axs[1,n_layers-layer-1].set_xlabel(f\"Layer {layer}\")\n",
    "    axs[0,0].set_ylabel(\"Output\")\n",
    "    axs[1,0].set_ylabel(\"Pred class\")\n",
    "    axs[2,0].set_ylabel(\"Target class\")\n",
    "    plt.show()"
   ]
  },
  {
   "cell_type": "code",
   "execution_count": 41,
   "metadata": {
    "scrolled": false
   },
   "outputs": [
    {
     "data": {
      "image/png": "[encoded data removed]",
      "text/plain": [
       "<Figure size 1280x576 with 30 Axes>"
      ]
     },
     "metadata": {
      "needs_background": "light"
     },
     "output_type": "display_data"
    },
    {
     "data": {
      "image/png": "[encoded data removed]",
      "text/plain": [
       "<Figure size 1280x576 with 30 Axes>"
      ]
     },
     "metadata": {
      "needs_background": "light"
     },
     "output_type": "display_data"
    },
    {
     "data": {
      "image/png": "[encoded data removed]",
      "text/plain": [
       "<Figure size 1280x576 with 30 Axes>"
      ]
     },
     "metadata": {
      "needs_background": "light"
     },
     "output_type": "display_data"
    },
    {
     "data": {
      "image/png": "[encoded data removed]",
      "text/plain": [
       "<Figure size 1280x576 with 30 Axes>"
      ]
     },
     "metadata": {
      "needs_background": "light"
     },
     "output_type": "display_data"
    },
    {
     "data": {
      "image/png": "[encoded data removed]",
      "text/plain": [
       "<Figure size 1280x576 with 30 Axes>"
      ]
     },
     "metadata": {
      "needs_background": "light"
     },
     "output_type": "display_data"
    }
   ],
   "source": [
    "for idx in range(5):\n",
    "    plot_preds(preds[idx].reshape(10,10,10), targs[idx].reshape(10,10,10))"
   ]
  },
  {
   "cell_type": "markdown",
   "metadata": {},
   "source": [
    "# Test sub"
   ]
  },
  {
   "cell_type": "code",
   "execution_count": 43,
   "metadata": {},
   "outputs": [],
   "source": [
    "tst_fy = AugFoldYielder(PATH/'test_lumin.hdf5')"
   ]
  },
  {
   "cell_type": "code",
   "execution_count": 44,
   "metadata": {},
   "outputs": [
    {
     "data": {
      "text/html": [],
      "text/plain": [
       "<IPython.core.display.HTML object>"
      ]
     },
     "metadata": {},
     "output_type": "display_data"
    }
   ],
   "source": [
    "tst_preds = get_aug_preds(tst_fy, model, bs=512)"
   ]
  },
  {
   "cell_type": "code",
   "execution_count": 45,
   "metadata": {},
   "outputs": [
    {
     "data": {
      "text/plain": [
       "(30036, 1000)"
      ]
     },
     "execution_count": 45,
     "metadata": {},
     "output_type": "execute_result"
    }
   ],
   "source": [
    "tst_preds.shape"
   ]
  },
  {
   "cell_type": "code",
   "execution_count": 46,
   "metadata": {},
   "outputs": [],
   "source": [
    "class_preds = (tst_preds>0.5).astype('int').reshape(len(tst_preds),10,10,10)"
   ]
  },
  {
   "cell_type": "code",
   "execution_count": 47,
   "metadata": {},
   "outputs": [
    {
     "data": {
      "text/plain": [
       "array([[[[0, 0, 0, ..., 0, 0, 0],\n",
       "         [0, 0, 0, ..., 0, 0, 0],\n",
       "         [0, 0, 0, ..., 0, 0, 0],\n",
       "         ...,\n",
       "         [0, 0, 0, ..., 0, 0, 0],\n",
       "         [0, 0, 0, ..., 0, 0, 0],\n",
       "         [0, 0, 0, ..., 0, 0, 0]],\n",
       "\n",
       "        [[0, 0, 0, ..., 0, 0, 0],\n",
       "         [0, 0, 0, ..., 0, 0, 0],\n",
       "         [0, 0, 0, ..., 0, 0, 0],\n",
       "         ...,\n",
       "         [0, 0, 0, ..., 0, 0, 0],\n",
       "         [0, 0, 0, ..., 0, 0, 0],\n",
       "         [0, 0, 0, ..., 0, 0, 0]],\n",
       "\n",
       "        [[0, 0, 0, ..., 0, 0, 0],\n",
       "         [0, 0, 0, ..., 0, 0, 0],\n",
       "         [0, 0, 0, ..., 0, 0, 0],\n",
       "         ...,\n",
       "         [0, 0, 0, ..., 0, 0, 0],\n",
       "         [0, 0, 0, ..., 0, 0, 0],\n",
       "         [0, 0, 0, ..., 0, 0, 0]],\n",
       "\n",
       "        ...,\n",
       "\n",
       "        [[0, 0, 0, ..., 0, 0, 1],\n",
       "         [0, 0, 0, ..., 0, 0, 1],\n",
       "         [0, 0, 0, ..., 1, 0, 1],\n",
       "         ...,\n",
       "         [0, 0, 0, ..., 0, 0, 0],\n",
       "         [0, 0, 0, ..., 0, 0, 0],\n",
       "         [0, 0, 0, ..., 0, 0, 0]],\n",
       "\n",
       "        [[0, 0, 0, ..., 0, 0, 1],\n",
       "         [0, 0, 0, ..., 0, 0, 1],\n",
       "         [0, 0, 0, ..., 1, 0, 1],\n",
       "         ...,\n",
       "         [0, 0, 0, ..., 0, 0, 0],\n",
       "         [0, 0, 0, ..., 0, 0, 0],\n",
       "         [0, 0, 0, ..., 0, 0, 0]],\n",
       "\n",
       "        [[0, 0, 0, ..., 0, 0, 0],\n",
       "         [0, 0, 0, ..., 0, 0, 0],\n",
       "         [0, 0, 0, ..., 0, 0, 0],\n",
       "         ...,\n",
       "         [0, 0, 0, ..., 0, 0, 0],\n",
       "         [0, 0, 0, ..., 0, 0, 0],\n",
       "         [0, 0, 0, ..., 0, 0, 0]]],\n",
       "\n",
       "\n",
       "       [[[0, 0, 0, ..., 0, 0, 0],\n",
       "         [0, 0, 0, ..., 0, 0, 0],\n",
       "         [0, 0, 0, ..., 0, 0, 0],\n",
       "         ...,\n",
       "         [0, 0, 0, ..., 0, 0, 0],\n",
       "         [0, 0, 0, ..., 0, 0, 0],\n",
       "         [0, 0, 0, ..., 0, 0, 0]],\n",
       "\n",
       "        [[0, 0, 0, ..., 0, 0, 0],\n",
       "         [0, 0, 0, ..., 0, 0, 0],\n",
       "         [0, 0, 0, ..., 0, 0, 0],\n",
       "         ...,\n",
       "         [0, 0, 0, ..., 0, 0, 0],\n",
       "         [0, 0, 0, ..., 0, 0, 0],\n",
       "         [0, 0, 0, ..., 0, 0, 0]],\n",
       "\n",
       "        [[0, 0, 0, ..., 0, 0, 0],\n",
       "         [0, 0, 0, ..., 0, 0, 0],\n",
       "         [0, 0, 0, ..., 0, 0, 0],\n",
       "         ...,\n",
       "         [0, 0, 0, ..., 0, 0, 0],\n",
       "         [0, 0, 0, ..., 0, 0, 0],\n",
       "         [0, 0, 0, ..., 0, 0, 0]],\n",
       "\n",
       "        ...,\n",
       "\n",
       "        [[0, 0, 0, ..., 0, 0, 0],\n",
       "         [1, 0, 0, ..., 0, 0, 0],\n",
       "         [1, 0, 0, ..., 0, 0, 1],\n",
       "         ...,\n",
       "         [0, 0, 0, ..., 0, 0, 1],\n",
       "         [0, 0, 0, ..., 0, 0, 0],\n",
       "         [0, 0, 0, ..., 0, 0, 0]],\n",
       "\n",
       "        [[0, 0, 0, ..., 0, 0, 0],\n",
       "         [1, 0, 0, ..., 0, 0, 0],\n",
       "         [1, 0, 0, ..., 0, 0, 1],\n",
       "         ...,\n",
       "         [0, 0, 0, ..., 0, 0, 1],\n",
       "         [0, 0, 0, ..., 0, 0, 0],\n",
       "         [0, 0, 0, ..., 0, 0, 0]],\n",
       "\n",
       "        [[0, 0, 0, ..., 0, 0, 0],\n",
       "         [0, 0, 0, ..., 0, 0, 0],\n",
       "         [0, 0, 0, ..., 0, 0, 0],\n",
       "         ...,\n",
       "         [0, 0, 0, ..., 0, 0, 0],\n",
       "         [0, 0, 0, ..., 0, 0, 0],\n",
       "         [0, 0, 0, ..., 0, 0, 0]]],\n",
       "\n",
       "\n",
       "       [[[0, 0, 0, ..., 0, 0, 0],\n",
       "         [0, 0, 0, ..., 0, 0, 0],\n",
       "         [0, 0, 0, ..., 0, 0, 0],\n",
       "         ...,\n",
       "         [0, 0, 0, ..., 0, 0, 0],\n",
       "         [0, 0, 0, ..., 0, 0, 0],\n",
       "         [0, 0, 0, ..., 0, 0, 0]],\n",
       "\n",
       "        [[0, 0, 0, ..., 0, 0, 0],\n",
       "         [0, 0, 0, ..., 1, 0, 0],\n",
       "         [1, 1, 0, ..., 1, 0, 0],\n",
       "         ...,\n",
       "         [0, 0, 1, ..., 1, 0, 0],\n",
       "         [0, 0, 0, ..., 1, 0, 0],\n",
       "         [0, 0, 0, ..., 1, 0, 0]],\n",
       "\n",
       "        [[0, 0, 0, ..., 0, 0, 0],\n",
       "         [0, 0, 0, ..., 1, 0, 0],\n",
       "         [1, 1, 0, ..., 1, 0, 0],\n",
       "         ...,\n",
       "         [0, 0, 1, ..., 1, 0, 0],\n",
       "         [0, 0, 0, ..., 1, 0, 0],\n",
       "         [0, 0, 0, ..., 1, 0, 0]],\n",
       "\n",
       "        ...,\n",
       "\n",
       "        [[0, 0, 0, ..., 0, 0, 0],\n",
       "         [0, 0, 0, ..., 0, 0, 0],\n",
       "         [1, 1, 0, ..., 0, 0, 0],\n",
       "         ...,\n",
       "         [0, 0, 0, ..., 0, 0, 0],\n",
       "         [0, 0, 0, ..., 0, 0, 0],\n",
       "         [0, 0, 0, ..., 0, 0, 0]],\n",
       "\n",
       "        [[0, 0, 0, ..., 0, 0, 0],\n",
       "         [0, 0, 0, ..., 0, 0, 0],\n",
       "         [0, 0, 0, ..., 0, 0, 0],\n",
       "         ...,\n",
       "         [0, 0, 0, ..., 0, 0, 0],\n",
       "         [0, 0, 0, ..., 0, 0, 0],\n",
       "         [0, 0, 0, ..., 0, 0, 0]],\n",
       "\n",
       "        [[0, 0, 0, ..., 0, 0, 0],\n",
       "         [0, 0, 0, ..., 0, 0, 0],\n",
       "         [0, 0, 0, ..., 0, 0, 0],\n",
       "         ...,\n",
       "         [0, 0, 0, ..., 0, 0, 0],\n",
       "         [0, 0, 0, ..., 0, 0, 0],\n",
       "         [0, 0, 0, ..., 0, 0, 0]]],\n",
       "\n",
       "\n",
       "       ...,\n",
       "\n",
       "\n",
       "       [[[0, 0, 0, ..., 0, 0, 0],\n",
       "         [0, 0, 0, ..., 0, 0, 0],\n",
       "         [0, 0, 0, ..., 0, 0, 0],\n",
       "         ...,\n",
       "         [0, 0, 0, ..., 0, 0, 0],\n",
       "         [0, 0, 0, ..., 0, 0, 0],\n",
       "         [0, 0, 0, ..., 0, 0, 0]],\n",
       "\n",
       "        [[0, 0, 0, ..., 0, 0, 0],\n",
       "         [0, 0, 0, ..., 0, 0, 0],\n",
       "         [0, 0, 0, ..., 0, 0, 0],\n",
       "         ...,\n",
       "         [0, 0, 0, ..., 0, 0, 0],\n",
       "         [0, 0, 0, ..., 0, 0, 0],\n",
       "         [0, 0, 0, ..., 0, 0, 0]],\n",
       "\n",
       "        [[0, 0, 0, ..., 0, 0, 0],\n",
       "         [0, 0, 0, ..., 0, 0, 0],\n",
       "         [0, 0, 0, ..., 0, 0, 0],\n",
       "         ...,\n",
       "         [0, 0, 0, ..., 0, 0, 0],\n",
       "         [0, 0, 0, ..., 0, 0, 0],\n",
       "         [0, 0, 0, ..., 0, 0, 0]],\n",
       "\n",
       "        ...,\n",
       "\n",
       "        [[0, 0, 0, ..., 0, 0, 0],\n",
       "         [0, 0, 0, ..., 0, 0, 0],\n",
       "         [0, 0, 0, ..., 0, 0, 0],\n",
       "         ...,\n",
       "         [0, 0, 0, ..., 0, 0, 0],\n",
       "         [0, 0, 0, ..., 0, 0, 0],\n",
       "         [0, 0, 0, ..., 0, 0, 0]],\n",
       "\n",
       "        [[0, 0, 0, ..., 0, 0, 0],\n",
       "         [0, 0, 0, ..., 0, 0, 0],\n",
       "         [0, 0, 0, ..., 0, 0, 0],\n",
       "         ...,\n",
       "         [0, 0, 0, ..., 0, 0, 0],\n",
       "         [0, 0, 0, ..., 0, 0, 0],\n",
       "         [0, 0, 0, ..., 0, 0, 0]],\n",
       "\n",
       "        [[0, 0, 0, ..., 0, 0, 0],\n",
       "         [0, 0, 0, ..., 0, 0, 0],\n",
       "         [0, 0, 0, ..., 0, 0, 0],\n",
       "         ...,\n",
       "         [0, 0, 0, ..., 0, 0, 0],\n",
       "         [0, 0, 0, ..., 0, 0, 0],\n",
       "         [0, 0, 0, ..., 0, 0, 0]]],\n",
       "\n",
       "\n",
       "       [[[0, 0, 0, ..., 0, 0, 0],\n",
       "         [0, 0, 0, ..., 0, 0, 0],\n",
       "         [0, 0, 0, ..., 0, 0, 0],\n",
       "         ...,\n",
       "         [0, 1, 1, ..., 0, 0, 0],\n",
       "         [1, 1, 1, ..., 0, 0, 0],\n",
       "         [0, 0, 0, ..., 0, 0, 0]],\n",
       "\n",
       "        [[0, 0, 0, ..., 0, 0, 0],\n",
       "         [0, 0, 0, ..., 0, 0, 0],\n",
       "         [0, 0, 0, ..., 0, 0, 0],\n",
       "         ...,\n",
       "         [0, 1, 1, ..., 0, 0, 0],\n",
       "         [1, 1, 1, ..., 0, 0, 0],\n",
       "         [0, 0, 0, ..., 0, 0, 0]],\n",
       "\n",
       "        [[0, 0, 0, ..., 0, 0, 0],\n",
       "         [0, 0, 0, ..., 0, 0, 0],\n",
       "         [0, 0, 0, ..., 0, 0, 0],\n",
       "         ...,\n",
       "         [0, 1, 1, ..., 0, 0, 0],\n",
       "         [1, 1, 1, ..., 0, 0, 0],\n",
       "         [0, 0, 0, ..., 0, 0, 0]],\n",
       "\n",
       "        ...,\n",
       "\n",
       "        [[0, 0, 0, ..., 0, 0, 0],\n",
       "         [0, 0, 0, ..., 0, 0, 0],\n",
       "         [0, 0, 0, ..., 0, 0, 0],\n",
       "         ...,\n",
       "         [0, 0, 0, ..., 0, 0, 0],\n",
       "         [0, 0, 0, ..., 0, 0, 0],\n",
       "         [0, 0, 0, ..., 0, 0, 0]],\n",
       "\n",
       "        [[0, 0, 0, ..., 0, 0, 0],\n",
       "         [0, 0, 0, ..., 0, 0, 0],\n",
       "         [0, 0, 0, ..., 0, 0, 0],\n",
       "         ...,\n",
       "         [0, 0, 0, ..., 0, 0, 0],\n",
       "         [0, 0, 0, ..., 0, 0, 0],\n",
       "         [0, 0, 0, ..., 0, 0, 0]],\n",
       "\n",
       "        [[0, 0, 0, ..., 0, 0, 0],\n",
       "         [0, 0, 0, ..., 0, 0, 0],\n",
       "         [0, 0, 0, ..., 0, 0, 0],\n",
       "         ...,\n",
       "         [0, 0, 0, ..., 0, 0, 0],\n",
       "         [0, 0, 0, ..., 0, 0, 0],\n",
       "         [0, 0, 0, ..., 0, 0, 0]]],\n",
       "\n",
       "\n",
       "       [[[0, 0, 0, ..., 0, 0, 0],\n",
       "         [0, 0, 0, ..., 0, 0, 0],\n",
       "         [0, 0, 0, ..., 0, 0, 0],\n",
       "         ...,\n",
       "         [0, 0, 0, ..., 0, 0, 0],\n",
       "         [0, 0, 0, ..., 0, 0, 0],\n",
       "         [0, 0, 0, ..., 0, 0, 0]],\n",
       "\n",
       "        [[0, 0, 0, ..., 0, 0, 0],\n",
       "         [0, 0, 0, ..., 0, 0, 0],\n",
       "         [0, 0, 0, ..., 0, 0, 0],\n",
       "         ...,\n",
       "         [0, 0, 0, ..., 0, 0, 0],\n",
       "         [0, 0, 0, ..., 0, 0, 0],\n",
       "         [0, 0, 0, ..., 0, 0, 0]],\n",
       "\n",
       "        [[0, 0, 0, ..., 0, 0, 0],\n",
       "         [0, 0, 0, ..., 0, 0, 0],\n",
       "         [0, 0, 0, ..., 0, 0, 0],\n",
       "         ...,\n",
       "         [0, 0, 0, ..., 0, 0, 0],\n",
       "         [0, 0, 0, ..., 0, 0, 0],\n",
       "         [0, 0, 0, ..., 0, 0, 0]],\n",
       "\n",
       "        ...,\n",
       "\n",
       "        [[0, 0, 0, ..., 0, 0, 0],\n",
       "         [0, 0, 0, ..., 0, 0, 0],\n",
       "         [0, 0, 0, ..., 0, 0, 0],\n",
       "         ...,\n",
       "         [0, 0, 0, ..., 0, 0, 0],\n",
       "         [0, 0, 0, ..., 0, 0, 0],\n",
       "         [0, 0, 0, ..., 0, 0, 0]],\n",
       "\n",
       "        [[0, 0, 0, ..., 0, 0, 0],\n",
       "         [0, 0, 0, ..., 0, 0, 0],\n",
       "         [0, 0, 0, ..., 0, 0, 0],\n",
       "         ...,\n",
       "         [0, 0, 0, ..., 0, 0, 0],\n",
       "         [0, 0, 0, ..., 0, 0, 0],\n",
       "         [0, 0, 0, ..., 0, 0, 0]],\n",
       "\n",
       "        [[0, 0, 0, ..., 0, 0, 0],\n",
       "         [0, 0, 0, ..., 0, 0, 0],\n",
       "         [0, 0, 0, ..., 0, 0, 0],\n",
       "         ...,\n",
       "         [0, 0, 0, ..., 0, 0, 0],\n",
       "         [0, 0, 0, ..., 0, 0, 0],\n",
       "         [0, 0, 0, ..., 0, 0, 0]]]])"
      ]
     },
     "execution_count": 47,
     "metadata": {},
     "output_type": "execute_result"
    }
   ],
   "source": [
    "class_preds"
   ]
  },
  {
   "cell_type": "code",
   "execution_count": 48,
   "metadata": {},
   "outputs": [
    {
     "data": {
      "text/plain": [
       "(30036, 10, 10, 10)"
      ]
     },
     "execution_count": 48,
     "metadata": {},
     "output_type": "execute_result"
    }
   ],
   "source": [
    "class_preds.shape"
   ]
  },
  {
   "cell_type": "code",
   "execution_count": 49,
   "metadata": {},
   "outputs": [],
   "source": [
    "with h5py.File(f'GILES_STRONG_ID02_test_preds.h5', 'w') as h5:\n",
    "    h5.create_dataset(\"preds\", data=class_preds.astype(\"int\"), dtype=\"int\", compression='lzf')"
   ]
  },
  {
   "cell_type": "code",
   "execution_count": null,
   "metadata": {},
   "outputs": [],
   "source": []
  }
 ],
 "metadata": {
  "kernelspec": {
   "display_name": "Python 3",
   "language": "python",
   "name": "python3"
  },
  "language_info": {
   "codemirror_mode": {
    "name": "ipython",
    "version": 3
   },
   "file_extension": ".py",
   "mimetype": "text/x-python",
   "name": "python",
   "nbconvert_exporter": "python",
   "pygments_lexer": "ipython3",
   "version": "3.8.8"
  },
  "toc": {
   "base_numbering": 1,
   "nav_menu": {},
   "number_sections": true,
   "sideBar": true,
   "skip_h1_title": false,
   "title_cell": "Table of Contents",
   "title_sidebar": "Contents",
   "toc_cell": false,
   "toc_position": {},
   "toc_section_display": true,
   "toc_window_display": false
  }
 },
 "nbformat": 4,
 "nbformat_minor": 2
}
